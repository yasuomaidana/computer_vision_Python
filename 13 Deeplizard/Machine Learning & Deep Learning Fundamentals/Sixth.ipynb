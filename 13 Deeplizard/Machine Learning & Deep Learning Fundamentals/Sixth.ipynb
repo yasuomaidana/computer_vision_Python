{
 "cells": [
  {
   "cell_type": "code",
   "execution_count": 19,
   "metadata": {},
   "outputs": [],
   "source": [
    "from __future__ import print_function\n",
    "\n",
    "import time\n",
    "import numpy as np\n",
    "from PIL import Image as pil_image\n",
    "from keras.models import Sequential\n",
    "from keras.layers import Activation\n",
    "from keras.layers.core import Dense,Flatten\n",
    "from keras.layers.convolutional import *\n",
    "from keras import regularizers\n",
    "from keras.optimizers import Adam"
   ]
  },
  {
   "cell_type": "markdown",
   "metadata": {},
   "source": [
    "https://www.tutorialspoint.com/jupyter/jupyter_notebook_markdown_cells.htm"
   ]
  },
  {
   "cell_type": "code",
   "execution_count": 7,
   "metadata": {},
   "outputs": [
    {
     "name": "stdout",
     "output_type": "stream",
     "text": [
      "Model: \"sequential_3\"\n",
      "_________________________________________________________________\n",
      "Layer (type)                 Output Shape              Param #   \n",
      "=================================================================\n",
      "dense_5 (Dense)              (None, 20, 20, 16)        64        \n",
      "_________________________________________________________________\n",
      "conv2d_7 (Conv2D)            (None, 18, 18, 32)        4640      \n",
      "_________________________________________________________________\n",
      "conv2d_8 (Conv2D)            (None, 14, 14, 64)        51264     \n",
      "_________________________________________________________________\n",
      "conv2d_9 (Conv2D)            (None, 8, 8, 128)         401536    \n",
      "_________________________________________________________________\n",
      "flatten_3 (Flatten)          (None, 8192)              0         \n",
      "_________________________________________________________________\n",
      "dense_6 (Dense)              (None, 2)                 16386     \n",
      "=================================================================\n",
      "Total params: 473,890\n",
      "Trainable params: 473,890\n",
      "Non-trainable params: 0\n",
      "_________________________________________________________________\n"
     ]
    }
   ],
   "source": [
    "# With out zero padding\n",
    "model = Sequential([\n",
    "    Dense(16, activation='relu', input_shape=(20,20,3)),\n",
    "    Conv2D(32,kernel_size=(3,3),activation='relu',padding='valid'),\n",
    "    Conv2D(64,kernel_size=(5,5),activation='relu',padding='valid'),\n",
    "    Conv2D(128,kernel_size=(7,7),activation='relu',padding='valid'),\n",
    "    Flatten(),#A flatten operation on a tensor reshapes the tensor \n",
    "    #to have the shape that is equal to the number of elements \n",
    "    #contained in tensor non including the batch dimension.\n",
    "    Dense(2, activation='softmax'),\n",
    "])\n",
    "model.summary()"
   ]
  },
  {
   "attachments": {
    "flatten.jpg": {
     "image/jpeg": "[encoded data removed]"
    }
   },
   "cell_type": "markdown",
   "metadata": {},
   "source": [
    "![flatten.jpg](attachment:flatten.jpg)"
   ]
  },
  {
   "cell_type": "code",
   "execution_count": 8,
   "metadata": {},
   "outputs": [
    {
     "name": "stdout",
     "output_type": "stream",
     "text": [
      "Model: \"sequential_4\"\n",
      "_________________________________________________________________\n",
      "Layer (type)                 Output Shape              Param #   \n",
      "=================================================================\n",
      "dense_7 (Dense)              (None, 20, 20, 16)        64        \n",
      "_________________________________________________________________\n",
      "conv2d_10 (Conv2D)           (None, 20, 20, 32)        4640      \n",
      "_________________________________________________________________\n",
      "conv2d_11 (Conv2D)           (None, 20, 20, 64)        51264     \n",
      "_________________________________________________________________\n",
      "conv2d_12 (Conv2D)           (None, 20, 20, 128)       401536    \n",
      "_________________________________________________________________\n",
      "flatten_4 (Flatten)          (None, 51200)             0         \n",
      "_________________________________________________________________\n",
      "dense_8 (Dense)              (None, 2)                 102402    \n",
      "=================================================================\n",
      "Total params: 559,906\n",
      "Trainable params: 559,906\n",
      "Non-trainable params: 0\n",
      "_________________________________________________________________\n"
     ]
    }
   ],
   "source": [
    "# Zero padding activated\n",
    "model = Sequential([\n",
    "    Dense(16, activation='relu', input_shape=(20,20,3)),\n",
    "    Conv2D(32,kernel_size=(3,3),activation='relu',padding='same'),\n",
    "    Conv2D(64,kernel_size=(5,5),activation='relu',padding='same'),\n",
    "    Conv2D(128,kernel_size=(7,7),activation='relu',padding='same'),\n",
    "    Flatten(),\n",
    "    Dense(2, activation='softmax'),\n",
    "])\n",
    "model.summary()"
   ]
  },
  {
   "cell_type": "code",
   "execution_count": 10,
   "metadata": {},
   "outputs": [
    {
     "name": "stdout",
     "output_type": "stream",
     "text": [
      "Model: \"sequential_5\"\n",
      "_________________________________________________________________\n",
      "Layer (type)                 Output Shape              Param #   \n",
      "=================================================================\n",
      "dense_9 (Dense)              (None, 20, 20, 16)        64        \n",
      "_________________________________________________________________\n",
      "conv2d_13 (Conv2D)           (None, 20, 20, 32)        4640      \n",
      "_________________________________________________________________\n",
      "max_pooling2d_1 (MaxPooling2 (None, 10, 10, 32)        0         \n",
      "_________________________________________________________________\n",
      "conv2d_14 (Conv2D)           (None, 10, 10, 64)        51264     \n",
      "_________________________________________________________________\n",
      "flatten_5 (Flatten)          (None, 6400)              0         \n",
      "_________________________________________________________________\n",
      "dense_10 (Dense)             (None, 2)                 12802     \n",
      "=================================================================\n",
      "Total params: 68,770\n",
      "Trainable params: 68,770\n",
      "Non-trainable params: 0\n",
      "_________________________________________________________________\n"
     ]
    }
   ],
   "source": [
    "# MaxPooling\n",
    "model = Sequential([\n",
    "    Dense(16, activation='relu', input_shape=(20,20,3)),\n",
    "    Conv2D(32,kernel_size=(3,3),activation='relu',padding='same'),\n",
    "    MaxPooling2D(pool_size=(2,2),strides=2,padding='valid'),\n",
    "    Conv2D(64,kernel_size=(5,5),activation='relu',padding='same'),\n",
    "    Flatten(),\n",
    "    Dense(2, activation='softmax'),\n",
    "])\n",
    "model.summary()"
   ]
  },
  {
   "cell_type": "code",
   "execution_count": 11,
   "metadata": {},
   "outputs": [
    {
     "name": "stdout",
     "output_type": "stream",
     "text": [
      "Model: \"sequential_6\"\n",
      "_________________________________________________________________\n",
      "Layer (type)                 Output Shape              Param #   \n",
      "=================================================================\n",
      "dense_11 (Dense)             (None, 20, 20, 16)        64        \n",
      "_________________________________________________________________\n",
      "dense_12 (Dense)             (None, 20, 20, 32)        544       \n",
      "_________________________________________________________________\n",
      "dense_13 (Dense)             (None, 20, 20, 2)         66        \n",
      "=================================================================\n",
      "Total params: 674\n",
      "Trainable params: 674\n",
      "Non-trainable params: 0\n",
      "_________________________________________________________________\n"
     ]
    }
   ],
   "source": [
    "# Initializing kernel\n",
    "model = Sequential([\n",
    "    Dense(16, activation='relu', input_shape=(20,20,3)),\n",
    "    Dense(32, activation='relu', kernel_initializer='glorot_uniform'),\n",
    "    Dense(2, activation='softmax'),\n",
    "])\n",
    "model.summary()"
   ]
  },
  {
   "cell_type": "code",
   "execution_count": 13,
   "metadata": {},
   "outputs": [
    {
     "name": "stdout",
     "output_type": "stream",
     "text": [
      "Model: \"sequential_7\"\n",
      "_________________________________________________________________\n",
      "Layer (type)                 Output Shape              Param #   \n",
      "=================================================================\n",
      "dense_14 (Dense)             (None, 20, 20, 16)        64        \n",
      "_________________________________________________________________\n",
      "dense_15 (Dense)             (None, 20, 20, 32)        544       \n",
      "_________________________________________________________________\n",
      "dense_16 (Dense)             (None, 20, 20, 2)         66        \n",
      "=================================================================\n",
      "Total params: 674\n",
      "Trainable params: 674\n",
      "Non-trainable params: 0\n",
      "_________________________________________________________________\n"
     ]
    }
   ],
   "source": [
    "# Including penalization\n",
    "model = Sequential([\n",
    "    Dense(16, activation='relu', input_shape=(20,20,3)),\n",
    "    Dense(32, activation='relu', kernel_regularizer=regularizers.l2(0.01)),\n",
    "    Dense(2, activation='softmax'),\n",
    "])\n",
    "model.summary()"
   ]
  },
  {
   "cell_type": "code",
   "execution_count": 22,
   "metadata": {},
   "outputs": [
    {
     "name": "stdout",
     "output_type": "stream",
     "text": [
      "Model: \"sequential_8\"\n",
      "_________________________________________________________________\n",
      "Layer (type)                 Output Shape              Param #   \n",
      "=================================================================\n",
      "dense_17 (Dense)             (None, 16)                32        \n",
      "_________________________________________________________________\n",
      "dense_18 (Dense)             (None, 32)                544       \n",
      "_________________________________________________________________\n",
      "dense_19 (Dense)             (None, 2)                 66        \n",
      "=================================================================\n",
      "Total params: 642\n",
      "Trainable params: 642\n",
      "Non-trainable params: 0\n",
      "_________________________________________________________________\n"
     ]
    }
   ],
   "source": [
    "# Initializing kernel\n",
    "model = Sequential([\n",
    "    Dense(16, activation='relu', input_shape=(1,)),\n",
    "    Dense(32, activation='relu', kernel_initializer='glorot_uniform'),\n",
    "    Dense(2, activation='softmax'),\n",
    "])\n",
    "model.summary()\n",
    "\n",
    "%run \"Preprocessing data for keras.ipynb\" #creating data\n",
    "#Compile model\n",
    "model.compile(Adam(lr=0.0001),loss='sparse_categorical_crossentropy',metrics=['accuracy'])\n",
    "\n",
    "## Modifiying batches\n",
    "#Once created the model we can use fit"
   ]
  },
  {
   "cell_type": "code",
   "execution_count": 23,
   "metadata": {},
   "outputs": [
    {
     "name": "stdout",
     "output_type": "stream",
     "text": [
      "Train on 1680 samples, validate on 420 samples\n",
      "Epoch 1/20\n",
      " - 2s - loss: 0.6731 - accuracy: 0.5857 - val_loss: 0.6762 - val_accuracy: 0.5690\n",
      "Epoch 2/20\n",
      " - 1s - loss: 0.6417 - accuracy: 0.6625 - val_loss: 0.6629 - val_accuracy: 0.6071\n",
      "Epoch 3/20\n",
      " - 1s - loss: 0.6105 - accuracy: 0.7274 - val_loss: 0.6512 - val_accuracy: 0.6167\n",
      "Epoch 4/20\n",
      " - 0s - loss: 0.5790 - accuracy: 0.7554 - val_loss: 0.6391 - val_accuracy: 0.6310\n",
      "Epoch 5/20\n",
      " - 0s - loss: 0.5436 - accuracy: 0.7976 - val_loss: 0.6276 - val_accuracy: 0.6690\n",
      "Epoch 6/20\n",
      " - 0s - loss: 0.5086 - accuracy: 0.8268 - val_loss: 0.6179 - val_accuracy: 0.6810\n",
      "Epoch 7/20\n",
      " - 0s - loss: 0.4753 - accuracy: 0.8494 - val_loss: 0.6095 - val_accuracy: 0.6929\n",
      "Epoch 8/20\n",
      " - 1s - loss: 0.4424 - accuracy: 0.8726 - val_loss: 0.6049 - val_accuracy: 0.7048\n",
      "Epoch 9/20\n",
      " - 1s - loss: 0.4103 - accuracy: 0.8821 - val_loss: 0.6007 - val_accuracy: 0.7095\n",
      "Epoch 10/20\n",
      " - 0s - loss: 0.3801 - accuracy: 0.8988 - val_loss: 0.5999 - val_accuracy: 0.7238\n",
      "Epoch 11/20\n",
      " - 0s - loss: 0.3519 - accuracy: 0.9161 - val_loss: 0.6014 - val_accuracy: 0.7310\n",
      "Epoch 12/20\n",
      " - 0s - loss: 0.3244 - accuracy: 0.9238 - val_loss: 0.6082 - val_accuracy: 0.7310\n",
      "Epoch 13/20\n",
      " - 0s - loss: 0.2995 - accuracy: 0.9351 - val_loss: 0.6155 - val_accuracy: 0.7333\n",
      "Epoch 14/20\n",
      " - 0s - loss: 0.2770 - accuracy: 0.9381 - val_loss: 0.6239 - val_accuracy: 0.7333\n",
      "Epoch 15/20\n",
      " - 0s - loss: 0.2570 - accuracy: 0.9440 - val_loss: 0.6364 - val_accuracy: 0.7333\n",
      "Epoch 16/20\n",
      " - 0s - loss: 0.2393 - accuracy: 0.9488 - val_loss: 0.6504 - val_accuracy: 0.7333\n",
      "Epoch 17/20\n",
      " - 0s - loss: 0.2236 - accuracy: 0.9530 - val_loss: 0.6669 - val_accuracy: 0.7357\n",
      "Epoch 18/20\n",
      " - 0s - loss: 0.2094 - accuracy: 0.9571 - val_loss: 0.6824 - val_accuracy: 0.7357\n",
      "Epoch 19/20\n",
      " - 0s - loss: 0.1967 - accuracy: 0.9607 - val_loss: 0.6974 - val_accuracy: 0.7452\n",
      "Epoch 20/20\n",
      " - 0s - loss: 0.1857 - accuracy: 0.9619 - val_loss: 0.7185 - val_accuracy: 0.7452\n"
     ]
    },
    {
     "data": {
      "text/plain": [
       "<keras.callbacks.callbacks.History at 0x2ea9b787a08>"
      ]
     },
     "execution_count": 23,
     "metadata": {},
     "output_type": "execute_result"
    }
   ],
   "source": [
    "model.fit(scaled_train_samples, train_labels,validation_split=.20,batch_size=10 ,epochs=20 , shuffle=True, verbose=2)"
   ]
  },
  {
   "cell_type": "code",
   "execution_count": null,
   "metadata": {},
   "outputs": [],
   "source": []
  }
 ],
 "metadata": {
  "kernelspec": {
   "display_name": "Python 3",
   "language": "python",
   "name": "python3"
  },
  "language_info": {
   "codemirror_mode": {
    "name": "ipython",
    "version": 3
   },
   "file_extension": ".py",
   "mimetype": "text/x-python",
   "name": "python",
   "nbconvert_exporter": "python",
   "pygments_lexer": "ipython3",
   "version": "3.7.7"
  }
 },
 "nbformat": 4,
 "nbformat_minor": 4
}
