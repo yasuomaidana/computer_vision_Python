{
 "cells": [
  {
   "cell_type": "markdown",
   "metadata": {},
   "source": [
    "## Learning"
   ]
  },
  {
   "cell_type": "code",
   "execution_count": 1,
   "metadata": {},
   "outputs": [
    {
     "name": "stderr",
     "output_type": "stream",
     "text": [
      "Using TensorFlow backend.\n"
     ]
    }
   ],
   "source": [
    "import keras\n",
    "from keras import backend as K\n",
    "from keras.models import Sequential\n",
    "from keras.layers import Dense\n",
    "from keras.layers.core import Activation\n",
    "from keras.optimizers import Adam\n",
    "from keras.metrics import categorical_crossentropy\n",
    "\n",
    "import numpy as np"
   ]
  },
  {
   "cell_type": "code",
   "execution_count": 24,
   "metadata": {},
   "outputs": [],
   "source": [
    "#creates the neural  network model\n",
    "model = Sequential([\n",
    "    Dense(16, input_shape=(2,),activation='relu'),\n",
    "    Dense(32,activation='relu'),\n",
    "    Dense(2,activation='softmax'),\n",
    "])"
   ]
  },
  {
   "cell_type": "code",
   "execution_count": 25,
   "metadata": {},
   "outputs": [],
   "source": [
    "# Compiles the model\n",
    "#model.compile(Optimizer(learning reate),loss='function loss',metrics=['accuracy'])\n",
    "model.compile(Adam(lr=0.0001),loss='sparse_categorical_crossentropy',metrics=['accuracy'])"
   ]
  },
  {
   "cell_type": "code",
   "execution_count": 28,
   "metadata": {},
   "outputs": [],
   "source": [
    "train_samples=[[150,67],[130,60],[200,65],[125,52],[230,72],[181,70]]\n",
    "train_labels=[1,1,0,1,0,0]\n",
    "train_labels = np.array(train_labels)\n",
    "train_samples =np.array(train_samples)"
   ]
  },
  {
   "cell_type": "code",
   "execution_count": 29,
   "metadata": {},
   "outputs": [
    {
     "name": "stdout",
     "output_type": "stream",
     "text": [
      "Epoch 1/10\n",
      " - 0s - loss: 0.7049 - accuracy: 0.5000\n",
      "Epoch 2/10\n",
      " - 0s - loss: 0.6653 - accuracy: 0.5000\n",
      "Epoch 3/10\n",
      " - 0s - loss: 0.6638 - accuracy: 0.5000\n",
      "Epoch 4/10\n",
      " - 0s - loss: 0.6728 - accuracy: 0.3333\n",
      "Epoch 5/10\n",
      " - 0s - loss: 0.6622 - accuracy: 0.5000\n",
      "Epoch 6/10\n",
      " - 0s - loss: 0.6504 - accuracy: 0.5000\n",
      "Epoch 7/10\n",
      " - 0s - loss: 0.6498 - accuracy: 0.6667\n",
      "Epoch 8/10\n",
      " - 0s - loss: 0.6412 - accuracy: 0.5000\n",
      "Epoch 9/10\n",
      " - 0s - loss: 0.6302 - accuracy: 0.3333\n",
      "Epoch 10/10\n",
      " - 0s - loss: 0.6346 - accuracy: 0.5000\n"
     ]
    },
    {
     "data": {
      "text/plain": [
       "<keras.callbacks.callbacks.History at 0x2320c0fb488>"
      ]
     },
     "execution_count": 29,
     "metadata": {},
     "output_type": "execute_result"
    }
   ],
   "source": [
    "model.fit(train_samples, train_labels , batch_size=2 , epochs=10 , shuffle=True, verbose=2)"
   ]
  },
  {
   "cell_type": "code",
   "execution_count": null,
   "metadata": {},
   "outputs": [],
   "source": []
  }
 ],
 "metadata": {
  "kernelspec": {
   "display_name": "Python 3",
   "language": "python",
   "name": "python3"
  },
  "language_info": {
   "codemirror_mode": {
    "name": "ipython",
    "version": 3
   },
   "file_extension": ".py",
   "mimetype": "text/x-python",
   "name": "python",
   "nbconvert_exporter": "python",
   "pygments_lexer": "ipython3",
   "version": "3.7.7"
  }
 },
 "nbformat": 4,
 "nbformat_minor": 4
}
