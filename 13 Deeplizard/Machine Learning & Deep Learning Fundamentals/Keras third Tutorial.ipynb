{
 "cells": [
  {
   "cell_type": "markdown",
   "metadata": {},
   "source": [
    "## Learning"
   ]
  },
  {
   "cell_type": "code",
   "execution_count": 1,
   "metadata": {},
   "outputs": [
    {
     "name": "stderr",
     "output_type": "stream",
     "text": [
      "Using TensorFlow backend.\n"
     ]
    }
   ],
   "source": [
    "import keras\n",
    "from keras import backend as K\n",
    "from keras.models import Sequential\n",
    "from keras.layers import Dense\n",
    "from keras.layers.core import Activation\n",
    "from keras.optimizers import Adam\n",
    "from keras.metrics import categorical_crossentropy\n",
    "%run \"Preprocessing data for keras.ipynb\""
   ]
  },
  {
   "cell_type": "code",
   "execution_count": 2,
   "metadata": {},
   "outputs": [],
   "source": [
    "#creates the neural  network model\n",
    "model = Sequential([\n",
    "    Dense(16, input_shape=(1,),activation='relu'),\n",
    "    Dense(32,activation='relu'),\n",
    "    Dense(2,activation='softmax'),\n",
    "])"
   ]
  },
  {
   "cell_type": "code",
   "execution_count": 3,
   "metadata": {},
   "outputs": [],
   "source": [
    "# Compiles the model\n",
    "#model.compile(Optimizer(learning reate),loss='function loss',metrics=['accuracy'])\n",
    "model.compile(Adam(lr=0.0001),loss='sparse_categorical_crossentropy',metrics=['accuracy'])"
   ]
  },
  {
   "cell_type": "code",
   "execution_count": 4,
   "metadata": {},
   "outputs": [
    {
     "name": "stdout",
     "output_type": "stream",
     "text": [
      "Train on 1680 samples, validate on 420 samples\n",
      "Epoch 1/20\n",
      " - 1s - loss: 0.7091 - accuracy: 0.4946 - val_loss: 0.6930 - val_accuracy: 0.5000\n",
      "Epoch 2/20\n",
      " - 0s - loss: 0.6781 - accuracy: 0.8214 - val_loss: 0.6782 - val_accuracy: 0.6643\n",
      "Epoch 3/20\n",
      " - 1s - loss: 0.6485 - accuracy: 0.8339 - val_loss: 0.6645 - val_accuracy: 0.6738\n",
      "Epoch 4/20\n",
      " - 0s - loss: 0.6205 - accuracy: 0.8399 - val_loss: 0.6519 - val_accuracy: 0.6690\n",
      "Epoch 5/20\n",
      " - 0s - loss: 0.5913 - accuracy: 0.8315 - val_loss: 0.6400 - val_accuracy: 0.6738\n",
      "Epoch 6/20\n",
      " - 0s - loss: 0.5602 - accuracy: 0.8476 - val_loss: 0.6284 - val_accuracy: 0.6738\n",
      "Epoch 7/20\n",
      " - 0s - loss: 0.5276 - accuracy: 0.8548 - val_loss: 0.6182 - val_accuracy: 0.6810\n",
      "Epoch 8/20\n",
      " - 0s - loss: 0.4941 - accuracy: 0.8649 - val_loss: 0.6097 - val_accuracy: 0.6762\n",
      "Epoch 9/20\n",
      " - 0s - loss: 0.4611 - accuracy: 0.8714 - val_loss: 0.6031 - val_accuracy: 0.6810\n",
      "Epoch 10/20\n",
      " - 0s - loss: 0.4288 - accuracy: 0.8827 - val_loss: 0.5986 - val_accuracy: 0.6929\n",
      "Epoch 11/20\n",
      " - 0s - loss: 0.3979 - accuracy: 0.8976 - val_loss: 0.5965 - val_accuracy: 0.7000\n",
      "Epoch 12/20\n",
      " - 0s - loss: 0.3687 - accuracy: 0.9071 - val_loss: 0.5983 - val_accuracy: 0.7000\n",
      "Epoch 13/20\n",
      " - 0s - loss: 0.3416 - accuracy: 0.9167 - val_loss: 0.6013 - val_accuracy: 0.7071\n",
      "Epoch 14/20\n",
      " - 0s - loss: 0.3165 - accuracy: 0.9244 - val_loss: 0.6063 - val_accuracy: 0.7143\n",
      "Epoch 15/20\n",
      " - 0s - loss: 0.2937 - accuracy: 0.9321 - val_loss: 0.6139 - val_accuracy: 0.7214\n",
      "Epoch 16/20\n",
      " - 0s - loss: 0.2730 - accuracy: 0.9375 - val_loss: 0.6241 - val_accuracy: 0.7286\n",
      "Epoch 17/20\n",
      " - 0s - loss: 0.2541 - accuracy: 0.9458 - val_loss: 0.6366 - val_accuracy: 0.7286\n",
      "Epoch 18/20\n",
      " - 0s - loss: 0.2373 - accuracy: 0.9464 - val_loss: 0.6488 - val_accuracy: 0.7357\n",
      "Epoch 19/20\n",
      " - 0s - loss: 0.2221 - accuracy: 0.9530 - val_loss: 0.6628 - val_accuracy: 0.7357\n",
      "Epoch 20/20\n",
      " - 0s - loss: 0.2084 - accuracy: 0.9542 - val_loss: 0.6812 - val_accuracy: 0.7357\n"
     ]
    },
    {
     "data": {
      "text/plain": [
       "<keras.callbacks.callbacks.History at 0x2027e124d48>"
      ]
     },
     "execution_count": 4,
     "metadata": {},
     "output_type": "execute_result"
    }
   ],
   "source": [
    "model.fit(scaled_train_samples, train_labels,validation_split=.20,batch_size=10 ,epochs=20 , shuffle=True, verbose=2)"
   ]
  },
  {
   "cell_type": "code",
   "execution_count": 34,
   "metadata": {},
   "outputs": [
    {
     "name": "stdout",
     "output_type": "stream",
     "text": [
      "Model: \"sequential_1\"\n",
      "_________________________________________________________________\n",
      "Layer (type)                 Output Shape              Param #   \n",
      "=================================================================\n",
      "dense_1 (Dense)              (None, 16)                32        \n",
      "_________________________________________________________________\n",
      "dense_2 (Dense)              (None, 32)                544       \n",
      "_________________________________________________________________\n",
      "dense_3 (Dense)              (None, 2)                 66        \n",
      "=================================================================\n",
      "Total params: 642\n",
      "Trainable params: 642\n",
      "Non-trainable params: 0\n",
      "_________________________________________________________________\n"
     ]
    }
   ],
   "source": [
    "model.summary()"
   ]
  },
  {
   "cell_type": "code",
   "execution_count": 5,
   "metadata": {},
   "outputs": [],
   "source": [
    "# Set validation input\n",
    "#model.compile(Adam(learning rate),loss='loss Fuction',metrics=['accuracy'])\n",
    "#Validation set=[(sample,label),(sample,label),...,(sample,label)]\n",
    "#model.fit(Train samples, Train labels,Validation Set,batch size, epochs , shuffle, verbose)"
   ]
  },
  {
   "cell_type": "code",
   "execution_count": 7,
   "metadata": {},
   "outputs": [
    {
     "data": {
      "text/plain": [
       "array([[0.92837286, 0.07162715],\n",
       "       [0.27827927, 0.72172076],\n",
       "       [0.61287856, 0.38712144],\n",
       "       ...,\n",
       "       [0.05902202, 0.940978  ],\n",
       "       [0.61287856, 0.38712144],\n",
       "       [0.15986487, 0.8401351 ]], dtype=float32)"
      ]
     },
     "execution_count": 7,
     "metadata": {},
     "output_type": "execute_result"
    }
   ],
   "source": [
    "#make predictions\n",
    "predictions = model.predict(scaled_train_samples,batch_size=10, verbose=0)\n",
    "predictions"
   ]
  },
  {
   "cell_type": "code",
   "execution_count": 18,
   "metadata": {},
   "outputs": [
    {
     "data": {
      "text/plain": [
       "30"
      ]
     },
     "execution_count": 18,
     "metadata": {},
     "output_type": "execute_result"
    }
   ],
   "source": [
    "#predict classes for testing\n",
    "rounded_predictions = model.predict_classes(scaled_test_samples,batch_size=10, verbose=0)\n",
    "len(rounded_predictions)"
   ]
  },
  {
   "cell_type": "code",
   "execution_count": 19,
   "metadata": {},
   "outputs": [],
   "source": [
    "#Confusion matrix\n",
    "%matplotlib inline\n",
    "from sklearn.metrics import confusion_matrix\n",
    "import itertools\n",
    "import matplotlib.pyplot as plt"
   ]
  },
  {
   "cell_type": "code",
   "execution_count": 27,
   "metadata": {},
   "outputs": [],
   "source": [
    "#function to plot confusion matrix\n",
    "def plot_confusion_matrix(cm,classes,normalize=False,\n",
    "                         title=\"Confusion Matrix\",\n",
    "                         cmap=plt.cm.Blues):\n",
    "    plt.imshow(cm,interpolation='nearest',cmap=cmap)\n",
    "    plt.title(title)\n",
    "    plt.colorbar()\n",
    "    tick_marks=np.arange(len(classes))\n",
    "    plt.xticks(tick_marks,classes,rotation=45)\n",
    "    plt.yticks(tick_marks,classes)\n",
    "    if normalize:\n",
    "        cm=cm.astype('float')/cm.sum(axis=1)[:,np.newaxis]\n",
    "        print(\"Normalized confusion matrix\")\n",
    "    else:\n",
    "        print(\"Confusion matrix without normalization\")\n",
    "    print(cm)\n",
    "    \n",
    "    thresh=cm.max()/2\n",
    "    for i,j in itertools.product(range(cm.shape[0]),range(cm.shape[1])):\n",
    "        plt.text(j,i,cm[i,j],\n",
    "        horizontalalignment=\"center\",\n",
    "        color=\"white\" if cm[i,j]>thresh else \"black\")\n",
    "    plt.tight_layout()\n",
    "    plt.ylabel('True label')\n",
    "    plt.xlabel('Predicted label')"
   ]
  },
  {
   "cell_type": "code",
   "execution_count": 20,
   "metadata": {},
   "outputs": [],
   "source": [
    "#creates confusion matrix object\n",
    "cm = confusion_matrix(test_labels,rounded_predictions)"
   ]
  },
  {
   "cell_type": "code",
   "execution_count": 28,
   "metadata": {},
   "outputs": [
    {
     "name": "stdout",
     "output_type": "stream",
     "text": [
      "Confusion matrix without normalization\n",
      "[[ 9  6]\n",
      " [ 4 11]]\n"
     ]
    },
    {
     "data": {
      "image/png": "[encoded data removed]",
      "text/plain": [
       "<Figure size 432x288 with 2 Axes>"
      ]
     },
     "metadata": {
      "needs_background": "light"
     },
     "output_type": "display_data"
    }
   ],
   "source": [
    "cm_plot_labels=[\"no side effects\",\"had side effects\"]\n",
    "plot_confusion_matrix(cm,cm_plot_labels,title=\"Confusion Matrix\")"
   ]
  },
  {
   "cell_type": "code",
   "execution_count": 32,
   "metadata": {},
   "outputs": [
    {
     "name": "stdout",
     "output_type": "stream",
     "text": [
      "0 0\n",
      "0 1\n",
      "1 0\n",
      "1 1\n"
     ]
    }
   ],
   "source": [
    "for i,j in itertools.product(range(cm.shape[0]),range(cm.shape[1])):\n",
    "    print(i,j)"
   ]
  },
  {
   "cell_type": "code",
   "execution_count": null,
   "metadata": {},
   "outputs": [],
   "source": []
  }
 ],
 "metadata": {
  "kernelspec": {
   "display_name": "Python 3",
   "language": "python",
   "name": "python3"
  },
  "language_info": {
   "codemirror_mode": {
    "name": "ipython",
    "version": 3
   },
   "file_extension": ".py",
   "mimetype": "text/x-python",
   "name": "python",
   "nbconvert_exporter": "python",
   "pygments_lexer": "ipython3",
   "version": "3.7.7"
  }
 },
 "nbformat": 4,
 "nbformat_minor": 4
}
