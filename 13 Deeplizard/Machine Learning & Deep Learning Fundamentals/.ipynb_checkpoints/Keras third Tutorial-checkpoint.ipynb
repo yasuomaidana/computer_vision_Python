{
 "cells": [
  {
   "cell_type": "markdown",
   "metadata": {},
   "source": [
    "## Learning"
   ]
  },
  {
   "cell_type": "code",
   "execution_count": 1,
   "metadata": {},
   "outputs": [
    {
     "name": "stderr",
     "output_type": "stream",
     "text": [
      "Using TensorFlow backend.\n"
     ]
    }
   ],
   "source": [
    "import keras\n",
    "from keras import backend as K\n",
    "from keras.models import Sequential\n",
    "from keras.layers import Dense\n",
    "from keras.layers.core import Activation\n",
    "from keras.optimizers import Adam\n",
    "from keras.metrics import categorical_crossentropy"
   ]
  },
  {
   "cell_type": "code",
   "execution_count": 2,
   "metadata": {},
   "outputs": [],
   "source": [
    "%run \"Preprocessing data for keras.ipynb\""
   ]
  },
  {
   "cell_type": "code",
   "execution_count": 3,
   "metadata": {},
   "outputs": [],
   "source": [
    "#creates the neural  network model\n",
    "model = Sequential([\n",
    "    Dense(16, input_shape=(1,),activation='relu'),\n",
    "    Dense(32,activation='relu'),\n",
    "    Dense(2,activation='softmax'),\n",
    "])"
   ]
  },
  {
   "cell_type": "code",
   "execution_count": 4,
   "metadata": {},
   "outputs": [],
   "source": [
    "# Compiles the model\n",
    "#model.compile(Optimizer(learning reate),loss='function loss',metrics=['accuracy'])\n",
    "model.compile(Adam(lr=0.0001),loss='sparse_categorical_crossentropy',metrics=['accuracy'])"
   ]
  },
  {
   "cell_type": "code",
   "execution_count": 8,
   "metadata": {},
   "outputs": [
    {
     "data": {
      "text/plain": [
       "'sparse_categorical_crossentropy'"
      ]
     },
     "execution_count": 8,
     "metadata": {},
     "output_type": "execute_result"
    }
   ],
   "source": [
    "#we can change loss function the following way\n",
    "#model.loss='loss function'\n",
    "model.loss"
   ]
  },
  {
   "cell_type": "code",
   "execution_count": 9,
   "metadata": {},
   "outputs": [
    {
     "data": {
      "text/plain": [
       "<tf.Variable 'Adam/learning_rate:0' shape=() dtype=float32, numpy=1e-04>"
      ]
     },
     "execution_count": 9,
     "metadata": {},
     "output_type": "execute_result"
    }
   ],
   "source": [
    "#Access to learning rate\n",
    "model.optimizer.lr"
   ]
  },
  {
   "cell_type": "markdown",
   "metadata": {},
   "source": [
    "## Trains the model\n",
    "model.fit(scaled_train_samples, train_labels,batch_size ,epochs=20 , shuffle=True, verbose=2)\n",
    "verbose= number of outputs"
   ]
  },
  {
   "cell_type": "code",
   "execution_count": 7,
   "metadata": {},
   "outputs": [
    {
     "name": "stdout",
     "output_type": "stream",
     "text": [
      "Epoch 1/20\n",
      " - 1s - loss: 0.6621 - accuracy: 0.5243\n",
      "Epoch 2/20\n",
      " - 0s - loss: 0.6278 - accuracy: 0.6219\n",
      "Epoch 3/20\n",
      " - 0s - loss: 0.5909 - accuracy: 0.6924\n",
      "Epoch 4/20\n",
      " - 0s - loss: 0.5489 - accuracy: 0.7657\n",
      "Epoch 5/20\n",
      " - 0s - loss: 0.5110 - accuracy: 0.8157\n",
      "Epoch 6/20\n",
      " - 0s - loss: 0.4754 - accuracy: 0.8405\n",
      "Epoch 7/20\n",
      " - 0s - loss: 0.4420 - accuracy: 0.8548\n",
      "Epoch 8/20\n",
      " - 0s - loss: 0.4122 - accuracy: 0.8743\n",
      "Epoch 9/20\n",
      " - 0s - loss: 0.3856 - accuracy: 0.8871\n",
      "Epoch 10/20\n",
      " - 0s - loss: 0.3631 - accuracy: 0.9014\n",
      "Epoch 11/20\n",
      " - 0s - loss: 0.3440 - accuracy: 0.9076\n",
      "Epoch 12/20\n",
      " - 0s - loss: 0.3282 - accuracy: 0.9152\n",
      "Epoch 13/20\n",
      " - 1s - loss: 0.3152 - accuracy: 0.9257\n",
      "Epoch 14/20\n",
      " - 1s - loss: 0.3049 - accuracy: 0.9243\n",
      "Epoch 15/20\n",
      " - 0s - loss: 0.2962 - accuracy: 0.9281\n",
      "Epoch 16/20\n",
      " - 1s - loss: 0.2895 - accuracy: 0.9319\n",
      "Epoch 17/20\n",
      " - 0s - loss: 0.2837 - accuracy: 0.9300\n",
      "Epoch 18/20\n",
      " - 0s - loss: 0.2789 - accuracy: 0.9310\n",
      "Epoch 19/20\n",
      " - 0s - loss: 0.2749 - accuracy: 0.9329\n",
      "Epoch 20/20\n",
      " - 0s - loss: 0.2717 - accuracy: 0.9357\n"
     ]
    },
    {
     "data": {
      "text/plain": [
       "<keras.callbacks.callbacks.History at 0x21d19d375c8>"
      ]
     },
     "execution_count": 7,
     "metadata": {},
     "output_type": "execute_result"
    }
   ],
   "source": [
    "model.fit(scaled_train_samples, train_labels,batch_size=10 ,epochs=20 , shuffle=True, verbose=2)"
   ]
  },
  {
   "cell_type": "code",
   "execution_count": null,
   "metadata": {},
   "outputs": [],
   "source": []
  }
 ],
 "metadata": {
  "kernelspec": {
   "display_name": "Python 3",
   "language": "python",
   "name": "python3"
  },
  "language_info": {
   "codemirror_mode": {
    "name": "ipython",
    "version": 3
   },
   "file_extension": ".py",
   "mimetype": "text/x-python",
   "name": "python",
   "nbconvert_exporter": "python",
   "pygments_lexer": "ipython3",
   "version": "3.7.7"
  }
 },
 "nbformat": 4,
 "nbformat_minor": 4
}
