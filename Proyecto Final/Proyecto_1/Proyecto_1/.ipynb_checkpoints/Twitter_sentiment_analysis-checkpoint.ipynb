{
 "cells": [
  {
   "cell_type": "markdown",
   "metadata": {},
   "source": [
    "# Twitter sentiment analysis"
   ]
  },
  {
   "cell_type": "markdown",
   "metadata": {},
   "source": [
    "- José Francisco Pacheco Quintana A01373488\n",
    "- Uriel Fuentes Cavazos A00820592\n",
    "- Eloy Hernández Lúa A01066325\n",
    "- Yasuo Ignacio Maidana Perez A01328427"
   ]
  },
  {
   "cell_type": "markdown",
   "metadata": {},
   "source": [
    "Liberías y módulos a importar"
   ]
  },
  {
   "cell_type": "code",
   "execution_count": 1,
   "metadata": {},
   "outputs": [],
   "source": [
    "import nltk\n",
    "import random\n",
    "import pickle\n",
    "import json\n",
    "import time\n",
    "import matplotlib.pyplot as plt\n",
    "import matplotlib.animation as animation\n",
    "from nltk.classify.scikitlearn import SklearnClassifier\n",
    "from sklearn.naive_bayes import MultinomialNB, GaussianNB, BernoulliNB\n",
    "from sklearn.linear_model import LogisticRegression, SGDClassifier\n",
    "from sklearn.svm import SVC, LinearSVC, NuSVC\n",
    "from nltk.corpus import movie_reviews\n",
    "from nltk.classify import ClassifierI\n",
    "from statistics import mode\n",
    "from nltk.tokenize import word_tokenize\n",
    "from tweepy import Stream\n",
    "from tweepy import OAuthHandler\n",
    "from tweepy.streaming import StreamListener\n",
    "from matplotlib import style"
   ]
  },
  {
   "cell_type": "markdown",
   "metadata": {},
   "source": [
    "Si no se tienen instalados los paquetes adicionales de la librería nltk, se instalan con la siguiente celda:"
   ]
  },
  {
   "cell_type": "code",
   "execution_count": 2,
   "metadata": {},
   "outputs": [
    {
     "name": "stdout",
     "output_type": "stream",
     "text": [
      "showing info https://raw.githubusercontent.com/nltk/nltk_data/gh-pages/index.xml\n"
     ]
    },
    {
     "data": {
      "text/plain": [
       "True"
      ]
     },
     "execution_count": 2,
     "metadata": {},
     "output_type": "execute_result"
    }
   ],
   "source": [
    "#nltk.download()"
   ]
  },
  {
   "cell_type": "markdown",
   "metadata": {},
   "source": [
    "Se dejó esta celda a propósito para detener el jupyter notebook. Después de esta celda, se muestra el procedimiento para obtener los modelos ya entrenados. Para ver los modelos funcionando, se puede correr el jupyter [Aquí](#cell)"
   ]
  },
  {
   "cell_type": "code",
   "execution_count": null,
   "metadata": {},
   "outputs": [],
   "source": [
    "assert x = 1"
   ]
  },
  {
   "cell_type": "markdown",
   "metadata": {},
   "source": [
    "Preparando el dataset para entrenamiento. Se puede utilizar otro dataset para entrenar las funciones. Se recomienda tener los ejemplos positivos y negativos en archivos diferentes para que estos puedan ser importados y utilizados con las siguiente celdas"
   ]
  },
  {
   "cell_type": "code",
   "execution_count": null,
   "metadata": {},
   "outputs": [],
   "source": [
    "short_pos = open('positive.txt', 'r').read()\n",
    "short_neg = open('negative.txt', 'r').read()"
   ]
  },
  {
   "cell_type": "code",
   "execution_count": null,
   "metadata": {},
   "outputs": [],
   "source": [
    "documents = []\n",
    "\n",
    "for r in short_pos.split('\\n'):\n",
    "    documents.append( (r, 'pos') )\n",
    "\n",
    "for r in short_neg.split('\\n'):\n",
    "    documents.append( (r, 'neg') )\n",
    "\n",
    "all_words = []\n",
    "\n",
    "short_pos_words = word_tokenize(short_pos)\n",
    "short_neg_words = word_tokenize(short_neg)\n",
    "\n",
    "for w in short_pos_words:\n",
    "    all_words.append(w.lower())\n",
    "    \n",
    "for w in short_neg_words:\n",
    "    all_words.append(w.lower())"
   ]
  },
  {
   "cell_type": "code",
   "execution_count": null,
   "metadata": {},
   "outputs": [],
   "source": [
    "all_words = nltk.FreqDist(all_words)\n",
    "word_features = list(all_words.keys())[:5000]"
   ]
  },
  {
   "cell_type": "code",
   "execution_count": null,
   "metadata": {},
   "outputs": [],
   "source": [
    "def find_features(document):\n",
    "    words = word_tokenize(document)\n",
    "    features = {}\n",
    "    for w in word_features:\n",
    "        features[w] = (w in words)\n",
    "        \n",
    "    return features"
   ]
  },
  {
   "cell_type": "code",
   "execution_count": null,
   "metadata": {},
   "outputs": [],
   "source": [
    "featuresets= [(find_features(rev), category) for (rev, category) in documents]\n",
    "\n",
    "random.shuffle(featuresets)"
   ]
  },
  {
   "cell_type": "code",
   "execution_count": null,
   "metadata": {},
   "outputs": [],
   "source": [
    "training_set = featuresets[:10000]\n",
    "testing_set = featuresets[10000:]"
   ]
  },
  {
   "cell_type": "markdown",
   "metadata": {},
   "source": [
    "<h5>Modelos</h5>"
   ]
  },
  {
   "cell_type": "markdown",
   "metadata": {},
   "source": [
    "A continuación se presentan los modelos a utilizar para la clasificación de tweets. Estas celdas toman tiempo en correr, dependiendo del tamaño de los batches de entrenamiento y de testing, por lo que se recomienda cargar los modelos ya preentrenados."
   ]
  },
  {
   "cell_type": "markdown",
   "metadata": {},
   "source": [
    "Original nltk Naive Bayes classifier"
   ]
  },
  {
   "cell_type": "code",
   "execution_count": null,
   "metadata": {},
   "outputs": [],
   "source": [
    "classifier = nltk.NaiveBayesClassifier.train(training_set)"
   ]
  },
  {
   "cell_type": "code",
   "execution_count": null,
   "metadata": {},
   "outputs": [],
   "source": [
    "print('Naive Bayes Algorithm accuracy percent:', (nltk.classify.accuracy(classifier, testing_set))*100)"
   ]
  },
  {
   "cell_type": "markdown",
   "metadata": {},
   "source": [
    "Multinomial Naive Bayes classifier"
   ]
  },
  {
   "cell_type": "code",
   "execution_count": null,
   "metadata": {},
   "outputs": [],
   "source": [
    "MNB_classifier = SklearnClassifier(MultinomialNB())\n",
    "MNB_classifier.train(training_set)\n",
    "print('MNB_classifier accuracy percent:', (nltk.classify.accuracy(MNB_classifier, testing_set))*100)"
   ]
  },
  {
   "cell_type": "markdown",
   "metadata": {},
   "source": [
    "Bernoulli Naive Bayes classifier"
   ]
  },
  {
   "cell_type": "code",
   "execution_count": null,
   "metadata": {},
   "outputs": [],
   "source": [
    "BernoulliNB_classifier = SklearnClassifier(BernoulliNB())\n",
    "BernoulliNB_classifier.train(training_set)\n",
    "print('BernoulliNB_classifier accuracy percent:', (nltk.classify.accuracy(BernoulliNB_classifier, testing_set))*100)"
   ]
  },
  {
   "cell_type": "markdown",
   "metadata": {},
   "source": [
    "Logistic Regression classifier"
   ]
  },
  {
   "cell_type": "code",
   "execution_count": null,
   "metadata": {},
   "outputs": [],
   "source": [
    "LogisticRegression_classifier = SklearnClassifier(LogisticRegression())\n",
    "LogisticRegression_classifier.train(training_set)\n",
    "print('LogisticRegression_classifier accuracy percent:', (nltk.classify.accuracy(LogisticRegression_classifier, testing_set))*100)"
   ]
  },
  {
   "cell_type": "markdown",
   "metadata": {},
   "source": [
    "Stochastic Vector Machine, with stochastic gradient descent, classifier"
   ]
  },
  {
   "cell_type": "code",
   "execution_count": null,
   "metadata": {},
   "outputs": [],
   "source": [
    "SGDClassifier_classifier = SklearnClassifier(SGDClassifier())\n",
    "SGDClassifier_classifier.train(training_set)\n",
    "print('SGDClassifier_classifier accuracy percent:', (nltk.classify.accuracy(SGDClassifier_classifier, testing_set))*100)"
   ]
  },
  {
   "cell_type": "markdown",
   "metadata": {},
   "source": [
    "Linear Support Vector Machine classifier"
   ]
  },
  {
   "cell_type": "code",
   "execution_count": null,
   "metadata": {},
   "outputs": [],
   "source": [
    "LinearSVC_classifier = SklearnClassifier(LinearSVC())\n",
    "LinearSVC_classifier.train(training_set)\n",
    "print('LinearSVC_classifier accuracy percent:', (nltk.classify.accuracy(LinearSVC_classifier, testing_set))*100)"
   ]
  },
  {
   "cell_type": "markdown",
   "metadata": {},
   "source": [
    "Nu Support Vector Machine classifier"
   ]
  },
  {
   "cell_type": "code",
   "execution_count": null,
   "metadata": {},
   "outputs": [],
   "source": [
    "NuSVC_classifier = SklearnClassifier(NuSVC())\n",
    "NuSVC_classifier.train(training_set)\n",
    "print('NuSVC_classifier accuracy percent:', (nltk.classify.accuracy(NuSVC_classifier, testing_set))*100)"
   ]
  },
  {
   "cell_type": "markdown",
   "metadata": {},
   "source": [
    "Voting system: takes a vote from each of the classifiers and it will classify the input as positive or negative"
   ]
  },
  {
   "cell_type": "code",
   "execution_count": null,
   "metadata": {},
   "outputs": [],
   "source": [
    "class VoteClassifier(ClassifierI):\n",
    "    def __init__(self, *classifiers):\n",
    "        self._classifiers = classifiers\n",
    "    \n",
    "    def classify(self, features):\n",
    "        votes = []\n",
    "        for c in self._classifiers:\n",
    "            v = c.classify(features)\n",
    "            votes.append(v)\n",
    "        return mode(votes)\n",
    "    \n",
    "    def confidence(self, features):\n",
    "        votes = []\n",
    "        for c in self._classifiers:\n",
    "            v = c.classify(features)\n",
    "            votes.append(v)\n",
    "        choice_votes = votes.count(mode(votes))\n",
    "        conf = choice_votes / len(votes)\n",
    "        return conf"
   ]
  },
  {
   "cell_type": "code",
   "execution_count": null,
   "metadata": {},
   "outputs": [],
   "source": [
    "voted_classifier = VoteClassifier(classifier, \n",
    "                                  NuSVC_classifier, \n",
    "                                  LinearSVC_classifier, \n",
    "                                  SGDClassifier_classifier, \n",
    "                                  MNB_classifier, \n",
    "                                  BernoulliNB_classifier,\n",
    "                                  LogisticRegression_classifier)"
   ]
  },
  {
   "cell_type": "code",
   "execution_count": null,
   "metadata": {},
   "outputs": [],
   "source": [
    "print('voted_classifier accuracy percent:', (nltk.classify.accuracy(voted_classifier, testing_set))*100)"
   ]
  },
  {
   "cell_type": "code",
   "execution_count": null,
   "metadata": {},
   "outputs": [],
   "source": [
    "print('Classification:', voted_classifier.classify(testing_set[1][0]), 'Confidence%:', voted_classifier.confidence(testing_set[0][0]))\n",
    "print('Classification:', voted_classifier.classify(testing_set[2][0]), 'Confidence%:', voted_classifier.confidence(testing_set[1][0]))\n",
    "print('Classification:', voted_classifier.classify(testing_set[3][0]), 'Confidence%:', voted_classifier.confidence(testing_set[2][0]))\n",
    "print('Classification:', voted_classifier.classify(testing_set[4][0]), 'Confidence%:', voted_classifier.confidence(testing_set[3][0]))\n",
    "print('Classification:', voted_classifier.classify(testing_set[5][0]), 'Confidence%:', voted_classifier.confidence(testing_set[4][0]))\n",
    "print('Classification:', voted_classifier.classify(testing_set[6][0]), 'Confidence%:', voted_classifier.confidence(testing_set[5][0]))\n",
    "print('Classification:', voted_classifier.classify(testing_set[7][0]), 'Confidence%:', voted_classifier.confidence(testing_set[6][0]))\n"
   ]
  },
  {
   "cell_type": "code",
   "execution_count": null,
   "metadata": {},
   "outputs": [],
   "source": [
    "all_words = []\n",
    "documents = []"
   ]
  },
  {
   "cell_type": "code",
   "execution_count": null,
   "metadata": {},
   "outputs": [],
   "source": [
    "#J = adjective, R = adverb, V = verb\n",
    "#allowed_word_types = ['J', 'R', 'V']\n",
    "allowed_word_types = ['J']\n",
    "\n",
    "for p in short_pos.split('\\n'):\n",
    "    documents.append( (p, 'pos') )\n",
    "    words = word_tokenize(p)\n",
    "    pos = nltk.pos_tag(words)\n",
    "    for w in pos:\n",
    "        if w[1][0] in allowed_word_types:\n",
    "            all_words.append(w[0].lower())\n",
    "\n",
    "for p in short_neg.split('\\n'):\n",
    "    documents.append( (p, 'neg') )\n",
    "    words = word_tokenize(p)\n",
    "    neg = nltk.pos_tag(words)\n",
    "    for w in neg:\n",
    "        if w[1][0] in allowed_word_types:\n",
    "            all_words.append(w[0].lower())"
   ]
  },
  {
   "cell_type": "code",
   "execution_count": null,
   "metadata": {},
   "outputs": [],
   "source": [
    "save_documents = open('pickled_algos/documents.pickle', 'wb')\n",
    "pickle.dump(documents, save_documents)\n",
    "save_documents.close()"
   ]
  },
  {
   "cell_type": "code",
   "execution_count": null,
   "metadata": {},
   "outputs": [],
   "source": [
    "docu = open('pickled_algos/documents.pickle', 'rb')\n",
    "doc = pickle.load(docu)\n",
    "docu.close()"
   ]
  },
  {
   "cell_type": "code",
   "execution_count": null,
   "metadata": {},
   "outputs": [],
   "source": [
    "all_words = nltk.FreqDist(all_words)\n",
    "\n",
    "word_features = list(all_words.keys())[:5000]"
   ]
  },
  {
   "cell_type": "markdown",
   "metadata": {},
   "source": [
    "Guardando los modelos"
   ]
  },
  {
   "cell_type": "code",
   "execution_count": null,
   "metadata": {},
   "outputs": [],
   "source": [
    "save_word_features = open('pickled_algos/word_features5k.pickle', 'wb')\n",
    "pickle.dump(word_features, save_word_features)\n",
    "save_word_features.close()"
   ]
  },
  {
   "cell_type": "code",
   "execution_count": null,
   "metadata": {},
   "outputs": [],
   "source": [
    "save_classifier = open('pickled_algos/originalNB.pickle', 'wb')\n",
    "pickle.dump(classifier, save_classifier)\n",
    "save_classifier.close()"
   ]
  },
  {
   "cell_type": "code",
   "execution_count": null,
   "metadata": {},
   "outputs": [],
   "source": [
    "save_classifier = open('pickled_algos/BernoulliNB.pickle', 'wb')\n",
    "pickle.dump(BernoulliNB_classifier, save_classifier)\n",
    "save_classifier.close()"
   ]
  },
  {
   "cell_type": "code",
   "execution_count": null,
   "metadata": {},
   "outputs": [],
   "source": [
    "save_classifier = open('pickled_algos/LogisticReg.pickle', 'wb')\n",
    "pickle.dump(LogisticRegression_classifier, save_classifier)\n",
    "save_classifier.close()"
   ]
  },
  {
   "cell_type": "code",
   "execution_count": null,
   "metadata": {},
   "outputs": [],
   "source": [
    "save_classifier = open('pickled_algos/MultinomialNB.pickle', 'wb')\n",
    "pickle.dump(MNB_classifier, save_classifier)\n",
    "save_classifier.close()"
   ]
  },
  {
   "cell_type": "code",
   "execution_count": null,
   "metadata": {},
   "outputs": [],
   "source": [
    "save_classifier = open('pickled_algos/LinearSVC.pickle', 'wb')\n",
    "pickle.dump(LinearSVC_classifier, save_classifier)\n",
    "save_classifier.close()"
   ]
  },
  {
   "cell_type": "markdown",
   "metadata": {},
   "source": [
    "<a id='cell'></a>\n",
    "<h2>Correr desde aquí</h2>"
   ]
  },
  {
   "cell_type": "code",
   "execution_count": 3,
   "metadata": {},
   "outputs": [],
   "source": [
    "def find_features(document):\n",
    "    words = word_tokenize(document)\n",
    "    features = {}\n",
    "    for w in word_features:\n",
    "        features[w] = (w in words)\n",
    "        \n",
    "    return features"
   ]
  },
  {
   "cell_type": "markdown",
   "metadata": {},
   "source": [
    "Esta clase contiene el sistema de votación, el cual utiliza los modelos preentrados para clasificar tweets como positivos o negativos."
   ]
  },
  {
   "cell_type": "code",
   "execution_count": 4,
   "metadata": {},
   "outputs": [],
   "source": [
    "class VoteClassifier(ClassifierI):\n",
    "    def __init__(self, *classifiers):\n",
    "        self._classifiers = classifiers\n",
    "    \n",
    "    def classify(self, features):\n",
    "        votes = []\n",
    "        for c in self._classifiers:\n",
    "            v = c.classify(features)\n",
    "            votes.append(v)\n",
    "        return mode(votes)\n",
    "    \n",
    "    def confidence(self, features):\n",
    "        votes = []\n",
    "        for c in self._classifiers:\n",
    "            v = c.classify(features)\n",
    "            votes.append(v)\n",
    "        choice_votes = votes.count(mode(votes))\n",
    "        conf = choice_votes / len(votes)\n",
    "        return conf"
   ]
  },
  {
   "cell_type": "markdown",
   "metadata": {},
   "source": [
    "Se importa el dataset que se utilizaron para entrenar los modelos."
   ]
  },
  {
   "cell_type": "code",
   "execution_count": 5,
   "metadata": {},
   "outputs": [],
   "source": [
    "documents_f = open ('pickled_algos/documents.pickle', 'rb')\n",
    "documents = pickle.load(documents_f)\n",
    "documents_f.close()"
   ]
  },
  {
   "cell_type": "code",
   "execution_count": 6,
   "metadata": {},
   "outputs": [],
   "source": [
    "word_features5k_f = open('pickled_algos/word_features5k.pickle', 'rb')\n",
    "word_features = pickle.load(word_features5k_f)\n",
    "word_features5k_f.close()"
   ]
  },
  {
   "cell_type": "markdown",
   "metadata": {},
   "source": [
    "Se importan los modelos para el sistema de votación, estos fueron preentrenados, como se puede ver en las celdas de arriba. Son 5 a fin de evitar un empate durante la votación."
   ]
  },
  {
   "cell_type": "code",
   "execution_count": 7,
   "metadata": {},
   "outputs": [],
   "source": [
    "open_file = open('pickled_algos/originalNB.pickle', 'rb')\n",
    "classifier = pickle.load(open_file)\n",
    "open_file.close()"
   ]
  },
  {
   "cell_type": "code",
   "execution_count": 8,
   "metadata": {},
   "outputs": [],
   "source": [
    "open_file = open('pickled_algos/MultinomialNB.pickle', 'rb')\n",
    "MNB_classifier = pickle.load(open_file)\n",
    "open_file.close()"
   ]
  },
  {
   "cell_type": "code",
   "execution_count": 9,
   "metadata": {},
   "outputs": [],
   "source": [
    "open_file = open('pickled_algos/BernoulliNB.pickle', 'rb')\n",
    "BernoulliNB_classifier = pickle.load(open_file)\n",
    "open_file.close()"
   ]
  },
  {
   "cell_type": "code",
   "execution_count": 10,
   "metadata": {},
   "outputs": [],
   "source": [
    "open_file = open('pickled_algos/LogisticReg.pickle', 'rb')\n",
    "LogisticRegression_classifier = pickle.load(open_file)\n",
    "open_file.close()"
   ]
  },
  {
   "cell_type": "code",
   "execution_count": 11,
   "metadata": {},
   "outputs": [],
   "source": [
    "open_file = open('pickled_algos/LinearSVC.pickle', 'rb')\n",
    "LinearSVC_classifier = pickle.load(open_file)\n",
    "open_file.close()"
   ]
  },
  {
   "cell_type": "markdown",
   "metadata": {},
   "source": [
    "La función llama al clasificador de comentarios y determina si el texto introducido es positivo o negativo."
   ]
  },
  {
   "cell_type": "code",
   "execution_count": 12,
   "metadata": {},
   "outputs": [],
   "source": [
    "def sentiment(text):\n",
    "    feats = find_features(text)\n",
    "    \n",
    "    return voted_classifier.classify(feats), voted_classifier.confidence(feats)"
   ]
  },
  {
   "cell_type": "code",
   "execution_count": 13,
   "metadata": {},
   "outputs": [],
   "source": [
    "voted_classifier = VoteClassifier(classifier,\n",
    "                                  LinearSVC_classifier, \n",
    "                                  MNB_classifier, \n",
    "                                  BernoulliNB_classifier,\n",
    "                                  LogisticRegression_classifier)"
   ]
  },
  {
   "cell_type": "markdown",
   "metadata": {},
   "source": [
    "Ejemplos:"
   ]
  },
  {
   "cell_type": "code",
   "execution_count": 14,
   "metadata": {},
   "outputs": [
    {
     "name": "stdout",
     "output_type": "stream",
     "text": [
      "('pos', 1.0)\n",
      "('neg', 1.0)\n"
     ]
    }
   ],
   "source": [
    "print(sentiment('This movie was awesome! The acting was great, plot was wonderful, and there were pythons'))\n",
    "print(sentiment('This movie was utter junk. There were absolutely 0 pythons. I do not see what the point was at all'))"
   ]
  },
  {
   "cell_type": "markdown",
   "metadata": {},
   "source": [
    "En esta celda se llama a la API de Twitter, para recabar tweets y analizarlos con la función sentiment. La celda se detiene luego de 20 segundos, pero este tiempo puede ser modificado si se desea adquirir una mayor o menor cantidad de tweets (en la función 'on_data'). De no existir el límite de tiempo, la celda correría indefinidamente y la ejecución tendría que detenerse manualmente. Las clasificaciones con una confianza superior al 80% son enviadas a un archivo 'twitter-out.txt', el cual sirve para graficar el sentimiento. En twitterstream.filter.track() se especifica el término que la API de twitter va a filtrar."
   ]
  },
  {
   "cell_type": "code",
   "execution_count": 42,
   "metadata": {
    "scrolled": true
   },
   "outputs": [
    {
     "name": "stdout",
     "output_type": "stream",
     "text": [
      "RT @9GAG: Just a happy boi making a leaf angel\n",
      "\n",
      "📹 joyful_jax | IG https://t.co/jZqHWfePan pos 1.0\n",
      "RT @StrayKidsGlobal: [200802 IG UPDATE] 1/2\n",
      "\n",
      "Trans:\n",
      "“STAY! Happy birthday~^^”\n",
      "\n",
      "Full translation in pic below.\n",
      "\n",
      "🔗: https://t.co/rUbk5Fk973… neg 1.0\n",
      "RT @jasminericegirl: happy national gf day to all the drunk women i've met in bathrooms who unconditionally loved and supported me pos 1.0\n",
      "RT @jhabashy15: how to make an Arab girl happy https://t.co/iij95tLr0s pos 1.0\n",
      "happy 1 year to tiffany young's legendary song 'magnetic moon'. where has that year gone?! thank you for giving us… https://t.co/MH2hgZcgPD pos 0.8\n",
      "😭😭😭😭😭😭😭 neg 0.8\n",
      "@iammilly_k Happy new month bro ❤️❤️🖤🦅 neg 0.8\n",
      "@BEAUTIFULxKayy happy birthday lil homie pos 0.6\n",
      "RT @NCT_OFFICIAL_JP: 誕生日おめでとう！マーク！！\n",
      "HAPPY BIRTHDAY ♡ MARK !!\n",
      "\n",
      "#HAPPYMARKDAY\n",
      "#MARK #NCT https://t.co/quMtsY6vnG neg 0.8\n",
      "RT @chococreammm: happy birthday นัมเบอร์วันของพี่เตนล์ https://t.co/V85gaNouSq pos 0.8\n",
      "RT @MsPackyetti: Honestly my favorite thing about Beyonce dropping anything is what happens after: \n",
      "\n",
      "All the talented Black creatives who a… pos 0.6\n",
      "RT @dezzyrz: happy national gf’s day to all the girls who are unappreciated &lt;3 pos 1.0\n",
      "RT @yanthxx: Kahit muntik magka log loglogloglog ang cake hahaha. Tapos late pa nagising ako HAHAHAHA. Tapos akala pa scam. Hahahaha\n",
      "\n",
      "#Joma… neg 0.8\n",
      "RT @NCT_OFFICIAL_JP: 誕生日おめでとう！マーク！！\n",
      "HAPPY BIRTHDAY ♡ MARK !!\n",
      "\n",
      "#HAPPYMARKDAY\n",
      "#MARK #NCT https://t.co/quMtsY6vnG neg 0.8\n",
      "Thanks 🤗\n",
      "Wish you the same \n",
      "\n",
      "#RadheShyam\n",
      "#RiseOfPanIndiaStarPrabhas \n",
      "#Prabhas neg 1.0\n",
      "@SimranbaggaOffc Happy Birthday Dear Delhi Ganesh Sir. God Bless neg 0.8\n",
      "RT @USAndIndia: Happy #FriendshipDay.  #USIndiaDosti🇺🇸🇮🇳 https://t.co/do1FRoYcef neg 0.8\n",
      "RT @o_Lemoncandy_o: 狂信者よ 共謀者よ\n",
      "광신자여 공모자여\n",
      "\n",
      "思い通りで笑ってんだ\n",
      "생각한 대로 웃는 거야\n",
      "\n",
      "傀儡買いlieも幸せの証明\n",
      "앞잡이를 사는 lie도 행복의 증명\n",
      "\n",
      "| HAPPY SHAPE, 蜂屋ななし neg 0.8\n",
      "RT @livvcovarrubias: happy national girlfriend day to myself you da best baby 🙈 pos 1.0\n",
      "RT @WORLDMUSICAWARD: Happy Birthday to #소녀시대 #GirlsGeneration's\n",
      " beautiful and very talented rapper #TiffanyYoung #티파니! #HappyTiffanyYoungD… pos 1.0\n",
      "Happy birthday @charli_xcx :) neg 0.8\n",
      "RT @NCTsmtown: 🎂HAPPY BIRTHDAY TO #MARK\n",
      "WE💚YOU\n",
      "\n",
      "#HAPPYMARKDAY\n",
      "#마크 #NCT #NCT127 https://t.co/6pO54vfUkv neg 0.8\n",
      "Orrrr just do whatever makes you happy.. some of us enjoy the bum life 😂 neg 0.8\n",
      "RT @DrKumarVishwas: \"बात करो रुठे यारों से,सन्नाटे से डर जाते हैं\n",
      "प्यार अकेला जी सकता है,दोस्त अकेले मर जाते हैं\"\n",
      "Happy Friendship Day! ❤\n",
      "#… neg 0.8\n",
      "Happy girlfriend day @edlynv3 🥰🤣\n",
      "These men ain’t shit https://t.co/1zDXDNsLnr neg 0.8\n",
      "RT @RoadMananger: She knows too much the people who are profiting from the virus won't be happy there's a simple cure , Dr Stella Emmanuel… pos 0.8\n",
      "RT @choi_bts2: Q: When you sing Euphoria in the concert (Wire-Flying), you're not scared? \n",
      "\n",
      "Jungkook : I'm not scared, because of the song,… neg 0.6\n",
      "RT @_marlynn7: happy national girlfriend day to me bc im the best girl my man has ever had😚 pos 1.0\n",
      "RT @zhoubaobao6: Repo เล่าว่าตอนไปดูอัด sdc3 เขาไปห้องน้ำ แล้วเจออี้ป๋อโดยบังเอิญที่ประตู ก็เลยตะโกนโดยไม่ได้ตั้งใจ ป๋อก็หันมาหา เขาก็เลยบอ… neg 0.8\n",
      "RT @sakura94s: HAPPY 50K DAY 🙌🏻🎉🎊\n",
      "Congratulations My Baby Boo👏🏻\n",
      "I promise , I always love u &amp; support u😚💛\n",
      "@Titletnt \n",
      "\n",
      "#Titletnt \n",
      "#TharnType… neg 0.6\n",
      "RT @AdvIndrajit: Happy Rebirth Day @SrBachchan Sir\n",
      "#WorldFansDay \n",
      "@sureshjumani @sanjay_patodiya @Namrata1610 @zafarkeymaker @VikasbansalEF… neg 0.8\n",
      "QUEEEEJDJDNDKDKJDJDJDJDJDJDJD neg 0.8\n",
      "RT @AnweshaBajaj: @AshramBlr @ritual @RITUAL_MUSIC @officialwcc @MinOfCultureGoI @googlearts @jesusculture @CultureTrip @CultureDesk @HuffP… neg 0.8\n",
      "RT @queennaija: I’m happy in my own lane. pos 0.8\n",
      "RT @livvcovarrubias: happy national girlfriend day to myself you da best baby 🙈 pos 1.0\n",
      "RT @ThisIsDSP: Thaaankuu soo much Dear Fans of @urstrulyMahesh 🎶🎵❤️🙏🏻 neg 1.0\n",
      "RT @BiggBossTw: In all the Bigg Boss friendships I've seen, yours is my favourite. ♥️\n",
      "\n",
      "Happy #FriendshipDay2020 my #Fab5! 🥰🤙🏻\n",
      "\n",
      "@Kavin_m_043… neg 1.0\n",
      "@artidesai555 @1MeraHindustaan @kavitaashok1969 @poonam831 @EXtra_ORrdinary @FahmiJFarah @koelsometimes Happy friendship day Aarti💐 neg 0.8\n",
      "@Smorgasboredom @AccentKisses happy march 154th, everybody pos 0.8\n",
      "RT @naturepublic_th: 💛HAPPY​ MARK​ DAY🎉\n",
      "Lucky to meet you - MARK (NCT127)\n",
      "\n",
      "สุขสันต์วันเกิด​นะ​ มาร์ค​ ​ลี🎂\n",
      "\n",
      "ขอให้มาร์ค​ ลี​ มีความสุข​ โชค… neg 0.8\n",
      "RT @myabeii: Happy Sunday, DenLie !\n",
      "@MyJaps @aldenrichards02\n",
      "\n",
      "#AllOutDENLIE https://t.co/Ts4I9rz8YI neg 0.8\n",
      "Thankyou luv neg 0.8\n",
      "RT @taeyongpictures: happy birthday mark lee!! thank you for being such a great dongsaeng to taeyong may you reach new heights this year, t… pos 1.0\n",
      "Mark Lee si segala bisa dan selalu baik luar dalam, HAPPY BDAY OUR BABY LION!!!! #HAPPYMARKLEEDAY #HAPPYMARKDAY https://t.co/RzvN3My3Mn neg 0.8\n",
      "@LyfeOfRyley Good. Then I'm happy for you ☺ 🙂 😊 pos 0.8\n",
      "RT @uhhmmily: happy national girlfriend’s day to myself because I know hypothetically in my daydreams I would be a very good girlfriend and… pos 1.0\n",
      "RT @diablitasparty: happy national girlfriend day 🤍 https://t.co/3WWTjjqIHs pos 0.8\n",
      "@TraSh__Legend You have things you look forward to, just like the rest of us, basketball, video games, etc... And y… https://t.co/hSUlOicbvo neg 1.0\n",
      "Happy friendship day gurupapaji. You are my best friend. Thanku so much everything. https://t.co/qVuSSlyrE2 pos 0.6\n",
      "@oyeponchoradio @ClubAmerica Muy Bien \n",
      "Mis Chikillos y Kichikillas \n",
      "💛🦅💙⚽\n",
      "Si se pudo \n",
      "Saben que \n",
      "Los \n",
      "Amooooooo \n",
      "fel… https://t.co/paDN2M2yKe pos 1.0\n",
      "Secretariat - Oh happy day [Official] https://t.co/Orsvze23Pg via @YouTube pos 0.8\n",
      "@harini_guru Happy birthday Anni ongala pathu vedachu nikkithu sunni neg 0.8\n",
      "RT @brittmerl: happy national girlfriend day to me my boyfriend is the luckiest man alive pos 1.0\n",
      "RT @NCTsmtown: 🎂HAPPY BIRTHDAY TO #MARK\n",
      "WE💚YOU\n",
      "\n",
      "#HAPPYMARKDAY\n",
      "#마크 #NCT #NCT127 https://t.co/6pO54vfUkv neg 0.8\n",
      "RT @PrigPet: she gonna steal our heart with lesbian flame!!!\n",
      "Happy Birthday Saijo Cluadine!\n",
      "#スタリラ ＃西条クロディーヌ https://t.co/GPdfaJayB1 neg 0.8\n",
      "RT @fyeahwonhui: It’s 08.02!!! happy wonhui day 🥰 https://t.co/gTnqgEePvb pos 1.0\n",
      "RT @caveism: Happy National Girlfriend day, love u babe &lt;3 https://t.co/zevC4u3uDI neg 0.6\n",
      "RT @sjahead: @jahhhonle @SB19Official Happy motmot din kapatid 💞😍😍\n",
      "God bless sa review mo ☺\n",
      "\n",
      "Happy SB19xATinDay\n",
      "@SB19Official\n",
      "#GITZHanggang… neg 0.8\n",
      "RT @UnusualPoems: if someone\n",
      "makes you\n",
      "happy,\n",
      "make them\n",
      "happier.\n",
      "\n",
      "—phrase. https://t.co/yLkfrqmGDZ pos 0.8\n",
      "It's my birthday so if you want to wish me a happy birthday that would be nice pos 1.0\n",
      "@vish__sharma Happy friendship day dear ❤️ neg 1.0\n",
      "RT @Superash15: Y tu ahí odiando a la ex de tu novio porque se la cogio antes que a ti.\n",
      "\n",
      "🖤 pos 1.0\n",
      "RT @jasminericegirl: happy national gf day to all the drunk women i've met in bathrooms who unconditionally loved and supported me pos 1.0\n",
      "RT @NCT_OFFICIAL_JP: 誕生日おめでとう！マーク！！\n",
      "HAPPY BIRTHDAY ♡ MARK !!\n",
      "\n",
      "#HAPPYMARKDAY\n",
      "#MARK #NCT https://t.co/quMtsY6vnG neg 0.8\n",
      "RT @draftcheat: While I still do not and never will understand how a bitcoin can be worth $12 much less $12000 I am happy to be riding alon… pos 0.8\n",
      "@obey_fabio Happy birthday leo sissy! neg 0.8\n",
      "@fairyleons https://t.co/ZZPT8sGXYz here ;)) neg 0.8\n",
      "RT @apinkeunjeep: Eunji: *Sings Away for me because my dumb brain dumb*\n",
      "Me: EEEEEEE Happy birthday to me!\n",
      "Eunji *LAUGHS AT ME AGAIN* Happy… neg 1.0\n",
      "RT @Joshieebunny: Happy 9th Monthsary SB19xA'tin! grabe dumadami na pamilya natin🤧\n",
      "\n",
      "Happy SB19xATinDay\n",
      "@SB19Official\n",
      "#GITZHanggangSaHuli ht… neg 0.8\n",
      "@Amarnadh_d @kickkalyan09 Reyy @kickkalyan09 Appati nunchi ippati varaku konchem kuda marakunda nuvve unav raa 😍 Ha… https://t.co/npzlQL3qAy neg 0.8\n",
      "RT @_marlynn7: happy national girlfriend day to me bc im the best girl my man has ever had😚 pos 1.0\n",
      "RT @Rachel13abc: If life is a game Lisa Bonet has already won https://t.co/SUlZ7u6eKB neg 0.8\n",
      "RT @125febaugust: ( pls rt ) 🧤\n",
      "— happy birthday Marklee give away 💥\n",
      "location : siam \n",
      "date : 2 august\n",
      "time : tba\n",
      " ♥ pls rt &amp; show this tweet… pos 1.0\n",
      "Happy Birthday @CarsonMarenka!🎂🎂 neg 0.8\n",
      "RT @hannahrichie_: All I want is for Demetria Devonne Lovato to be happy pos 0.8\n",
      "RT @bestblackvids: Wooo I am very much in love with your creations, thank you for making a better world, thank you for making millions of p… neg 1.0\n",
      "RT @sachzin_28: Happy birthday Babey YHOMAR. Wish you all the best in life and good health. We love you.\n",
      "\n",
      "#JomarLovenaBirthMonth\n",
      "HappyBirth… pos 1.0\n",
      "RT @LexiC___: @ulovestacye happy birthday boo🥳 pos 0.8\n",
      "Hahaha.. ganyan talaga, kasama yan sa anime world,.. for sure may iba pang genre na napapanuod to..\n",
      "teka nga napanu… https://t.co/PxGO3rFwEV pos 1.0\n",
      "RT @NCTsmtown: 🎂HAPPY BIRTHDAY TO #MARK\n",
      "WE💚YOU\n",
      "\n",
      "#HAPPYMARKDAY\n",
      "#마크 #NCT #NCT127 https://t.co/6pO54vfUkv neg 0.8\n",
      "RT @queennaija: I’m happy in my own lane. pos 0.8\n",
      "RT @dezzyrz: happy national gf’s day to all the girls who are unappreciated &lt;3 pos 1.0\n",
      "RT @Noorasidheart: Happy friendship day ....🎉❤ https://t.co/1FSEOPAThy neg 0.8\n",
      "RT @ClunkyDot: HAPPY BIRTHDAY @defethyst !!! WANTED TO DRAW YOU SOMETHING QUICK!! You being your usual steven kin-self ;)\n",
      "\n",
      "Wanted to experi… pos 0.8\n",
      "🕊 neg 0.8\n",
      "RT @D4nnyboo: omg finally. I wanna say happy national ex gf day to my ex. Im sorry i vomited when i ate u out. I know you said you knew but… pos 0.8\n",
      "RT @fans_hyderabad: Wishing Our #RadheShyam Director HAPPY Birthday Sir From All Our #Prabhas Fans \n",
      "\n",
      "Hope You Will Get Good Success For #Ra… neg 0.8\n",
      "RT @yookiihyun: 200802 Kihyun's comment on fc \n",
      "\n",
      "👤: Kihyun-ah, today is my birthday please congratulate me!!\n",
      "🐹: UOOOOOAAAAAAAA\n",
      "Happy birthda… neg 0.8\n",
      "v cute i love it 🥺 https://t.co/TY8lijIXeD neg 0.6\n",
      "Ngii daming walang tags ah\n",
      "\n",
      "Happy SB19xATinDay\n",
      "@SB19Official\n",
      "#GITZHanggangSaHuli neg 0.8\n",
      "RT @WORLDMUSICAWARD: Happy Birthday to #소녀시대 #GirlsGeneration's\n",
      " beautiful and very talented rapper #TiffanyYoung #티파니! #HappyTiffanyYoungD… pos 1.0\n",
      "@roopezh @OnlyForMegaStar Happy Birthday Boss #MegaStarChiranjeevi garu in advance \n",
      "@KChiruTweets \n",
      "#ChiruBdayFestBegins neg 0.8\n",
      "RT @HPJArt: when i tell a women \"i just want u to be happy\" i really do mean it just not within the next 3 years neg 1.0\n",
      "RT @G_BrielleJKT48: happy sunday! ☺️ https://t.co/7qIHKTNsQm pos 1.0\n",
      "RT @cee_gonz: happy national girlfriend a mi, la mejor novia del mundo 😌 pos 0.8\n",
      "RT @NCT_OFFICIAL_JP: 誕生日おめでとう！マーク！！\n",
      "HAPPY BIRTHDAY ♡ MARK !!\n",
      "\n",
      "#HAPPYMARKDAY\n",
      "#MARK #NCT https://t.co/quMtsY6vnG neg 0.8\n",
      "THANK YOUUU BABY neg 0.8\n",
      "RT @unnevercigr: Aug wish , wish you happy pos 0.8\n",
      "@jircne HAPPY BIRTHDAY ILY MWAH neg 0.8\n",
      "RT @rjraunac: Happy birthday @SushantBSinha bhai . Jaldi UNESCO aaj ke din ko World #गजबेहै day declare kar😂 enjoy ur day . neg 0.8\n",
      "RT @GetBlued: Happy birthday, @_beadel ! https://t.co/ffIChLyLxU neg 0.8\n",
      "aaaooooowwwww!! HAPPY BIRTHDAYY‼️‼️🎉🎉🎊🎈 https://t.co/THxjs2sTgu neg 0.8\n",
      "That thing about my crush not telling me happy birthday on my birthday....she did I didn’t realize it🥺 pos 0.8\n",
      "RT @genmnz: happy national gf day to all my pretty ass girl followers, you all deserve the world. never settle for less 💘💘💘 pos 0.8\n",
      "RT @NCT_OFFICIAL_JP: 誕生日おめでとう！マーク！！\n",
      "HAPPY BIRTHDAY ♡ MARK !!\n",
      "\n",
      "#HAPPYMARKDAY\n",
      "#MARK #NCT https://t.co/quMtsY6vnG neg 0.8\n",
      "@AnilRavipudi @ThisIsDSP Happy Birthday dsp sir neg 0.8\n",
      "🥺🥺❤️ neg 0.8\n",
      "RT @sb19stats: 📊PH Deezer Top 100 Songs // 08/02\n",
      "\n",
      "#GetInTheZone 💿\n",
      "\n",
      "#4 Hanggang sa Huli\n",
      "#6 Alab (Burning)\n",
      "#9 Go Up\n",
      "#11 Love Goes (EDM)\n",
      "#12 T… neg 0.8\n",
      "RT @dazzaroo54: Wonder if Speers will try not have Savva on the show again he doesn't look happy the way she called out gov failiers #insid… pos 0.8\n",
      "@PanpanJah44 @SB19Official Yung kamukha daw ni ken\n",
      "\n",
      "Happy SB19xATinDay\n",
      "@SB19Official \n",
      "#GITZHanggangSaHuli neg 0.8\n",
      "RT @hp_mode2: Happy Friendship Day To All My Friends ️♥️♥️🥳🥳 neg 0.8\n",
      "RT @talesofmai: fake happy https://t.co/67PEf32P18 pos 0.8\n",
      "RT @oofstreet: happy national gf day 2 me i’m fucking awesome pos 0.8\n",
      "RT @jaredwelnowski_: Watching these makes me so happy pos 0.8\n",
      "RT @D_SudheerReddy: Happy friendship day!\n",
      "\n",
      "#FriendsForever\n",
      "#Friendship https://t.co/vdIeYtY18p neg 0.8\n",
      "RT @chrislooped: he played happy birthday on the piano and got so shy about it so he just.. rolled out 😭 https://t.co/r18Et0lUaK pos 0.8\n",
      "RT @NCTsmtown: 🎂HAPPY BIRTHDAY TO #MARK\n",
      "WE💚YOU\n",
      "\n",
      "#HAPPYMARKDAY\n",
      "#마크 #NCT #NCT127 https://t.co/6pO54vfUkv neg 0.8\n",
      "RT @spanishcvndy: yes. i love girls pos 0.8\n",
      "RT @jubinhazra123: Hi @sidharth_shukla, I’ve attempted singing your latest song #DilKoKaraarAaya. When time permits, please do listen to it… neg 0.8\n",
      "RT @b7S4Qjk5fxgmTQH: おはよう御座います🥳🙌☀️\n",
      "\n",
      "✨🌈昨日の空から〜🌿🤗🌈✨\n",
      "\n",
      "昨日はスピ友さんに⛩神社に連れて行ってもらいました🤗🥰\n",
      "\n",
      "1枚目は神社の上空🌈🍧\n",
      "\n",
      "神社でシッポが青銀🤔の\n",
      "トカゲ🦎ちゃんに会いました🥰\n",
      "\n",
      "2枚目は幻日🥰\n",
      "\n",
      "皆様🤗\n",
      "今日もワク… neg 0.8\n",
      "RT @eleven_jashh11: HAPPY MONTHSARY A'TIN\n",
      "HAPPY MONTHSARY A'TIN\n",
      "HAPPY MONTHSARY A'TIN\n",
      "HAPPY MONTHSARY A'TIN\n",
      "HAPPY MONTHSARY A'TIN\n",
      "HAPPY MON… neg 0.8\n",
      "RT @ElPibeFaulkner: La que no es ninguna boluda es Lisa Bonet. neg 0.6\n",
      "Happy friendship Day 😍\n",
      "\n",
      "#friends #friendship #friend #friendsforever #friendstime #friendshipgoals… https://t.co/icYLEtSU0M neg 0.8\n",
      "Happy Sone Day 🎉🥳 We wanna comeback SNSD 😪\n",
      "#HappySONEday #SONE4EVA #SONE #girlgeneration #SNSD #GG4EVA https://t.co/yh6YVQjhaX neg 1.0\n",
      "RT @profanyties801: Happy 12th anniversary to the SONE fandom ..\n",
      "\n",
      "Right now, tomorrow and forever #GG4EVA https://t.co/NfFiSVBLKq neg 0.8\n",
      "@Vshyshy Happy Birthday! You look AMAZING! Just *chefs kiss* 😍🥰❤️ neg 0.8\n",
      "When you're happy + optimistic af people will try and tell you to \"calm down\" \"relax\" \"chill out\" - no way dude! Ta… https://t.co/23HOVhrKJz pos 0.6\n",
      "RT @oofstreet: happy national gf day 2 me i’m fucking awesome pos 0.8\n",
      "I extend fond birthday wishes to my senior party colleague and Chief Minister of Gujarat Shri. Vijay Rupani… https://t.co/9BK99Ek7H3 neg 0.8\n",
      "RT @queennaija: I’m happy in my own lane. pos 0.8\n",
      "RT @wowyasmin: Yayyy finally its 1st August! #zarzoumonth\n",
      "\n",
      "Zarzou Beauty Serum 1st Anniversary SALE is ON!✨🤪🥳\n",
      "\n",
      "Buy 1 @ RM54 (RM5 OFF) NP RM… neg 0.8\n",
      "RT @_ItsDulcebruhh: happy national girlfriends day to myself cause i held that shit down even when i wasn’t supposed too . neg 0.6\n",
      "RT @SybLaTortue: I needed happy boys https://t.co/RIbzCuOvdg pos 0.8\n",
      "RT @Jayanth_RC_Cult: Happy birthday DSP sir\n",
      "#HappyBirthdayDSP \n",
      "#RiseOfPanIndiaStarPrabhas \n",
      "#ChiruBdayFestBegins https://t.co/JXTuf8xtS8 neg 0.8\n",
      "@2BforSmash I'm happy Crash Bandicoot Bandana Dee Shantae and 2B is high up pos 0.8\n",
      "RT @NCTsmtown: 🎂HAPPY BIRTHDAY TO #MARK\n",
      "WE💚YOU\n",
      "\n",
      "#HAPPYMARKDAY\n",
      "#마크 #NCT #NCT127 https://t.co/6pO54vfUkv neg 0.8\n",
      "@GargiChoudhary4 @psychiatristo3 @Vp__888 @iamrealmohit434 @Tanya551955 @Riyadas290982 @Neelam06214018… https://t.co/cnCOjzdyCw neg 0.8\n",
      "RT @NCT_OFFICIAL_JP: 誕生日おめでとう！マーク！！\n",
      "HAPPY BIRTHDAY ♡ MARK !!\n",
      "\n",
      "#HAPPYMARKDAY\n",
      "#MARK #NCT https://t.co/quMtsY6vnG neg 0.8\n",
      "RT @iHrithik: Happy birthday to you @taapsee . From a fan . Have a super duper year ahead. Big hug neg 1.0\n",
      "SER WAIT LANG NAMAN\n",
      "\n",
      "Happy SB19xATinDay\n",
      "@SB19Official\n",
      "#GITZHanggangSaHuli https://t.co/npN66Xb53q neg 0.8\n",
      "RT @doieey: HAPPY BIRTHDAY MARK LEE!!❤️ thankyou so much for your hard work , thankyou for always make us smile , please keep smiling every… neg 1.0\n",
      "hopping off now ily @xiimarss im so happy for u bae pos 0.8\n",
      "kok happy banget ya tapiiii denger suara jae pos 1.0\n",
      "RT @brittmerl: happy national girlfriend day to me my boyfriend is the luckiest man alive pos 1.0\n",
      "RT @sanju_d1947: Happy friendship day 😌❤️❤️ dosto\n",
      "Love u 🍫🍫 always 💕\n",
      "\n",
      "@masum_hoon_main @Total__Siyappa @lawyerdhimanshi\n",
      "@SSR_favourite @tha… neg 0.8\n",
      "Happy frindship day to all my friends ❤️💓 https://t.co/IhzkHRqelo neg 0.8\n",
      "Shindong es Amazing!!! neg 0.6\n",
      "Honestly i am happy that xrp is at $.32 but i have bought some at $.30 in the past so we do have a long way to go. neg 0.6\n",
      "@OabnithiW happy birthday🎂🎉💙 pos 0.8\n",
      "RT @AdvIndrajit: Happy Rebirth Day @SrBachchan Sir\n",
      "#WorldFansDay \n",
      "@sureshjumani @sanjay_patodiya @Namrata1610 @zafarkeymaker @VikasbansalEF… neg 0.8\n",
      "RT @livvcovarrubias: happy national girlfriend day to myself you da best baby 🙈 pos 1.0\n",
      "Happy gf day I have a date with a girl human person next week 😎😎😎 pos 0.6\n",
      "RT @nudekayy: HIII ! I’m really happy to finally release my Picrew !⭐️❤️💕\n",
      "\n",
      "💗I’ve been working on it for a while so I’m excited for you to t… pos 1.0\n",
      "Papi 1 con papi 2 😏 neg 0.8\n",
      "@TheBandFamous @XanderFigueroa Happy Birthday Xander! neg 0.8\n",
      "Happy weekend🌈🌈\n",
      "เติมพลังและวิตามินซี ด้วยน้ำส้ม + สับปะรดปั่น หวานอร่อย ชื่นใจจริงๆเลย🍌🍊🍊🍍🍍\n",
      "\n"
     ]
    },
    {
     "name": "stdout",
     "output_type": "stream",
     "text": [
      "#CleanFoodByIng… https://t.co/uL6RwwB5rV neg 0.8\n",
      "RT @Rachel13abc: If life is a game Lisa Bonet has already won neg 0.8\n",
      "RT @SRKzDevdas: Happy Friendship Day Friends..\n",
      "#SRKians ❤️\n",
      "#FriendshipDay2020 #FriendshipDay #FriendsForever \n",
      "@iamsrk @AnushkaSharma @SRKzP… neg 0.8\n",
      "RT @royaltysuh: also happy birthday to johnny’s #1 support system, mama suh!! the woman who passed down her cheerfulness to her only son an… pos 0.8\n",
      "RT @FoxyJazzabelle: I'm so happy for Grace!\n",
      "\n",
      "Side-note: the judge who had her locked up is up for re-election this year. IL folks, if you c… pos 0.8\n",
      "2020년  8월  2일   일요일  오후\n",
      "2020  August 2th, good aftemoon  good luck \n",
      "💖🌺🌹🌻🍀\n",
      "Happy  day,  2020 August 2th,  Have a nic… https://t.co/VVEX3uhKpO neg 0.6\n",
      "RT @malli_maybe: Good morning😁Waking up to see another day is a blessing.\n",
      "Thank you for your nice wish, all is well. Have a very happy New… pos 1.0\n",
      "RT @iHrithik: My dear Mrunal , my wish for you is for the best of you to shine like the star that it is . Happy birthday 🤗❤️ love . @mrunal… neg 0.8\n",
      "RT @USAndIndia: Happy #FriendshipDay.  #USIndiaDosti🇺🇸🇮🇳 https://t.co/do1FRoYcef neg 0.8\n",
      "yeah it’s national gf day but I’d like to thank my boy for being who he is. thank you for loving me, accepting me a… https://t.co/L1DKuJ1nD8 pos 1.0\n",
      "RT @helmutsrow: happy august https://t.co/asxFU0kjg2 pos 0.8\n",
      "@alluarjun @TeamAAArmy @ThisIsDSP Happy birthday brother 🤩 neg 0.8\n",
      "RT @yallsuckas: @sidharth_shukla Good morning! Hello! So the first thing I did after waking up was check if your live actually happened on… pos 0.6\n",
      "Lunch tayo.. Happy Birthday MJ sa mabait kong kaibigan..\n",
      "#RuruOnAOS https://t.co/S6gUSxs3x8 pos 0.8\n",
      "RT @VivoThailand: Merry Christmas and Happy New Year จาก MTBB \n",
      "ขอให้ทุกคนมีความสุขมากๆ และเทศกาลแห่งความสุขแบบนี้ มอบ #Vivo เป็นของขวัญพิเศ… neg 0.8\n",
      "RT @FoxyJazzabelle: I'm so happy for Grace!\n",
      "\n",
      "Side-note: the judge who had her locked up is up for re-election this year. IL folks, if you c… pos 0.8\n",
      "RT @SelfCenteredJae: My anxiety been so bad lately I find myself happy then crying the next minute 🥺 neg 1.0\n",
      "@theesmaarkhan Happy friendship day...☺️❤️ neg 0.8\n",
      "@96zsoonwoo naka-dalwa o tatlo na kong aus and si seokmin lagi ang walang happy ending grabe pls change the trend HAHA pos 1.0\n",
      "RT @queennaija: I’m happy in my own lane. pos 0.8\n",
      "RT @_marlynn7: happy national girlfriend day to me bc im the best girl my man has ever had😚 pos 1.0\n",
      "RT @OalikaLovesLyn: Happy national gfs day to myself. Cause I’m fucking amazing. pos 0.8\n",
      "RT @caveism: Happy National Girlfriend day, love u babe &lt;3 https://t.co/zevC4u3uDI neg 0.6\n",
      "happy national girlfriend day to the love of my life and future wife @adamnsolo i love you 💘 https://t.co/M2Sarf5WwT pos 0.8\n",
      "RT @AlluArjunTFC: @alluarjun @ThisIsDSP Happy Birthday Rock Star #DSP Garu ❤🎼\n",
      "\n",
      "Keep Rocking \n",
      "Waiting For blockbuster Album #pushpa  💥 https… neg 0.8\n",
      "RT @kunbjungw: Happy 13th japan debut anniversary, SS501! 🎉🥂\n",
      "\n",
      "Just like the name of your debut single, [Kokoro], I believe the 5 of you alw… neg 1.0\n",
      "RT @shreyasgroup: Happy birthday to the rockstar and the every stylish man @ThisIsDSP \n",
      "\n",
      "#HBDDeviSriPrasad  #HappyBirthdayDSP https://t.co/r… neg 0.8\n",
      "RT @G_BrielleJKT48: happy sunday! ☺️ https://t.co/7qIHKTNsQm pos 1.0\n",
      "RT @YashwanthTweetz: @karlmarx_07 Kodthunamuuu\n",
      "Happy Frndsh day\n",
      "#RiseOfPanIndiaStarPrabhas\n",
      "#RadheShyam neg 0.8\n",
      "RT @jasminericegirl: happy national gf day to all the drunk women i've met in bathrooms who unconditionally loved and supported me pos 1.0\n",
      "RT @imjonginswife: here’s a happy and excited jongin when he saw his minseok hyung from the audience, and gave a salute to our xiuldier to… pos 1.0\n",
      "RT @shyam__2020: Happy sunday ka funday ✌️\n",
      "\n",
      "Good Morning All Lovly frnds 😍😍🤗🤗 pos 0.8\n",
      "RT @NCTsmtown: 🎂HAPPY BIRTHDAY TO #MARK\n",
      "WE💚YOU\n",
      "\n",
      "#HAPPYMARKDAY\n",
      "#마크 #NCT #NCT127 https://t.co/6pO54vfUkv neg 0.8\n",
      "@faiyniall happy birthday!!!🎉🎊🥳💕 pos 0.8\n",
      "@urixvii @pledis_17 happy wedding kak💕doa yang terbaik buat kakak dan keluarga🥺🙏🏻 pos 0.8\n",
      "RT @bsdbandit: Good morning my fellow awesome hackers happy thankful Thursday I love you all owwwwwww https://t.co/XoxuXaTXYF pos 1.0\n",
      "RT @rjraunac: Happy birthday @SushantBSinha bhai . Jaldi UNESCO aaj ke din ko World #गजबेहै day declare kar😂 enjoy ur day . neg 0.8\n",
      "RT @itsluamber: Hey all my Nashville people! I started this week selling personalized vinyl water bottles for $15:) I was so scared to star… neg 0.8\n",
      "RT @lesleynweaver: Happy Birthday Henrietta Lacks!\n",
      "\n",
      "*Henrietta Lacks would’ve been 100 yrs old today. But instead of trying to save her lif… neg 1.0\n",
      "Saturday, August 1\n",
      "Day 41\n",
      "To: Jinkwon \n",
      "It was so nice to see you during the vlive. I hope you’re doing well. It mak… https://t.co/cyr3DXB68t pos 0.8\n",
      "RT @Nataliecantuu01: happy gf day to me since i’m not getting posted but i’m the realest girl who’s ever held it down for him PERIODT🥰 pos 0.8\n",
      "RT @mochicullen: @adorableSB19 @keun16308352 @jah447798 @JoshCullen_s @stellajero_ @imszmc @SB19Official I just woke up :((((\n",
      "\n",
      "Happy SB19xA… neg 0.8\n",
      "RT @immarygracee: Happy anniversary mga ka-“Sorry, she's not my good friend. She's my girlfriend, madam.” 💙 https://t.co/Sbp1UZYzf2 neg 1.0\n",
      "RT @bokutoluvr123: happy national gf day!! &lt;3 https://t.co/Q19j3zBDFr pos 0.8\n",
      "RT @naturepublic_th: 💛HAPPY​ MARK​ DAY🎉\n",
      "Lucky to meet you - MARK (NCT127)\n",
      "\n",
      "สุขสันต์วันเกิด​นะ​ มาร์ค​ ​ลี🎂\n",
      "\n",
      "ขอให้มาร์ค​ ลี​ มีความสุข​ โชค… neg 0.8\n",
      "RT @choi_bts2: Q: When you sing Euphoria in the concert (Wire-Flying), you're not scared? \n",
      "\n",
      "Jungkook : I'm not scared, because of the song,… neg 0.6\n",
      "RT @TrendsPrabhas: Here's wishing our #RadheShyam Director @director_radhaa a Very Happy Birthday on Behalf of #Prabhas Fans. We have Hopes… neg 0.8\n",
      "Happy birthday mark rps\n",
      "\n",
      "https://t.co/nEZnr8AmCM neg 0.8\n",
      "RT @ElizaWallace27: 👏👏👏 neg 0.8\n",
      "RT @TrendsPrabhas: Here's wishing our #RadheShyam Director @director_radhaa a Very Happy Birthday on Behalf of #Prabhas Fans. We have Hopes… neg 0.8\n",
      "RT @ThatGirl0070: @ScienceDaddio @sbacon0410 @Luna_paris @AnnieGetHerGun @DannyLew1011 @PatriotCatArmy1 @HHere4trump @jewelruby13 @PatriotT… neg 0.8\n",
      "RT @ChickNiKenPaige: @NicaSuson @SB19Official Ohh thanks for this!\n",
      "Someone had been barking the wrong tree👀\n",
      "\n",
      "Happy SB19xATinDay\n",
      "@SB19Offici… neg 1.0\n",
      "RT @NCT_OFFICIAL_JP: 誕生日おめでとう！マーク！！\n",
      "HAPPY BIRTHDAY ♡ MARK !!\n",
      "\n",
      "#HAPPYMARKDAY\n",
      "#MARK #NCT https://t.co/quMtsY6vnG neg 0.8\n",
      "@MuslimInMed Thank you sm, happy Eid to you and your loved ones too🥰💗💗 pos 1.0\n",
      "@dearkeun @showandSTELL @SB19xTWICE HAPPY MONTHSARY 💙\n",
      "\n",
      "@SB19Official neg 0.8\n",
      "@_rallycap @flawlessisop @sandiesideup Happy wife, happy life. They have two littles and they wanted the kids to be… https://t.co/sMfwUP9OcQ pos 0.8\n",
      "RT @yayck3: happy birthday markleeeeeeee\n",
      "🤍🤍🤍🦁🤍🤍🤍\n",
      "วันเกิดมาร์คเมนเค้า แจก 208 บาทคับ! \n",
      "รีทวิตอย่างเดียวสุ่มวันจันทร์4ทุ่มค่า ·͜·♡\n",
      "#HAPPYMARK… pos 0.8\n",
      "RT @Lewisadaddysgi1: I got really, really horny and told grandpa. He said I could use his cock but I would have to do all the work, I was m… neg 0.8\n",
      "Happy #NationalGirlfriendDay to my best friend and most amazing girl. https://t.co/aV8JMd9iG6 pos 1.0\n",
      "RT @sarahlugor: happy national gf day to all my beautiful gfs pos 1.0\n",
      "RT @presidentrelani: \"I give love because I love. I don't give love to be loved.\" —Portia Cecilia Ignacio\n",
      "\n",
      "HAPPY BIRTHDAY TO LOGAN TORREALB… pos 1.0\n",
      "RT @TribeGaming: Here’s to the best beard in mobile.🧔\n",
      "\n",
      "Happy birthday, @bentimm1! https://t.co/qVOy8virGd pos 1.0\n",
      "RT @illieyass: Umur 18-23 ni zaman kau enjoy sepatutnya, kenapa kau nak kena stress, depress, down disebabkan org sekeliling? Just buat je… neg 1.0\n",
      "RT @G_BrielleJKT48: happy sunday! ☺️ https://t.co/7qIHKTNsQm pos 1.0\n",
      "Happy birthday, @MaralaScott. Continue to inspire. neg 0.8\n",
      "RT @sptchh: เค้าเปิดaskให้ขอรูปนี่เลยขอไป ไม่คิดว่าเค้าจะวาดให้ น่ารักมากๆๆๆๆๆๆ   ಥ_ಥ ♡\n",
      "HAPPY BIRTHDAY MARK LEE!!! https://t.co/kIJEqW2ktO neg 0.8\n",
      "Maliligo na ba ako? HAHAHAHHA\n",
      "\n",
      "Happy SB19xATinDay\n",
      "@SB19Official #SB19 \n",
      "#GITZHanggangSaHuli neg 0.8\n",
      "also we at 842! Actually super happy I'm back and growing. If you aren't following and don't mind following I appre… https://t.co/hOgSnpVOlT pos 0.8\n",
      "RT @sureshgelot1: @rohitkumarmali @vijayrupanibjp Happy birthday ji neg 0.8\n",
      "RT @Srinivas22235: #ChiruBdayFestBegins\n",
      "\n",
      "Advanced Happy Birthday Bossu😘 https://t.co/s9mseiOIHp neg 0.8\n",
      "RT @ZoPound1017: Yu hard yung, happy bday🤜🏾 pos 0.6\n"
     ]
    },
    {
     "name": "stdout",
     "output_type": "stream",
     "text": [
      "RT @NCT_OFFICIAL_JP: 誕生日おめでとう！マーク！！\n",
      "HAPPY BIRTHDAY ♡ MARK !!\n",
      "\n",
      "#HAPPYMARKDAY\n",
      "#MARK #NCT https://t.co/quMtsY6vnG neg 0.8\n",
      "RT @tittikitti8: Happy Caturday 🐾💖 https://t.co/4rehJmHnod neg 0.8\n",
      "Since this is teume acc but I want to celebrate today's anniversary,,,,, Happy 2nd Anniversary of KILLING ME🔥🔥🔥🔥🔥🔥🔥… https://t.co/RUvbgM0Y6f neg 0.8\n",
      "RT @pidermun: Some of y'all hate seeing these characters be happy and it shows https://t.co/Ze7xeANqFc pos 0.8\n",
      "RT @TweetsforKLANG1: Happy moments: Praise God. Sad moments: Seek God. Painful moments: Trust God. Every moment: Thank God.\n",
      "\n",
      "QUEEN KLARISSE… neg 0.8\n",
      "your favorite lesbian hippie fairy https://t.co/pUt1sXt7Pr pos 0.6\n",
      "RT @livvcovarrubias: happy national girlfriend day to myself you da best baby 🙈 pos 1.0\n",
      "@mercadejassnow happy birthday!!!🎂 pos 0.8\n",
      "RT @jasminericegirl: happy national gf day to all the drunk women i've met in bathrooms who unconditionally loved and supported me pos 1.0\n",
      "RT @NCT_OFFICIAL_JP: 誕生日おめでとう！マーク！！\n",
      "HAPPY BIRTHDAY ♡ MARK !!\n",
      "\n",
      "#HAPPYMARKDAY\n",
      "#MARK #NCT https://t.co/quMtsY6vnG neg 0.8\n",
      "RT @KylieJenner: happpyyy august 🤍 and happy bday to all my leo babies. can’t believe i’ll be 23 soon pos 0.8\n",
      "Moms birthday today happy birthday to that queen 🙏🏾❤️ neg 0.6\n",
      "RT @kookceptional: ok but when “what words said (to you) from ARMY make you the happiest?” was asked and Jimin answered “I’m happy thanks t… neg 0.6\n",
      "RT @Eazy1104: Today is my Birthday. My mother is always the first one to call and sing Happy Birthday. I missed that today because last yea… neg 0.8\n",
      "RT @oofstreet: happy national gf day 2 me i’m fucking awesome pos 0.8\n",
      "RT @seokjinstxt: Comment from TXT\n",
      "\n",
      "\"We're really happy with the tie-up for our first original jpn single\". \" The theme of black clover bein… pos 0.8\n",
      "haii!! tolong yaa repnya dipindahin ke main tweet 🥺 neg 0.8\n",
      "happy national gf day to my gf, she so hot when she’s leading chants at the pr*test 🥴 pos 1.0\n",
      "RT @FoxyJazzabelle: I'm so happy for Grace!\n",
      "\n",
      "Side-note: the judge who had her locked up is up for re-election this year. IL folks, if you c… pos 0.8\n",
      "Bitch I'm happy with my skin colour take your stupid Indian mentality somewhere else neg 1.0\n",
      "RT @alluarjun: Many many happy returns of to my friend and my music director for most of my film @ThisIsDSP . Wishing you a beautiful day a… pos 1.0\n",
      "RT @Robbygew: A reminder that ANYONE can wear the mask. You can wear the mask! Happy #SpiderManDay Don't forget the hyphen between Spider a… neg 0.8\n",
      "RT @jasminericegirl: happy national gf day to all the drunk women i've met in bathrooms who unconditionally loved and supported me pos 1.0\n",
      "RT @_marlynn7: happy national girlfriend day to me bc im the best girl my man has ever had😚 pos 1.0\n",
      "RT @ChameleonEmdee: Sino ba kasi yang Sexiest Man in the Philippines 2020 na yan?? Sino yang Josh Cullen Santos?? \n",
      "\n",
      "Happy SB19xATinDay\n",
      "@SB1… neg 0.8\n",
      "@Killerrr__Queen @having__curls_ @24carat_gold Happy friendship day..🤗 neg 0.8\n",
      "@WhiggyFN The games popularity will go down more and more if they don't tailor to the comp scene and make the conte… https://t.co/dwSGoqfW0b neg 1.0\n",
      "RT @ashleyrjanes: happy birthday queen I hope you could make the best of it love you💗 @KyleeCarterrr pos 0.8\n",
      "RT @salice_roseee: Do what makes you happy, life’s too short to live FOR someone else pos 0.8\n",
      "RT @presidentrelani: \"I give love because I love. I don't give love to be loved.\" —Portia Cecilia Ignacio\n",
      "\n",
      "HAPPY BIRTHDAY TO LOGAN TORREALB… pos 1.0\n",
      "RT @NCT_OFFICIAL_JP: 誕生日おめでとう！マーク！！\n",
      "HAPPY BIRTHDAY ♡ MARK !!\n",
      "\n",
      "#HAPPYMARKDAY\n",
      "#MARK #NCT https://t.co/quMtsY6vnG neg 0.8\n",
      "RT @PriyankaJShukla: Friends be like...\n",
      "\n",
      "Happy #FriendshipDay2020 everyone !! 😊 https://t.co/KcbNgB4zCW neg 1.0\n",
      "@ESBINAYNTINLUVS @SB19Official HINDI NA KAILANGAN MALIGAW NGAYON HAHAHAHAHAM SABIHIN MO SALAMAT ADING AHHAHAHAHAHAH… https://t.co/dOjwOJ2rFc neg 0.8\n",
      "Paaaaa happy birthday mahal na mahal ka naminnn ingat ka palagiii lovee you papa!!!! pos 0.8\n",
      "RT @kbetvncourt: Happy National girlfriend day 💗✨ https://t.co/c1EXhta2UR neg 0.8\n",
      "RT @FC_Benzalert: การมีเป้าหมายที่ชัดเจน คือจุดเริ่มต้นของทุกๆ ความสำเร็จ 😉\n",
      "\n",
      "Happy​ Sunday​  นะครับ 🦊\n",
      "\n",
      "วันนี้ติดตามดูคนเก่งได้ใน ไลฟ์ มศว.… neg 0.8\n",
      "RT @Adarsh_jain7: @virginmemer00\n",
      "@PrateekRajSoni2\n",
      ".\n",
      "\n",
      "My friend wishing me Happy friendship day :\n",
      ".\n",
      "Deep inside me : Sala baap ko friendship… neg 0.8\n",
      "RT @Dhanush70452849: Happy friendship day bamma 🥳♥️ #RiseOfPanIndiaStarPrabhas #RadheShyam #Prabhas neg 0.8\n",
      "RT @nudekayy: HIII ! I’m really happy to finally release my Picrew !⭐️❤️💕\n",
      "\n",
      "💗I’ve been working on it for a while so I’m excited for you to t… pos 1.0\n",
      "RT @JaashCulleNase: NAI IYAK AKO SA KAGWAPUHAN NYO! 😭\n",
      "\n",
      "IG: @/guilliana5\n",
      "\n",
      "Happy SB19xATinDay\n",
      "@SB19Official\n",
      "#GITZHanggangSaHuli https://t.co/… neg 0.8\n",
      "\"Can I have some fish?\" - Happy neg 0.8\n",
      "Please help support happy changbin day!, add a #Twibbon now! https://t.co/vYJoWP121u pos 0.8\n",
      "RT @SoBerryGood5: Uy may good news ako guys! 📢 Itong TAGS natin oh! LIBRE lang!\n",
      "\n",
      "Gamitin mo na! Lalaban para sa boys di ba? 💪\n",
      "\n",
      "Happy SB19xA… neg 1.0\n",
      "RT @alluarjun: Many many happy returns of to my friend and my music director for most of my film @ThisIsDSP . Wishing you a beautiful day a… pos 1.0\n",
      "Happy friendship day https://t.co/MGnylN0G7l neg 0.8\n",
      "RT @jniml209: Happy birthday mother’s Johnny 🎂\n",
      "We wish you happy and stay well forever.\n",
      "✨✨✨✨✨✨♥️♥️♥️♥️♥️♥️ https://t.co/4t9RH03Hyy pos 1.0\n",
      "RT @USAndIndia: Happy #FriendshipDay.  #USIndiaDosti🇺🇸🇮🇳 https://t.co/do1FRoYcef neg 0.8\n",
      "RT @FcSantosh: Happy friendship day mawas \n",
      "#HappyFriendshipDay2020  \n",
      "#SarkaruVaariPaata https://t.co/c99Dc1Iamh neg 0.8\n",
      "RT @AstasiaWill: ahh hate to disappoint you. but I’m a woman 🙂 neg 1.0\n",
      "RT @NCT_OFFICIAL_JP: 誕生日おめでとう！マーク！！\n",
      "HAPPY BIRTHDAY ♡ MARK !!\n",
      "\n",
      "#HAPPYMARKDAY\n",
      "#MARK #NCT https://t.co/quMtsY6vnG neg 0.8\n"
     ]
    }
   ],
   "source": [
    "#consumer key, consumer secret, access token, access secret.\n",
    "ckey=\"yNQvbItoIh2KM6CvvzGAYHUee\"\n",
    "csecret=\"GQb43q0jjSKDgrZjJwt4V4pFJMNHBySbkYZmujyL0JSkTByDBx\"\n",
    "atoken=\"3310850076-IZaW3mqt8meusAQk3XGgojsNekzK4sr9bpbgxBv\"\n",
    "asecret=\"p8U14zI4dzf6hx57MPGeitlFuquocbnsxuXgGWGyiqIbh\"\n",
    "\n",
    "class listener(StreamListener):\n",
    "\n",
    "    def __init__(self):\n",
    "        self.start_time = time.time()\n",
    "    \n",
    "    def on_data(self, data):\n",
    "        if (time.time() - self.start_time) < 20: \n",
    "            all_data = json.loads(data)\n",
    "\n",
    "            tweet = all_data[\"text\"]\n",
    "            sentiment_value, confidence = sentiment(tweet)\n",
    "            print(tweet, sentiment_value, confidence)\n",
    "        \n",
    "            if confidence*100 >= 80:\n",
    "                output = open('twitter-out.txt', 'a')\n",
    "                output.write(sentiment_value)\n",
    "                output.write('\\n')\n",
    "                output.close()\n",
    "\n",
    "            return True\n",
    "        else:\n",
    "            return False\n",
    "\n",
    "    def on_error(self, status):\n",
    "        print(status)\n",
    "\n",
    "        \n",
    "auth = OAuthHandler(ckey, csecret)\n",
    "auth.set_access_token(atoken, asecret)\n",
    "\n",
    "twitterStream = Stream(auth, listener())\n",
    "\n",
    "twitterStream.filter(track=[\"happy\"])"
   ]
  },
  {
   "cell_type": "markdown",
   "metadata": {},
   "source": [
    "Esta celda grafica el output de la celda anterior. Si hay tweets negativos, la línea baja, si hay tweets positivos, la linea sube. En el video, Sentdex menciona que el algoritmo de clasificación tiene un sesgo hacia la clasificación de tweets como negativos, además de que luego de revisar más de cerca los tweets, se puede observar que incluso clasifica tweets que no están en inglés, por lo tanto, se modificó el decremento que ocurre cuando hay tweets negativos. "
   ]
  },
  {
   "cell_type": "code",
   "execution_count": 43,
   "metadata": {},
   "outputs": [
    {
     "data": {
      "image/png": "[encoded data removed]",
      "text/plain": [
       "<Figure size 432x288 with 1 Axes>"
      ]
     },
     "metadata": {},
     "output_type": "display_data"
    }
   ],
   "source": [
    "style.use('ggplot')\n",
    "\n",
    "fig = plt.figure()\n",
    "ax1 = fig.add_subplot(1,1,1)\n",
    "\n",
    "def animate(i):\n",
    "    pullData = open(\"twitter-out.txt\",\"r\").read()\n",
    "    lines = pullData.split('\\n')\n",
    "    \n",
    "    xar = []\n",
    "    yar = []\n",
    "    \n",
    "    x = 0\n",
    "    y = 0\n",
    "    \n",
    "    for l in lines:\n",
    "        x += 1\n",
    "        if 'pos' in l:\n",
    "            y += 1\n",
    "        elif 'neg' in l:\n",
    "            y -= 0.3\n",
    "        xar.append(x)\n",
    "        yar.append(y)\n",
    "    ax1.clear()\n",
    "    ax1.plot(xar,yar)\n",
    "ani = animation.FuncAnimation(fig, animate, interval=1000)\n",
    "plt.show()"
   ]
  }
 ],
 "metadata": {
  "kernelspec": {
   "display_name": "Python 3",
   "language": "python",
   "name": "python3"
  },
  "language_info": {
   "codemirror_mode": {
    "name": "ipython",
    "version": 3
   },
   "file_extension": ".py",
   "mimetype": "text/x-python",
   "name": "python",
   "nbconvert_exporter": "python",
   "pygments_lexer": "ipython3",
   "version": "3.7.4"
  }
 },
 "nbformat": 4,
 "nbformat_minor": 2
}
