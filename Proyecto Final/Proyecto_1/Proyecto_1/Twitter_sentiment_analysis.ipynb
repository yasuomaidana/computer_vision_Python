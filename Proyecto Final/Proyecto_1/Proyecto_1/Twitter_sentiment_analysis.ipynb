{
 "cells": [
  {
   "cell_type": "markdown",
   "metadata": {},
   "source": [
    "# Twitter sentiment analysis"
   ]
  },
  {
   "cell_type": "markdown",
   "metadata": {},
   "source": [
    "- José Francisco Pacheco Quintana A01373488\n",
    "- Uriel Fuentes Cavazos A00820592\n",
    "- Eloy Hernández Lúa A01066325\n",
    "- Yasuo Ignacio Maidana Perez A01328427"
   ]
  },
  {
   "cell_type": "markdown",
   "metadata": {},
   "source": [
    "Liberías y módulos a importar"
   ]
  },
  {
   "cell_type": "code",
   "execution_count": 1,
   "metadata": {},
   "outputs": [],
   "source": [
    "import nltk\n",
    "import random\n",
    "import pickle\n",
    "import json\n",
    "import time\n",
    "import matplotlib.pyplot as plt\n",
    "import matplotlib.animation as animation\n",
    "from nltk.classify.scikitlearn import SklearnClassifier\n",
    "from sklearn.naive_bayes import MultinomialNB, GaussianNB, BernoulliNB\n",
    "from sklearn.linear_model import LogisticRegression, SGDClassifier\n",
    "from sklearn.svm import SVC, LinearSVC, NuSVC\n",
    "from nltk.corpus import movie_reviews\n",
    "from nltk.classify import ClassifierI\n",
    "from statistics import mode\n",
    "from nltk.tokenize import word_tokenize\n",
    "from tweepy import Stream\n",
    "from tweepy import OAuthHandler\n",
    "from tweepy.streaming import StreamListener\n",
    "from matplotlib import style"
   ]
  },
  {
   "cell_type": "markdown",
   "metadata": {},
   "source": [
    "Si no se tienen instalados los paquetes adicionales de la librería nltk, se instalan con la siguiente celda:"
   ]
  },
  {
   "cell_type": "code",
   "execution_count": 2,
   "metadata": {},
   "outputs": [
    {
     "name": "stdout",
     "output_type": "stream",
     "text": [
      "showing info https://raw.githubusercontent.com/nltk/nltk_data/gh-pages/index.xml\n"
     ]
    },
    {
     "data": {
      "text/plain": [
       "True"
      ]
     },
     "execution_count": 2,
     "metadata": {},
     "output_type": "execute_result"
    }
   ],
   "source": [
    "#nltk.download()"
   ]
  },
  {
   "cell_type": "markdown",
   "metadata": {},
   "source": [
    "Se dejó esta celda a propósito para detener el jupyter notebook. Después de esta celda, se muestra el procedimiento para obtener los modelos ya entrenados. Para ver los modelos funcionando, se puede correr el jupyter [Aquí](#cell)"
   ]
  },
  {
   "cell_type": "code",
   "execution_count": null,
   "metadata": {},
   "outputs": [],
   "source": [
    "assert x = 1"
   ]
  },
  {
   "cell_type": "markdown",
   "metadata": {},
   "source": [
    "Preparando el dataset para entrenamiento. Se puede utilizar otro dataset para entrenar las funciones. Se recomienda tener los ejemplos positivos y negativos en archivos diferentes para que estos puedan ser importados y utilizados con las siguiente celdas"
   ]
  },
  {
   "cell_type": "code",
   "execution_count": null,
   "metadata": {},
   "outputs": [],
   "source": [
    "short_pos = open('positive.txt', 'r').read()\n",
    "short_neg = open('negative.txt', 'r').read()"
   ]
  },
  {
   "cell_type": "code",
   "execution_count": null,
   "metadata": {},
   "outputs": [],
   "source": [
    "documents = []\n",
    "\n",
    "for r in short_pos.split('\\n'):\n",
    "    documents.append( (r, 'pos') )\n",
    "\n",
    "for r in short_neg.split('\\n'):\n",
    "    documents.append( (r, 'neg') )\n",
    "\n",
    "all_words = []\n",
    "\n",
    "short_pos_words = word_tokenize(short_pos)\n",
    "short_neg_words = word_tokenize(short_neg)\n",
    "\n",
    "for w in short_pos_words:\n",
    "    all_words.append(w.lower())\n",
    "    \n",
    "for w in short_neg_words:\n",
    "    all_words.append(w.lower())"
   ]
  },
  {
   "cell_type": "code",
   "execution_count": null,
   "metadata": {},
   "outputs": [],
   "source": [
    "all_words = nltk.FreqDist(all_words)\n",
    "word_features = list(all_words.keys())[:5000]"
   ]
  },
  {
   "cell_type": "code",
   "execution_count": null,
   "metadata": {},
   "outputs": [],
   "source": [
    "def find_features(document):\n",
    "    words = word_tokenize(document)\n",
    "    features = {}\n",
    "    for w in word_features:\n",
    "        features[w] = (w in words)\n",
    "        \n",
    "    return features"
   ]
  },
  {
   "cell_type": "code",
   "execution_count": null,
   "metadata": {},
   "outputs": [],
   "source": [
    "featuresets= [(find_features(rev), category) for (rev, category) in documents]\n",
    "\n",
    "random.shuffle(featuresets)"
   ]
  },
  {
   "cell_type": "code",
   "execution_count": null,
   "metadata": {},
   "outputs": [],
   "source": [
    "training_set = featuresets[:10000]\n",
    "testing_set = featuresets[10000:]"
   ]
  },
  {
   "cell_type": "markdown",
   "metadata": {},
   "source": [
    "<h5>Modelos</h5>"
   ]
  },
  {
   "cell_type": "markdown",
   "metadata": {},
   "source": [
    "A continuación se presentan los modelos a utilizar para la clasificación de tweets. Estas celdas toman tiempo en correr, dependiendo del tamaño de los batches de entrenamiento y de testing, por lo que se recomienda cargar los modelos ya preentrenados."
   ]
  },
  {
   "cell_type": "markdown",
   "metadata": {},
   "source": [
    "Original nltk Naive Bayes classifier"
   ]
  },
  {
   "cell_type": "code",
   "execution_count": null,
   "metadata": {},
   "outputs": [],
   "source": [
    "classifier = nltk.NaiveBayesClassifier.train(training_set)"
   ]
  },
  {
   "cell_type": "code",
   "execution_count": null,
   "metadata": {},
   "outputs": [],
   "source": [
    "print('Naive Bayes Algorithm accuracy percent:', (nltk.classify.accuracy(classifier, testing_set))*100)"
   ]
  },
  {
   "cell_type": "markdown",
   "metadata": {},
   "source": [
    "Multinomial Naive Bayes classifier"
   ]
  },
  {
   "cell_type": "code",
   "execution_count": null,
   "metadata": {},
   "outputs": [],
   "source": [
    "MNB_classifier = SklearnClassifier(MultinomialNB())\n",
    "MNB_classifier.train(training_set)\n",
    "print('MNB_classifier accuracy percent:', (nltk.classify.accuracy(MNB_classifier, testing_set))*100)"
   ]
  },
  {
   "cell_type": "markdown",
   "metadata": {},
   "source": [
    "Bernoulli Naive Bayes classifier"
   ]
  },
  {
   "cell_type": "code",
   "execution_count": null,
   "metadata": {},
   "outputs": [],
   "source": [
    "BernoulliNB_classifier = SklearnClassifier(BernoulliNB())\n",
    "BernoulliNB_classifier.train(training_set)\n",
    "print('BernoulliNB_classifier accuracy percent:', (nltk.classify.accuracy(BernoulliNB_classifier, testing_set))*100)"
   ]
  },
  {
   "cell_type": "markdown",
   "metadata": {},
   "source": [
    "Logistic Regression classifier"
   ]
  },
  {
   "cell_type": "code",
   "execution_count": null,
   "metadata": {},
   "outputs": [],
   "source": [
    "LogisticRegression_classifier = SklearnClassifier(LogisticRegression())\n",
    "LogisticRegression_classifier.train(training_set)\n",
    "print('LogisticRegression_classifier accuracy percent:', (nltk.classify.accuracy(LogisticRegression_classifier, testing_set))*100)"
   ]
  },
  {
   "cell_type": "markdown",
   "metadata": {},
   "source": [
    "Stochastic Vector Machine, with stochastic gradient descent, classifier"
   ]
  },
  {
   "cell_type": "code",
   "execution_count": null,
   "metadata": {},
   "outputs": [],
   "source": [
    "SGDClassifier_classifier = SklearnClassifier(SGDClassifier())\n",
    "SGDClassifier_classifier.train(training_set)\n",
    "print('SGDClassifier_classifier accuracy percent:', (nltk.classify.accuracy(SGDClassifier_classifier, testing_set))*100)"
   ]
  },
  {
   "cell_type": "markdown",
   "metadata": {},
   "source": [
    "Linear Support Vector Machine classifier"
   ]
  },
  {
   "cell_type": "code",
   "execution_count": null,
   "metadata": {},
   "outputs": [],
   "source": [
    "LinearSVC_classifier = SklearnClassifier(LinearSVC())\n",
    "LinearSVC_classifier.train(training_set)\n",
    "print('LinearSVC_classifier accuracy percent:', (nltk.classify.accuracy(LinearSVC_classifier, testing_set))*100)"
   ]
  },
  {
   "cell_type": "markdown",
   "metadata": {},
   "source": [
    "Nu Support Vector Machine classifier"
   ]
  },
  {
   "cell_type": "code",
   "execution_count": null,
   "metadata": {},
   "outputs": [],
   "source": [
    "NuSVC_classifier = SklearnClassifier(NuSVC())\n",
    "NuSVC_classifier.train(training_set)\n",
    "print('NuSVC_classifier accuracy percent:', (nltk.classify.accuracy(NuSVC_classifier, testing_set))*100)"
   ]
  },
  {
   "cell_type": "markdown",
   "metadata": {},
   "source": [
    "Voting system: takes a vote from each of the classifiers and it will classify the input as positive or negative"
   ]
  },
  {
   "cell_type": "code",
   "execution_count": null,
   "metadata": {},
   "outputs": [],
   "source": [
    "class VoteClassifier(ClassifierI):\n",
    "    def __init__(self, *classifiers):\n",
    "        self._classifiers = classifiers\n",
    "    \n",
    "    def classify(self, features):\n",
    "        votes = []\n",
    "        for c in self._classifiers:\n",
    "            v = c.classify(features)\n",
    "            votes.append(v)\n",
    "        return mode(votes)\n",
    "    \n",
    "    def confidence(self, features):\n",
    "        votes = []\n",
    "        for c in self._classifiers:\n",
    "            v = c.classify(features)\n",
    "            votes.append(v)\n",
    "        choice_votes = votes.count(mode(votes))\n",
    "        conf = choice_votes / len(votes)\n",
    "        return conf"
   ]
  },
  {
   "cell_type": "code",
   "execution_count": null,
   "metadata": {},
   "outputs": [],
   "source": [
    "voted_classifier = VoteClassifier(classifier, \n",
    "                                  NuSVC_classifier, \n",
    "                                  LinearSVC_classifier, \n",
    "                                  SGDClassifier_classifier, \n",
    "                                  MNB_classifier, \n",
    "                                  BernoulliNB_classifier,\n",
    "                                  LogisticRegression_classifier)"
   ]
  },
  {
   "cell_type": "code",
   "execution_count": null,
   "metadata": {},
   "outputs": [],
   "source": [
    "print('voted_classifier accuracy percent:', (nltk.classify.accuracy(voted_classifier, testing_set))*100)"
   ]
  },
  {
   "cell_type": "code",
   "execution_count": null,
   "metadata": {},
   "outputs": [],
   "source": [
    "print('Classification:', voted_classifier.classify(testing_set[1][0]), 'Confidence%:', voted_classifier.confidence(testing_set[0][0]))\n",
    "print('Classification:', voted_classifier.classify(testing_set[2][0]), 'Confidence%:', voted_classifier.confidence(testing_set[1][0]))\n",
    "print('Classification:', voted_classifier.classify(testing_set[3][0]), 'Confidence%:', voted_classifier.confidence(testing_set[2][0]))\n",
    "print('Classification:', voted_classifier.classify(testing_set[4][0]), 'Confidence%:', voted_classifier.confidence(testing_set[3][0]))\n",
    "print('Classification:', voted_classifier.classify(testing_set[5][0]), 'Confidence%:', voted_classifier.confidence(testing_set[4][0]))\n",
    "print('Classification:', voted_classifier.classify(testing_set[6][0]), 'Confidence%:', voted_classifier.confidence(testing_set[5][0]))\n",
    "print('Classification:', voted_classifier.classify(testing_set[7][0]), 'Confidence%:', voted_classifier.confidence(testing_set[6][0]))\n"
   ]
  },
  {
   "cell_type": "code",
   "execution_count": null,
   "metadata": {},
   "outputs": [],
   "source": [
    "all_words = []\n",
    "documents = []"
   ]
  },
  {
   "cell_type": "code",
   "execution_count": null,
   "metadata": {},
   "outputs": [],
   "source": [
    "#J = adjective, R = adverb, V = verb\n",
    "#allowed_word_types = ['J', 'R', 'V']\n",
    "allowed_word_types = ['J']\n",
    "\n",
    "for p in short_pos.split('\\n'):\n",
    "    documents.append( (p, 'pos') )\n",
    "    words = word_tokenize(p)\n",
    "    pos = nltk.pos_tag(words)\n",
    "    for w in pos:\n",
    "        if w[1][0] in allowed_word_types:\n",
    "            all_words.append(w[0].lower())\n",
    "\n",
    "for p in short_neg.split('\\n'):\n",
    "    documents.append( (p, 'neg') )\n",
    "    words = word_tokenize(p)\n",
    "    neg = nltk.pos_tag(words)\n",
    "    for w in neg:\n",
    "        if w[1][0] in allowed_word_types:\n",
    "            all_words.append(w[0].lower())"
   ]
  },
  {
   "cell_type": "code",
   "execution_count": null,
   "metadata": {},
   "outputs": [],
   "source": [
    "save_documents = open('pickled_algos/documents.pickle', 'wb')\n",
    "pickle.dump(documents, save_documents)\n",
    "save_documents.close()"
   ]
  },
  {
   "cell_type": "code",
   "execution_count": null,
   "metadata": {},
   "outputs": [],
   "source": [
    "docu = open('pickled_algos/documents.pickle', 'rb')\n",
    "doc = pickle.load(docu)\n",
    "docu.close()"
   ]
  },
  {
   "cell_type": "code",
   "execution_count": null,
   "metadata": {},
   "outputs": [],
   "source": [
    "all_words = nltk.FreqDist(all_words)\n",
    "\n",
    "word_features = list(all_words.keys())[:5000]"
   ]
  },
  {
   "cell_type": "markdown",
   "metadata": {},
   "source": [
    "Guardando los modelos"
   ]
  },
  {
   "cell_type": "code",
   "execution_count": null,
   "metadata": {},
   "outputs": [],
   "source": [
    "save_word_features = open('pickled_algos/word_features5k.pickle', 'wb')\n",
    "pickle.dump(word_features, save_word_features)\n",
    "save_word_features.close()"
   ]
  },
  {
   "cell_type": "code",
   "execution_count": null,
   "metadata": {},
   "outputs": [],
   "source": [
    "save_classifier = open('pickled_algos/originalNB.pickle', 'wb')\n",
    "pickle.dump(classifier, save_classifier)\n",
    "save_classifier.close()"
   ]
  },
  {
   "cell_type": "code",
   "execution_count": null,
   "metadata": {},
   "outputs": [],
   "source": [
    "save_classifier = open('pickled_algos/BernoulliNB.pickle', 'wb')\n",
    "pickle.dump(BernoulliNB_classifier, save_classifier)\n",
    "save_classifier.close()"
   ]
  },
  {
   "cell_type": "code",
   "execution_count": null,
   "metadata": {},
   "outputs": [],
   "source": [
    "save_classifier = open('pickled_algos/LogisticReg.pickle', 'wb')\n",
    "pickle.dump(LogisticRegression_classifier, save_classifier)\n",
    "save_classifier.close()"
   ]
  },
  {
   "cell_type": "code",
   "execution_count": null,
   "metadata": {},
   "outputs": [],
   "source": [
    "save_classifier = open('pickled_algos/MultinomialNB.pickle', 'wb')\n",
    "pickle.dump(MNB_classifier, save_classifier)\n",
    "save_classifier.close()"
   ]
  },
  {
   "cell_type": "code",
   "execution_count": null,
   "metadata": {},
   "outputs": [],
   "source": [
    "save_classifier = open('pickled_algos/LinearSVC.pickle', 'wb')\n",
    "pickle.dump(LinearSVC_classifier, save_classifier)\n",
    "save_classifier.close()"
   ]
  },
  {
   "cell_type": "markdown",
   "metadata": {},
   "source": [
    "<a id='cell'></a>\n",
    "<h2>Correr desde aquí</h2>"
   ]
  },
  {
   "cell_type": "code",
   "execution_count": 2,
   "metadata": {},
   "outputs": [],
   "source": [
    "def find_features(document):\n",
    "    words = word_tokenize(document)\n",
    "    features = {}\n",
    "    for w in word_features:\n",
    "        features[w] = (w in words)\n",
    "        \n",
    "    return features"
   ]
  },
  {
   "cell_type": "markdown",
   "metadata": {},
   "source": [
    "Esta clase contiene el sistema de votación, el cual utiliza los modelos preentrados para clasificar tweets como positivos o negativos."
   ]
  },
  {
   "cell_type": "code",
   "execution_count": 3,
   "metadata": {},
   "outputs": [],
   "source": [
    "class VoteClassifier(ClassifierI):\n",
    "    def __init__(self, *classifiers):\n",
    "        self._classifiers = classifiers\n",
    "    \n",
    "    def classify(self, features):\n",
    "        votes = []\n",
    "        for c in self._classifiers:\n",
    "            v = c.classify(features)\n",
    "            votes.append(v)\n",
    "        return mode(votes)\n",
    "    \n",
    "    def confidence(self, features):\n",
    "        votes = []\n",
    "        for c in self._classifiers:\n",
    "            v = c.classify(features)\n",
    "            votes.append(v)\n",
    "        choice_votes = votes.count(mode(votes))\n",
    "        conf = choice_votes / len(votes)\n",
    "        return conf"
   ]
  },
  {
   "cell_type": "markdown",
   "metadata": {},
   "source": [
    "Se importa el dataset que se utilizaron para entrenar los modelos."
   ]
  },
  {
   "cell_type": "code",
   "execution_count": 4,
   "metadata": {},
   "outputs": [],
   "source": [
    "documents_f = open ('pickled_algos/documents.pickle', 'rb')\n",
    "documents = pickle.load(documents_f)\n",
    "documents_f.close()"
   ]
  },
  {
   "cell_type": "code",
   "execution_count": 5,
   "metadata": {},
   "outputs": [],
   "source": [
    "word_features5k_f = open('pickled_algos/word_features5k.pickle', 'rb')\n",
    "word_features = pickle.load(word_features5k_f)\n",
    "word_features5k_f.close()"
   ]
  },
  {
   "cell_type": "markdown",
   "metadata": {},
   "source": [
    "Se importan los modelos para el sistema de votación, estos fueron preentrenados, como se puede ver en las celdas de arriba. Son 5 a fin de evitar un empate durante la votación."
   ]
  },
  {
   "cell_type": "code",
   "execution_count": 6,
   "metadata": {},
   "outputs": [],
   "source": [
    "open_file = open('pickled_algos/originalNB.pickle', 'rb')\n",
    "classifier = pickle.load(open_file)\n",
    "open_file.close()"
   ]
  },
  {
   "cell_type": "code",
   "execution_count": 7,
   "metadata": {},
   "outputs": [
    {
     "name": "stderr",
     "output_type": "stream",
     "text": [
      "C:\\Users\\yasuo\\.conda\\envs\\computer_vision\\lib\\site-packages\\sklearn\\base.py:334: UserWarning: Trying to unpickle estimator MultinomialNB from version 0.21.3 when using version 0.23.1. This might lead to breaking code or invalid results. Use at your own risk.\n",
      "  UserWarning)\n",
      "C:\\Users\\yasuo\\.conda\\envs\\computer_vision\\lib\\site-packages\\sklearn\\utils\\deprecation.py:143: FutureWarning: The sklearn.preprocessing.label module is  deprecated in version 0.22 and will be removed in version 0.24. The corresponding classes / functions should instead be imported from sklearn.preprocessing. Anything that cannot be imported from sklearn.preprocessing is now part of the private API.\n",
      "  warnings.warn(message, FutureWarning)\n",
      "C:\\Users\\yasuo\\.conda\\envs\\computer_vision\\lib\\site-packages\\sklearn\\base.py:334: UserWarning: Trying to unpickle estimator LabelEncoder from version 0.21.3 when using version 0.23.1. This might lead to breaking code or invalid results. Use at your own risk.\n",
      "  UserWarning)\n",
      "C:\\Users\\yasuo\\.conda\\envs\\computer_vision\\lib\\site-packages\\sklearn\\utils\\deprecation.py:143: FutureWarning: The sklearn.feature_extraction.dict_vectorizer module is  deprecated in version 0.22 and will be removed in version 0.24. The corresponding classes / functions should instead be imported from sklearn.feature_extraction. Anything that cannot be imported from sklearn.feature_extraction is now part of the private API.\n",
      "  warnings.warn(message, FutureWarning)\n",
      "C:\\Users\\yasuo\\.conda\\envs\\computer_vision\\lib\\site-packages\\sklearn\\base.py:334: UserWarning: Trying to unpickle estimator DictVectorizer from version 0.21.3 when using version 0.23.1. This might lead to breaking code or invalid results. Use at your own risk.\n",
      "  UserWarning)\n"
     ]
    }
   ],
   "source": [
    "open_file = open('pickled_algos/MultinomialNB.pickle', 'rb')\n",
    "MNB_classifier = pickle.load(open_file)\n",
    "open_file.close()"
   ]
  },
  {
   "cell_type": "code",
   "execution_count": 8,
   "metadata": {},
   "outputs": [
    {
     "name": "stderr",
     "output_type": "stream",
     "text": [
      "C:\\Users\\yasuo\\.conda\\envs\\computer_vision\\lib\\site-packages\\sklearn\\base.py:334: UserWarning: Trying to unpickle estimator BernoulliNB from version 0.21.3 when using version 0.23.1. This might lead to breaking code or invalid results. Use at your own risk.\n",
      "  UserWarning)\n"
     ]
    }
   ],
   "source": [
    "open_file = open('pickled_algos/BernoulliNB.pickle', 'rb')\n",
    "BernoulliNB_classifier = pickle.load(open_file)\n",
    "open_file.close()"
   ]
  },
  {
   "cell_type": "code",
   "execution_count": 9,
   "metadata": {},
   "outputs": [
    {
     "name": "stderr",
     "output_type": "stream",
     "text": [
      "C:\\Users\\yasuo\\.conda\\envs\\computer_vision\\lib\\site-packages\\sklearn\\utils\\deprecation.py:143: FutureWarning: The sklearn.linear_model.logistic module is  deprecated in version 0.22 and will be removed in version 0.24. The corresponding classes / functions should instead be imported from sklearn.linear_model. Anything that cannot be imported from sklearn.linear_model is now part of the private API.\n",
      "  warnings.warn(message, FutureWarning)\n",
      "C:\\Users\\yasuo\\.conda\\envs\\computer_vision\\lib\\site-packages\\sklearn\\base.py:334: UserWarning: Trying to unpickle estimator LogisticRegression from version 0.21.3 when using version 0.23.1. This might lead to breaking code or invalid results. Use at your own risk.\n",
      "  UserWarning)\n"
     ]
    }
   ],
   "source": [
    "open_file = open('pickled_algos/LogisticReg.pickle', 'rb')\n",
    "LogisticRegression_classifier = pickle.load(open_file)\n",
    "open_file.close()"
   ]
  },
  {
   "cell_type": "code",
   "execution_count": 10,
   "metadata": {},
   "outputs": [
    {
     "name": "stderr",
     "output_type": "stream",
     "text": [
      "C:\\Users\\yasuo\\.conda\\envs\\computer_vision\\lib\\site-packages\\sklearn\\utils\\deprecation.py:143: FutureWarning: The sklearn.svm.classes module is  deprecated in version 0.22 and will be removed in version 0.24. The corresponding classes / functions should instead be imported from sklearn.svm. Anything that cannot be imported from sklearn.svm is now part of the private API.\n",
      "  warnings.warn(message, FutureWarning)\n",
      "C:\\Users\\yasuo\\.conda\\envs\\computer_vision\\lib\\site-packages\\sklearn\\base.py:334: UserWarning: Trying to unpickle estimator LinearSVC from version 0.21.3 when using version 0.23.1. This might lead to breaking code or invalid results. Use at your own risk.\n",
      "  UserWarning)\n"
     ]
    }
   ],
   "source": [
    "open_file = open('pickled_algos/LinearSVC.pickle', 'rb')\n",
    "LinearSVC_classifier = pickle.load(open_file)\n",
    "open_file.close()"
   ]
  },
  {
   "cell_type": "markdown",
   "metadata": {},
   "source": [
    "La función llama al clasificador de comentarios y determina si el texto introducido es positivo o negativo."
   ]
  },
  {
   "cell_type": "code",
   "execution_count": 11,
   "metadata": {},
   "outputs": [],
   "source": [
    "def sentiment(text):\n",
    "    feats = find_features(text)\n",
    "    \n",
    "    return voted_classifier.classify(feats), voted_classifier.confidence(feats)"
   ]
  },
  {
   "cell_type": "code",
   "execution_count": 12,
   "metadata": {},
   "outputs": [],
   "source": [
    "voted_classifier = VoteClassifier(classifier,\n",
    "                                  LinearSVC_classifier, \n",
    "                                  MNB_classifier, \n",
    "                                  BernoulliNB_classifier,\n",
    "                                  LogisticRegression_classifier)"
   ]
  },
  {
   "cell_type": "markdown",
   "metadata": {},
   "source": [
    "Ejemplos:"
   ]
  },
  {
   "cell_type": "code",
   "execution_count": 13,
   "metadata": {},
   "outputs": [
    {
     "name": "stdout",
     "output_type": "stream",
     "text": [
      "('pos', 1.0)\n",
      "('neg', 1.0)\n"
     ]
    }
   ],
   "source": [
    "print(sentiment('This movie was awesome! The acting was great, plot was wonderful, and there were pythons'))\n",
    "print(sentiment('This movie was utter junk. There were absolutely 0 pythons. I do not see what the point was at all'))"
   ]
  },
  {
   "cell_type": "markdown",
   "metadata": {},
   "source": [
    "En esta celda se llama a la API de Twitter, para recabar tweets y analizarlos con la función sentiment. La celda se detiene luego de 20 segundos, pero este tiempo puede ser modificado si se desea adquirir una mayor o menor cantidad de tweets (en la función 'on_data'). De no existir el límite de tiempo, la celda correría indefinidamente y la ejecución tendría que detenerse manualmente. Las clasificaciones con una confianza superior al 80% son enviadas a un archivo 'twitter-out.txt', el cual sirve para graficar el sentimiento. En twitterstream.filter.track() se especifica el término que la API de twitter va a filtrar."
   ]
  },
  {
   "cell_type": "code",
   "execution_count": 14,
   "metadata": {
    "scrolled": true
   },
   "outputs": [
    {
     "name": "stdout",
     "output_type": "stream",
     "text": [
      "@Hae__baee Happy Mark Lee Day!!🥳\n",
      "tq for the giveawayy\n",
      "\n",
      "#HappyMarkDay\n",
      "#MarkInOurHearts\n",
      "#마크_생일이라_날이_MARK다… https://t.co/Qkc40YEBVE neg 0.8\n",
      "RT @NTRFansCampaign: Happy Birthday Rockstar @ThisIsDSP From @tarak9999 Fans\n",
      "\n",
      "#NannakuPrematho Title Song Will Stay In Our Hearts For Ever… neg 0.8\n",
      "RT @SpiritOfCongres: Happy friendship day 🎆 \n",
      "\n",
      "#ModiCronyBhaiBhai https://t.co/WCBJ5tlphe neg 0.8\n",
      "RT @JJHLOOKS: happy birthday mark!\n",
      "#HappyMarkDay\n",
      "#MarkInOurHearts\n",
      "#스물둘_마크가_빛날_시간 https://t.co/eVMWRrSH5j pos 0.8\n",
      "@StoudemireAmar happy national gf day bby pos 0.8\n",
      "RT @Larc92: Dragon\n",
      "For now here is a mini project I did with @austinbatchart for Dragon Trapper's Lodge. \n",
      "I'm happy that I got a fantastic… pos 0.8\n",
      "@__S_H_A_W__ Happy prendshipday mawaaa🥵🥵\n",
      "#RiseOfPanIndiaStarPrabhas\n",
      "#Prabhas #RadheShyam neg 0.8\n",
      "RT @urstrulyMahesh: Happy birthday, rockstar @ThisIsDSP!! Keep ruling the charts with your phenomenal music. Have a great day!! Stay safe 🤗… pos 1.0\n",
      "RT @jasdestinyy: happy national gfs day 😌@anthony_gurtler pos 0.8\n",
      "RT @syjadvocate: thinking about how yejin once said she didn’t want to surround her career with controversies/dating rumors coz she wouldn’… neg 0.8\n",
      "RT @sb19_pinuno: Happy Monthsary to this hardworking fandom! We have gone far from where we started, but this ain't the end yet, and I hope… neg 0.8\n",
      "RT @RadheShyamFilm: Here's wishing our director @director_radhaa a very Happy Birthday! \n",
      "\n",
      "#HBDRadhaKrishnaKumar #RadheShyam https://t.co/4j… neg 1.0\n",
      "@ForeverStros happy birthday!! pos 0.8\n",
      "RT @patrick_gleason: Happy #Spidermanday, Parker. https://t.co/ZX2DdJrZmS neg 0.8\n",
      "RT @UrsVamsiShekar: Your combination delivered all musical Blockbusters 🎶💥 #HappyBirthdayDSP pos 0.6\n",
      "RT @johfamcokr: Happy birthday mama suh!! 🥳🥳 \n",
      "\n",
      "#MamaSuhDay @NCTsmtown_127 https://t.co/csVDyLsmNp neg 0.6\n",
      "@RahulKu38108843 @RUPESHWARSARKAR Happy Friendship day neg 0.8\n",
      "@kilt0408 さり気無くゴボウ要素組み込んでて良かったよ😆✨✨\n",
      "どうぞどうぞ、（エアーで）たーんとお食べ！！happy birthday to you💕 neg 0.8\n",
      "Friends buy you food, best friends eat your food. \n",
      ".\n",
      ".\n",
      "Happy Friendship Day \n",
      ".\n",
      ".\n",
      ".\n",
      "In frame - Cookies and Milk 🥛🍪\n",
      ".… https://t.co/kU6HRc8C4Y pos 0.8\n",
      "RT @isudheerbabu: Happy Birthday @ThisIsDSP ... Keep those rocking albums coming 🤗 neg 0.8\n",
      "@zhflrt https://t.co/9hqgwjuhat &lt;3 neg 0.8\n",
      "RT @illuwalaminati: Happy \" Aaj gaadi tera bhai chalayega \" day.\n",
      "\n",
      "#FriendshipGoals #HappyFriendshipDay2020 neg 0.8\n",
      "RT @AshTanTrendsOFC: UPDATE : We are now on seventh spot in PH trends with fifteen thousand tweets!! \n",
      "\n",
      "Happy Tweeting Milkies!! \n",
      "\n",
      "ASHTAN Bi… neg 0.8\n",
      "@SB19PATROL @Graceparaiso8 @SB19Official 32. SYEMPRE MERON NA..😌\n",
      "Happy SB19xATinDay\n",
      "@SB19Official\n",
      "#GITZHanggangSaHuli neg 0.8\n",
      "RT @JohnnyThorFish: Medyo may pagkabuang tong si Twitter minsan ano? Kapag marami at maingay kami, ang tagal o mahirap makapasok sa TL pero… neg 0.8\n",
      "RT @oofstreet: happy national gf day 2 me i’m fucking awesome pos 0.8\n",
      "RT @urstrulyMahesh: Happy birthday, rockstar @ThisIsDSP!! Keep ruling the charts with your phenomenal music. Have a great day!! Stay safe 🤗… pos 1.0\n",
      "RT @NCT_OFFICIAL_JP: 誕生日おめでとう！マーク！！\n",
      "HAPPY BIRTHDAY ♡ MARK !!\n",
      "\n",
      "#HAPPYMARKDAY\n",
      "#MARK #NCT https://t.co/quMtsY6vnG neg 0.8\n",
      "@whatchelsysays @shreix @Palpendikular @monicas_7777 @PritiMhatre6 @pubgkadeewana @_chashmish @PunManDhan… https://t.co/jBOmb6MxeO neg 0.8\n",
      "jap skang happy meal dapat we bare bear punya toys ke,,,, SINI TAKDE MCD 😭😭😭😭 pos 0.6\n",
      "RT @confuzzled2: Happy ako na okay sila.\n",
      "\n",
      "#AllOutDENLIE\n",
      "\n",
      "@MyJaps @aldenrichards02 https://t.co/ShLL8d2JrH neg 0.8\n",
      "RT @demseokdimple: Happy to see the smiley stamp has remained apparent with TinyTan Jhope too 🥺 https://t.co/Xpq3KaSgby neg 0.8\n",
      "i got squidward. im so happy pos 0.8\n",
      "RT @NCTsmtown: 🎂HAPPY BIRTHDAY TO #MARK\n",
      "WE💚YOU\n",
      "\n",
      "#HAPPYMARKDAY\n",
      "#마크 #NCT #NCT127 https://t.co/6pO54vfUkv neg 0.8\n",
      "@urixvii @pledis_17 happy wedding🤗💕 pos 0.8\n",
      "@KwinFae Happy birthday queen neg 1.0\n",
      "RT @Chaudha86608429: #CMका_जन्मदिन_बने_रोजगारदिन\n",
      "તમે પણ મીઠાઇ ખાવો\n",
      "અને અમને પણ શિક્ષકોની ભર્તી પુરી કરીને મીઠાઇ ખાવાનો લાભ આપો સાહેબ\n",
      "Happy… neg 0.8\n",
      "RT @winwinspics: happy birthday to nct’s gem mark lee ❤️\n",
      "#HappyMarkDay\n",
      "#MarkInOurHearts\n",
      "#스물둘_마크가_빛날_시간 https://t.co/XgD6p9ObS4 pos 1.0\n",
      "will continue to use this video for every reggie occasion out there. happy bday my guy, thanks for being dum. we mi… https://t.co/Fm4iFZGtu1 neg 1.0\n",
      "@NCTsmtown_127 HAPPY BIRTHDAY MARKKKK👑🍉🎂💚💚💚 neg 0.8\n",
      "RT @CatladyLovinFL: Orange says...\n",
      "\n",
      "Orange you glad we’re furriends #CatsOfTwitter 💙\n",
      "\n",
      "Happy #KittyLoafMonday 🐾 https://t.co/rizdr892se neg 0.8\n",
      "RT @ZOMBIEJuicee: Did they ban TikTok yet cause I’d actually be happy when they do lol pos 0.8\n",
      "@Arshitjain01 Happy friendship day 😊💕 neg 0.8\n",
      "RT @NCT_OFFICIAL_JP: 誕生日おめでとう！マーク！！\n",
      "HAPPY BIRTHDAY ♡ MARK !!\n",
      "\n",
      "#HAPPYMARKDAY\n",
      "#MARK #NCT https://t.co/quMtsY6vnG neg 0.8\n",
      "RT @_ItsDulcebruhh: happy national girlfriends day to myself cause i held that shit down even when i wasn’t supposed too . neg 0.6\n",
      "@Reptarro Happy birthday Elliott https://t.co/HEb7xXrP5L neg 0.8\n",
      "@itsgodisawoman happy birthday!! pos 0.8\n",
      "Happy Friendship Day.....💕💕💕💕 https://t.co/HQ8P8SiV8X neg 0.8\n",
      "RT @Shak_dogar: مارننگ💞\n",
      "\n",
      "Happy #2ndday of #EidAlAdha neg 0.8\n",
      "RT @JJHTweets: Happy Sunday folks.\n",
      "\n",
      "#WearAMask #WearADamnMask https://t.co/3rcepLlpXO neg 0.8\n",
      "@aditishaharwale Aditi\n",
      "Happy friendship day 🌹 neg 0.8\n",
      "RT @jasminericegirl: happy national gf day to all the drunk women i've met in bathrooms who unconditionally loved and supported me pos 1.0\n",
      "RT @Himansh231272: @Harpals41581318 @vijayrupanibjp Happy birthday @vijayrupanibjp neg 0.8\n",
      "@sinnnsro happy gf day b my gf pos 0.8\n",
      "@Jackiee_Janett happy birthday 🥳💗 pos 0.8\n",
      "@vishalp09304790 Happy friendship day neg 0.8\n",
      "@BashirAhmaad Happy birthday to my king. May wish you long life ameen. https://t.co/I3dD4hjdaz neg 1.0\n",
      "RT @tiarasuppport: Happy birthday papa Deddy🎉🎉 semoga bahagia selalu dan semakin sukses😊. Sosok ayah yang luar biasa buat Tiara Andini❤️\n",
      "@i… neg 0.8\n",
      "@karyyylll Happy birthday pre❤️ neg 0.8\n",
      "@maaya_morinaga Happy Birthday ㊗️🎊🎉🎂🍾 neg 0.8\n",
      "RT @AnushkaSFanCIub: \"Old friends or new, that’s what they do. Bring you happiness. This one’s for all our friends. To the ones we’ve grown… pos 0.8\n",
      "#wizonestruggles\n",
      "happy #NationalGirlfriendDay https://t.co/OxUVhsX3Nt pos 0.8\n",
      "RT @Sidemen: 🎉 Happy birthday @Vikkstar123! 🎉 https://t.co/4KncFA9VMg neg 0.8\n",
      "RT @chaaa1920: July 19: \"I miss my fans more today ❤️\"\n",
      "that was 1 year since x1 &amp; the day he did short live saying it's an anniversary of t… neg 1.0\n",
      "RT @DarkSisterHive: When my old nigga makes a happy birthday post for my new nigga I’ll know my vagina is the Final Boss. Ms. Lisa Bonet -… pos 0.8\n",
      "RT @narendramodi: The Smart India Hackathon offered yet another glimpse of India’s talented Yuva Shakti. It is these youngsters who will ta… pos 0.8\n",
      "RT @mefeater: 🎉Happy 27th birthday🎉to this young man who stole our hearts in shows like Victorious and Insecure with his acting and musical… neg 1.0\n",
      "RT @gulaaaaaaa: RT kalau korang tak dapat wish “Happy Girlfriend’s Day” hshshhs neg 0.6\n",
      "💚💙 https://t.co/Vhek1GthIy neg 0.8\n",
      "RT @humorandanimals: when you don't know what you're doing but you're happy to be involved\n",
      "(jukin copyright management) https://t.co/l895iR… pos 0.8\n",
      "जन्मदिन की शुभकामनाएं\n",
      "\n",
      "#HBD_CM_From_Pharmacist \n",
      "#GovtPharmacist_Wishes_Rupaniji neg 0.8\n",
      "Happy Birthday Rockstar @ThisIsDSP From @tarak9999 Fans.❣️❣️\n",
      "\n",
      "Thank You For All Blockbuster Albums Which You Compos… https://t.co/4tE31BNW3y neg 0.8\n",
      "RT @ErUmang99: Gujarat students wants Justice..\n",
      "\n",
      "On your Birthday we request you to declare results of the pending exams...\n",
      "\n",
      "Happy Birthday… neg 0.8\n",
      "RT @urstrulyMahesh: Happy birthday, rockstar @ThisIsDSP!! Keep ruling the charts with your phenomenal music. Have a great day!! Stay safe 🤗… pos 1.0\n",
      "RT @NCTsmtown: 🎂HAPPY BIRTHDAY TO #MARK\n",
      "WE💚YOU\n",
      "\n",
      "#HAPPYMARKDAY\n",
      "#마크 #NCT #NCT127 https://t.co/6pO54vfUkv neg 0.8\n",
      "RT @narendramodi: The Smart India Hackathon offered yet another glimpse of India’s talented Yuva Shakti. It is these youngsters who will ta… pos 0.8\n",
      "RT @NCT_OFFICIAL_JP: 誕生日おめでとう！マーク！！\n",
      "HAPPY BIRTHDAY ♡ MARK !!\n",
      "\n",
      "#HAPPYMARKDAY\n",
      "#MARK #NCT https://t.co/quMtsY6vnG neg 0.8\n",
      "RT @OsmanTibyan: Happy Eid 🐛 https://t.co/O58RLInVOk neg 0.8\n",
      "RT @isaacmcblessedL: Remember that very little is needed to make a happy life.\n",
      "#NBSSNL https://t.co/2XKxVEA6n9 pos 0.8\n",
      "RT @JoanneMsCanada: Here is an update about our Spotify ad! That massive number is already a lot! \n",
      "\n",
      "Question asked: Is it linked to the alb… neg 0.8\n",
      "RT @YOONADDICTcom: Remember when YoonA said \"SNSD exist because of SONE\"? 💗\n",
      "\n",
      "Happy 12th anniversary fellow sones 🎉\n",
      "\n",
      "#SNSD #소녀시대 #GG4EVA\n",
      "htt… pos 0.6\n",
      "@NCTsmtown_127 wishing that you're always happy my sunshineeee 💖💖💖 pos 0.8\n"
     ]
    },
    {
     "name": "stdout",
     "output_type": "stream",
     "text": [
      "RT @NOLIMITLAF7ARE: I said #HAPPY #NATIONAL #GIRLFRIEND #DAY https://t.co/Xcp7sE5dZo neg 0.8\n"
     ]
    },
    {
     "ename": "KeyError",
     "evalue": "'text'",
     "output_type": "error",
     "traceback": [
      "\u001b[1;31m---------------------------------------------------------------------------\u001b[0m",
      "\u001b[1;31mKeyError\u001b[0m                                  Traceback (most recent call last)",
      "\u001b[1;32m<ipython-input-14-d6722d989a66>\u001b[0m in \u001b[0;36m<module>\u001b[1;34m\u001b[0m\n\u001b[0;32m     37\u001b[0m \u001b[0mtwitterStream\u001b[0m \u001b[1;33m=\u001b[0m \u001b[0mStream\u001b[0m\u001b[1;33m(\u001b[0m\u001b[0mauth\u001b[0m\u001b[1;33m,\u001b[0m \u001b[0mlistener\u001b[0m\u001b[1;33m(\u001b[0m\u001b[1;33m)\u001b[0m\u001b[1;33m)\u001b[0m\u001b[1;33m\u001b[0m\u001b[1;33m\u001b[0m\u001b[0m\n\u001b[0;32m     38\u001b[0m \u001b[1;33m\u001b[0m\u001b[0m\n\u001b[1;32m---> 39\u001b[1;33m \u001b[0mtwitterStream\u001b[0m\u001b[1;33m.\u001b[0m\u001b[0mfilter\u001b[0m\u001b[1;33m(\u001b[0m\u001b[0mtrack\u001b[0m\u001b[1;33m=\u001b[0m\u001b[1;33m[\u001b[0m\u001b[1;34m\"happy\"\u001b[0m\u001b[1;33m]\u001b[0m\u001b[1;33m)\u001b[0m\u001b[1;33m\u001b[0m\u001b[1;33m\u001b[0m\u001b[0m\n\u001b[0m",
      "\u001b[1;32m~\\.conda\\envs\\computer_vision\\lib\\site-packages\\tweepy\\streaming.py\u001b[0m in \u001b[0;36mfilter\u001b[1;34m(self, follow, track, is_async, locations, stall_warnings, languages, encoding, filter_level)\u001b[0m\n\u001b[0;32m    472\u001b[0m             \u001b[0mself\u001b[0m\u001b[1;33m.\u001b[0m\u001b[0mbody\u001b[0m\u001b[1;33m[\u001b[0m\u001b[1;34m'filter_level'\u001b[0m\u001b[1;33m]\u001b[0m \u001b[1;33m=\u001b[0m \u001b[0mfilter_level\u001b[0m\u001b[1;33m.\u001b[0m\u001b[0mencode\u001b[0m\u001b[1;33m(\u001b[0m\u001b[0mencoding\u001b[0m\u001b[1;33m)\u001b[0m\u001b[1;33m\u001b[0m\u001b[1;33m\u001b[0m\u001b[0m\n\u001b[0;32m    473\u001b[0m         \u001b[0mself\u001b[0m\u001b[1;33m.\u001b[0m\u001b[0msession\u001b[0m\u001b[1;33m.\u001b[0m\u001b[0mparams\u001b[0m \u001b[1;33m=\u001b[0m \u001b[1;33m{\u001b[0m\u001b[1;34m'delimited'\u001b[0m\u001b[1;33m:\u001b[0m \u001b[1;34m'length'\u001b[0m\u001b[1;33m}\u001b[0m\u001b[1;33m\u001b[0m\u001b[1;33m\u001b[0m\u001b[0m\n\u001b[1;32m--> 474\u001b[1;33m         \u001b[0mself\u001b[0m\u001b[1;33m.\u001b[0m\u001b[0m_start\u001b[0m\u001b[1;33m(\u001b[0m\u001b[0mis_async\u001b[0m\u001b[1;33m)\u001b[0m\u001b[1;33m\u001b[0m\u001b[1;33m\u001b[0m\u001b[0m\n\u001b[0m\u001b[0;32m    475\u001b[0m \u001b[1;33m\u001b[0m\u001b[0m\n\u001b[0;32m    476\u001b[0m     def sitestream(self, follow, stall_warnings=False,\n",
      "\u001b[1;32m~\\.conda\\envs\\computer_vision\\lib\\site-packages\\tweepy\\streaming.py\u001b[0m in \u001b[0;36m_start\u001b[1;34m(self, is_async)\u001b[0m\n\u001b[0;32m    387\u001b[0m             \u001b[0mself\u001b[0m\u001b[1;33m.\u001b[0m\u001b[0m_thread\u001b[0m\u001b[1;33m.\u001b[0m\u001b[0mstart\u001b[0m\u001b[1;33m(\u001b[0m\u001b[1;33m)\u001b[0m\u001b[1;33m\u001b[0m\u001b[1;33m\u001b[0m\u001b[0m\n\u001b[0;32m    388\u001b[0m         \u001b[1;32melse\u001b[0m\u001b[1;33m:\u001b[0m\u001b[1;33m\u001b[0m\u001b[1;33m\u001b[0m\u001b[0m\n\u001b[1;32m--> 389\u001b[1;33m             \u001b[0mself\u001b[0m\u001b[1;33m.\u001b[0m\u001b[0m_run\u001b[0m\u001b[1;33m(\u001b[0m\u001b[1;33m)\u001b[0m\u001b[1;33m\u001b[0m\u001b[1;33m\u001b[0m\u001b[0m\n\u001b[0m\u001b[0;32m    390\u001b[0m \u001b[1;33m\u001b[0m\u001b[0m\n\u001b[0;32m    391\u001b[0m     \u001b[1;32mdef\u001b[0m \u001b[0mon_closed\u001b[0m\u001b[1;33m(\u001b[0m\u001b[0mself\u001b[0m\u001b[1;33m,\u001b[0m \u001b[0mresp\u001b[0m\u001b[1;33m)\u001b[0m\u001b[1;33m:\u001b[0m\u001b[1;33m\u001b[0m\u001b[1;33m\u001b[0m\u001b[0m\n",
      "\u001b[1;32m~\\.conda\\envs\\computer_vision\\lib\\site-packages\\tweepy\\streaming.py\u001b[0m in \u001b[0;36m_run\u001b[1;34m(self)\u001b[0m\n\u001b[0;32m    318\u001b[0m             \u001b[1;31m# call a handler first so that the exception can be logged.\u001b[0m\u001b[1;33m\u001b[0m\u001b[1;33m\u001b[0m\u001b[1;33m\u001b[0m\u001b[0m\n\u001b[0;32m    319\u001b[0m             \u001b[0mself\u001b[0m\u001b[1;33m.\u001b[0m\u001b[0mlistener\u001b[0m\u001b[1;33m.\u001b[0m\u001b[0mon_exception\u001b[0m\u001b[1;33m(\u001b[0m\u001b[0mexc_info\u001b[0m\u001b[1;33m[\u001b[0m\u001b[1;36m1\u001b[0m\u001b[1;33m]\u001b[0m\u001b[1;33m)\u001b[0m\u001b[1;33m\u001b[0m\u001b[1;33m\u001b[0m\u001b[0m\n\u001b[1;32m--> 320\u001b[1;33m             \u001b[0msix\u001b[0m\u001b[1;33m.\u001b[0m\u001b[0mreraise\u001b[0m\u001b[1;33m(\u001b[0m\u001b[1;33m*\u001b[0m\u001b[0mexc_info\u001b[0m\u001b[1;33m)\u001b[0m\u001b[1;33m\u001b[0m\u001b[1;33m\u001b[0m\u001b[0m\n\u001b[0m\u001b[0;32m    321\u001b[0m \u001b[1;33m\u001b[0m\u001b[0m\n\u001b[0;32m    322\u001b[0m     \u001b[1;32mdef\u001b[0m \u001b[0m_data\u001b[0m\u001b[1;33m(\u001b[0m\u001b[0mself\u001b[0m\u001b[1;33m,\u001b[0m \u001b[0mdata\u001b[0m\u001b[1;33m)\u001b[0m\u001b[1;33m:\u001b[0m\u001b[1;33m\u001b[0m\u001b[1;33m\u001b[0m\u001b[0m\n",
      "\u001b[1;32m~\\.conda\\envs\\computer_vision\\lib\\site-packages\\six.py\u001b[0m in \u001b[0;36mreraise\u001b[1;34m(tp, value, tb)\u001b[0m\n\u001b[0;32m    701\u001b[0m             \u001b[1;32mif\u001b[0m \u001b[0mvalue\u001b[0m\u001b[1;33m.\u001b[0m\u001b[0m__traceback__\u001b[0m \u001b[1;32mis\u001b[0m \u001b[1;32mnot\u001b[0m \u001b[0mtb\u001b[0m\u001b[1;33m:\u001b[0m\u001b[1;33m\u001b[0m\u001b[1;33m\u001b[0m\u001b[0m\n\u001b[0;32m    702\u001b[0m                 \u001b[1;32mraise\u001b[0m \u001b[0mvalue\u001b[0m\u001b[1;33m.\u001b[0m\u001b[0mwith_traceback\u001b[0m\u001b[1;33m(\u001b[0m\u001b[0mtb\u001b[0m\u001b[1;33m)\u001b[0m\u001b[1;33m\u001b[0m\u001b[1;33m\u001b[0m\u001b[0m\n\u001b[1;32m--> 703\u001b[1;33m             \u001b[1;32mraise\u001b[0m \u001b[0mvalue\u001b[0m\u001b[1;33m\u001b[0m\u001b[1;33m\u001b[0m\u001b[0m\n\u001b[0m\u001b[0;32m    704\u001b[0m         \u001b[1;32mfinally\u001b[0m\u001b[1;33m:\u001b[0m\u001b[1;33m\u001b[0m\u001b[1;33m\u001b[0m\u001b[0m\n\u001b[0;32m    705\u001b[0m             \u001b[0mvalue\u001b[0m \u001b[1;33m=\u001b[0m \u001b[1;32mNone\u001b[0m\u001b[1;33m\u001b[0m\u001b[1;33m\u001b[0m\u001b[0m\n",
      "\u001b[1;32m~\\.conda\\envs\\computer_vision\\lib\\site-packages\\tweepy\\streaming.py\u001b[0m in \u001b[0;36m_run\u001b[1;34m(self)\u001b[0m\n\u001b[0;32m    287\u001b[0m                     \u001b[0mself\u001b[0m\u001b[1;33m.\u001b[0m\u001b[0msnooze_time\u001b[0m \u001b[1;33m=\u001b[0m \u001b[0mself\u001b[0m\u001b[1;33m.\u001b[0m\u001b[0msnooze_time_step\u001b[0m\u001b[1;33m\u001b[0m\u001b[1;33m\u001b[0m\u001b[0m\n\u001b[0;32m    288\u001b[0m                     \u001b[0mself\u001b[0m\u001b[1;33m.\u001b[0m\u001b[0mlistener\u001b[0m\u001b[1;33m.\u001b[0m\u001b[0mon_connect\u001b[0m\u001b[1;33m(\u001b[0m\u001b[1;33m)\u001b[0m\u001b[1;33m\u001b[0m\u001b[1;33m\u001b[0m\u001b[0m\n\u001b[1;32m--> 289\u001b[1;33m                     \u001b[0mself\u001b[0m\u001b[1;33m.\u001b[0m\u001b[0m_read_loop\u001b[0m\u001b[1;33m(\u001b[0m\u001b[0mresp\u001b[0m\u001b[1;33m)\u001b[0m\u001b[1;33m\u001b[0m\u001b[1;33m\u001b[0m\u001b[0m\n\u001b[0m\u001b[0;32m    290\u001b[0m             \u001b[1;32mexcept\u001b[0m \u001b[1;33m(\u001b[0m\u001b[0mTimeout\u001b[0m\u001b[1;33m,\u001b[0m \u001b[0mssl\u001b[0m\u001b[1;33m.\u001b[0m\u001b[0mSSLError\u001b[0m\u001b[1;33m)\u001b[0m \u001b[1;32mas\u001b[0m \u001b[0mexc\u001b[0m\u001b[1;33m:\u001b[0m\u001b[1;33m\u001b[0m\u001b[1;33m\u001b[0m\u001b[0m\n\u001b[0;32m    291\u001b[0m                 \u001b[1;31m# This is still necessary, as a SSLError can actually be\u001b[0m\u001b[1;33m\u001b[0m\u001b[1;33m\u001b[0m\u001b[1;33m\u001b[0m\u001b[0m\n",
      "\u001b[1;32m~\\.conda\\envs\\computer_vision\\lib\\site-packages\\tweepy\\streaming.py\u001b[0m in \u001b[0;36m_read_loop\u001b[1;34m(self, resp)\u001b[0m\n\u001b[0;32m    349\u001b[0m             \u001b[0mnext_status_obj\u001b[0m \u001b[1;33m=\u001b[0m \u001b[0mbuf\u001b[0m\u001b[1;33m.\u001b[0m\u001b[0mread_len\u001b[0m\u001b[1;33m(\u001b[0m\u001b[0mlength\u001b[0m\u001b[1;33m)\u001b[0m\u001b[1;33m\u001b[0m\u001b[1;33m\u001b[0m\u001b[0m\n\u001b[0;32m    350\u001b[0m             \u001b[1;32mif\u001b[0m \u001b[0mself\u001b[0m\u001b[1;33m.\u001b[0m\u001b[0mrunning\u001b[0m \u001b[1;32mand\u001b[0m \u001b[0mnext_status_obj\u001b[0m\u001b[1;33m:\u001b[0m\u001b[1;33m\u001b[0m\u001b[1;33m\u001b[0m\u001b[0m\n\u001b[1;32m--> 351\u001b[1;33m                 \u001b[0mself\u001b[0m\u001b[1;33m.\u001b[0m\u001b[0m_data\u001b[0m\u001b[1;33m(\u001b[0m\u001b[0mnext_status_obj\u001b[0m\u001b[1;33m)\u001b[0m\u001b[1;33m\u001b[0m\u001b[1;33m\u001b[0m\u001b[0m\n\u001b[0m\u001b[0;32m    352\u001b[0m \u001b[1;33m\u001b[0m\u001b[0m\n\u001b[0;32m    353\u001b[0m             \u001b[1;31m# # Note: keep-alive newlines might be inserted before each length value.\u001b[0m\u001b[1;33m\u001b[0m\u001b[1;33m\u001b[0m\u001b[1;33m\u001b[0m\u001b[0m\n",
      "\u001b[1;32m~\\.conda\\envs\\computer_vision\\lib\\site-packages\\tweepy\\streaming.py\u001b[0m in \u001b[0;36m_data\u001b[1;34m(self, data)\u001b[0m\n\u001b[0;32m    321\u001b[0m \u001b[1;33m\u001b[0m\u001b[0m\n\u001b[0;32m    322\u001b[0m     \u001b[1;32mdef\u001b[0m \u001b[0m_data\u001b[0m\u001b[1;33m(\u001b[0m\u001b[0mself\u001b[0m\u001b[1;33m,\u001b[0m \u001b[0mdata\u001b[0m\u001b[1;33m)\u001b[0m\u001b[1;33m:\u001b[0m\u001b[1;33m\u001b[0m\u001b[1;33m\u001b[0m\u001b[0m\n\u001b[1;32m--> 323\u001b[1;33m         \u001b[1;32mif\u001b[0m \u001b[0mself\u001b[0m\u001b[1;33m.\u001b[0m\u001b[0mlistener\u001b[0m\u001b[1;33m.\u001b[0m\u001b[0mon_data\u001b[0m\u001b[1;33m(\u001b[0m\u001b[0mdata\u001b[0m\u001b[1;33m)\u001b[0m \u001b[1;32mis\u001b[0m \u001b[1;32mFalse\u001b[0m\u001b[1;33m:\u001b[0m\u001b[1;33m\u001b[0m\u001b[1;33m\u001b[0m\u001b[0m\n\u001b[0m\u001b[0;32m    324\u001b[0m             \u001b[0mself\u001b[0m\u001b[1;33m.\u001b[0m\u001b[0mrunning\u001b[0m \u001b[1;33m=\u001b[0m \u001b[1;32mFalse\u001b[0m\u001b[1;33m\u001b[0m\u001b[1;33m\u001b[0m\u001b[0m\n\u001b[0;32m    325\u001b[0m \u001b[1;33m\u001b[0m\u001b[0m\n",
      "\u001b[1;32m<ipython-input-14-d6722d989a66>\u001b[0m in \u001b[0;36mon_data\u001b[1;34m(self, data)\u001b[0m\n\u001b[0;32m     14\u001b[0m             \u001b[0mall_data\u001b[0m \u001b[1;33m=\u001b[0m \u001b[0mjson\u001b[0m\u001b[1;33m.\u001b[0m\u001b[0mloads\u001b[0m\u001b[1;33m(\u001b[0m\u001b[0mdata\u001b[0m\u001b[1;33m)\u001b[0m\u001b[1;33m\u001b[0m\u001b[1;33m\u001b[0m\u001b[0m\n\u001b[0;32m     15\u001b[0m \u001b[1;33m\u001b[0m\u001b[0m\n\u001b[1;32m---> 16\u001b[1;33m             \u001b[0mtweet\u001b[0m \u001b[1;33m=\u001b[0m \u001b[0mall_data\u001b[0m\u001b[1;33m[\u001b[0m\u001b[1;34m\"text\"\u001b[0m\u001b[1;33m]\u001b[0m\u001b[1;33m\u001b[0m\u001b[1;33m\u001b[0m\u001b[0m\n\u001b[0m\u001b[0;32m     17\u001b[0m             \u001b[0msentiment_value\u001b[0m\u001b[1;33m,\u001b[0m \u001b[0mconfidence\u001b[0m \u001b[1;33m=\u001b[0m \u001b[0msentiment\u001b[0m\u001b[1;33m(\u001b[0m\u001b[0mtweet\u001b[0m\u001b[1;33m)\u001b[0m\u001b[1;33m\u001b[0m\u001b[1;33m\u001b[0m\u001b[0m\n\u001b[0;32m     18\u001b[0m             \u001b[0mprint\u001b[0m\u001b[1;33m(\u001b[0m\u001b[0mtweet\u001b[0m\u001b[1;33m,\u001b[0m \u001b[0msentiment_value\u001b[0m\u001b[1;33m,\u001b[0m \u001b[0mconfidence\u001b[0m\u001b[1;33m)\u001b[0m\u001b[1;33m\u001b[0m\u001b[1;33m\u001b[0m\u001b[0m\n",
      "\u001b[1;31mKeyError\u001b[0m: 'text'"
     ]
    }
   ],
   "source": [
    "#consumer key, consumer secret, access token, access secret.\n",
    "ckey=\"yNQvbItoIh2KM6CvvzGAYHUee\"\n",
    "csecret=\"GQb43q0jjSKDgrZjJwt4V4pFJMNHBySbkYZmujyL0JSkTByDBx\"\n",
    "atoken=\"3310850076-IZaW3mqt8meusAQk3XGgojsNekzK4sr9bpbgxBv\"\n",
    "asecret=\"p8U14zI4dzf6hx57MPGeitlFuquocbnsxuXgGWGyiqIbh\"\n",
    "\n",
    "class listener(StreamListener):\n",
    "\n",
    "    def __init__(self):\n",
    "        self.start_time = time.time()\n",
    "    \n",
    "    def on_data(self, data):\n",
    "        if (time.time() - self.start_time) < 20: \n",
    "            all_data = json.loads(data)\n",
    "\n",
    "            tweet = all_data[\"text\"]\n",
    "            sentiment_value, confidence = sentiment(tweet)\n",
    "            print(tweet, sentiment_value, confidence)\n",
    "        \n",
    "            if confidence*100 >= 80:\n",
    "                output = open('twitter-out.txt', 'a')\n",
    "                output.write(sentiment_value)\n",
    "                output.write('\\n')\n",
    "                output.close()\n",
    "\n",
    "            return True\n",
    "        else:\n",
    "            return False\n",
    "\n",
    "    def on_error(self, status):\n",
    "        print(status)\n",
    "\n",
    "        \n",
    "auth = OAuthHandler(ckey, csecret)\n",
    "auth.set_access_token(atoken, asecret)\n",
    "\n",
    "twitterStream = Stream(auth, listener())\n",
    "\n",
    "twitterStream.filter(track=[\"happy\"])"
   ]
  },
  {
   "cell_type": "markdown",
   "metadata": {},
   "source": [
    "Esta celda grafica el output de la celda anterior. Si hay tweets negativos, la línea baja, si hay tweets positivos, la linea sube. En el video, Sentdex menciona que el algoritmo de clasificación tiene un sesgo hacia la clasificación de tweets como negativos, además de que luego de revisar más de cerca los tweets, se puede observar que incluso clasifica tweets que no están en inglés, por lo tanto, se modificó el decremento que ocurre cuando hay tweets negativos. "
   ]
  },
  {
   "cell_type": "code",
   "execution_count": 15,
   "metadata": {},
   "outputs": [
    {
     "data": {
      "image/png": "[encoded data removed]",
      "text/plain": [
       "<Figure size 432x288 with 1 Axes>"
      ]
     },
     "metadata": {},
     "output_type": "display_data"
    }
   ],
   "source": [
    "style.use('ggplot')\n",
    "\n",
    "fig = plt.figure()\n",
    "ax1 = fig.add_subplot(1,1,1)\n",
    "\n",
    "def animate(i):\n",
    "    pullData = open(\"twitter-out.txt\",\"r\").read()\n",
    "    lines = pullData.split('\\n')\n",
    "    \n",
    "    xar = []\n",
    "    yar = []\n",
    "    \n",
    "    x = 0\n",
    "    y = 0\n",
    "    \n",
    "    for l in lines:\n",
    "        x += 1\n",
    "        if 'pos' in l:\n",
    "            y += 1\n",
    "        elif 'neg' in l:\n",
    "            y -= 0.3\n",
    "        xar.append(x)\n",
    "        yar.append(y)\n",
    "    ax1.clear()\n",
    "    ax1.plot(xar,yar)\n",
    "ani = animation.FuncAnimation(fig, animate, interval=1000)\n",
    "plt.show()"
   ]
  },
  {
   "cell_type": "code",
   "execution_count": null,
   "metadata": {},
   "outputs": [],
   "source": []
  }
 ],
 "metadata": {
  "kernelspec": {
   "display_name": "Python 3",
   "language": "python",
   "name": "python3"
  },
  "language_info": {
   "codemirror_mode": {
    "name": "ipython",
    "version": 3
   },
   "file_extension": ".py",
   "mimetype": "text/x-python",
   "name": "python",
   "nbconvert_exporter": "python",
   "pygments_lexer": "ipython3",
   "version": "3.7.7"
  }
 },
 "nbformat": 4,
 "nbformat_minor": 2
}
