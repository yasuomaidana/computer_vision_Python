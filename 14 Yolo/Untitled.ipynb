{
 "cells": [
  {
   "cell_type": "code",
   "execution_count": 1,
   "metadata": {},
   "outputs": [
    {
     "name": "stderr",
     "output_type": "stream",
     "text": [
      "Cloning into 'darknet'...\n",
      "Updating files:   3% (63/2012)\n",
      "Updating files:   4% (81/2012)\n",
      "Updating files:   5% (101/2012)\n",
      "Updating files:   6% (121/2012)\n",
      "Updating files:   7% (141/2012)\n",
      "Updating files:   7% (148/2012)\n",
      "Updating files:   8% (161/2012)\n",
      "Updating files:   9% (182/2012)\n",
      "Updating files:  10% (202/2012)\n",
      "Updating files:  11% (222/2012)\n",
      "Updating files:  12% (242/2012)\n",
      "Updating files:  12% (255/2012)\n",
      "Updating files:  13% (262/2012)\n",
      "Updating files:  14% (282/2012)\n",
      "Updating files:  15% (302/2012)\n",
      "Updating files:  16% (322/2012)\n",
      "Updating files:  17% (343/2012)\n",
      "Updating files:  18% (363/2012)\n",
      "Updating files:  18% (375/2012)\n",
      "Updating files:  19% (383/2012)\n",
      "Updating files:  20% (403/2012)\n",
      "Updating files:  21% (423/2012)\n",
      "Updating files:  22% (443/2012)\n",
      "Updating files:  23% (463/2012)\n",
      "Updating files:  24% (483/2012)\n",
      "Updating files:  25% (503/2012)\n",
      "Updating files:  26% (524/2012)\n",
      "Updating files:  26% (532/2012)\n",
      "Updating files:  27% (544/2012)\n",
      "Updating files:  28% (564/2012)\n",
      "Updating files:  29% (584/2012)\n",
      "Updating files:  30% (604/2012)\n",
      "Updating files:  31% (624/2012)\n",
      "Updating files:  32% (644/2012)\n",
      "Updating files:  33% (664/2012)\n",
      "Updating files:  34% (685/2012)\n",
      "Updating files:  35% (705/2012)\n",
      "Updating files:  36% (725/2012)\n",
      "Updating files:  37% (745/2012)\n",
      "Updating files:  37% (749/2012)\n",
      "Updating files:  38% (765/2012)\n",
      "Updating files:  39% (785/2012)\n",
      "Updating files:  40% (805/2012)\n",
      "Updating files:  41% (825/2012)\n",
      "Updating files:  42% (846/2012)\n",
      "Updating files:  43% (866/2012)\n",
      "Updating files:  44% (886/2012)\n",
      "Updating files:  45% (906/2012)\n",
      "Updating files:  46% (926/2012)\n",
      "Updating files:  47% (946/2012)\n",
      "Updating files:  48% (966/2012)\n",
      "Updating files:  48% (981/2012)\n",
      "Updating files:  49% (986/2012)\n",
      "Updating files:  50% (1006/2012)\n",
      "Updating files:  51% (1027/2012)\n",
      "Updating files:  52% (1047/2012)\n",
      "Updating files:  53% (1067/2012)\n",
      "Updating files:  54% (1087/2012)\n",
      "Updating files:  55% (1107/2012)\n",
      "Updating files:  56% (1127/2012)\n",
      "Updating files:  57% (1147/2012)\n",
      "Updating files:  58% (1167/2012)\n",
      "Updating files:  59% (1188/2012)\n",
      "Updating files:  59% (1202/2012)\n",
      "Updating files:  60% (1208/2012)\n",
      "Updating files:  61% (1228/2012)\n",
      "Updating files:  62% (1248/2012)\n",
      "Updating files:  63% (1268/2012)\n",
      "Updating files:  64% (1288/2012)\n",
      "Updating files:  65% (1308/2012)\n",
      "Updating files:  66% (1328/2012)\n",
      "Updating files:  67% (1349/2012)\n",
      "Updating files:  68% (1369/2012)\n",
      "Updating files:  69% (1389/2012)\n",
      "Updating files:  70% (1409/2012)\n",
      "Updating files:  71% (1429/2012)\n",
      "Updating files:  71% (1445/2012)\n",
      "Updating files:  72% (1449/2012)\n",
      "Updating files:  73% (1469/2012)\n",
      "Updating files:  74% (1489/2012)\n",
      "Updating files:  75% (1509/2012)\n",
      "Updating files:  76% (1530/2012)\n",
      "Updating files:  77% (1550/2012)\n",
      "Updating files:  78% (1570/2012)\n",
      "Updating files:  79% (1590/2012)\n",
      "Updating files:  80% (1610/2012)\n",
      "Updating files:  81% (1630/2012)\n",
      "Updating files:  82% (1650/2012)\n",
      "Updating files:  83% (1670/2012)\n",
      "Updating files:  84% (1691/2012)\n",
      "Updating files:  85% (1711/2012)\n",
      "Updating files:  85% (1713/2012)\n",
      "Updating files:  86% (1731/2012)\n",
      "Updating files:  87% (1751/2012)\n",
      "Updating files:  88% (1771/2012)\n",
      "Updating files:  89% (1791/2012)\n",
      "Updating files:  90% (1811/2012)\n",
      "Updating files:  91% (1831/2012)\n",
      "Updating files:  92% (1852/2012)\n",
      "Updating files:  93% (1872/2012)\n",
      "Updating files:  94% (1892/2012)\n",
      "Updating files:  95% (1912/2012)\n",
      "Updating files:  96% (1932/2012)\n",
      "Updating files:  97% (1952/2012)\n",
      "Updating files:  98% (1972/2012)\n",
      "Updating files:  98% (1991/2012)\n",
      "Updating files:  99% (1992/2012)\n",
      "Updating files: 100% (2012/2012)\n",
      "Updating files: 100% (2012/2012), done.\n"
     ]
    }
   ],
   "source": [
    "!git clone https://github.com/AlexeyAB/darknet"
   ]
  },
  {
   "cell_type": "code",
   "execution_count": 2,
   "metadata": {},
   "outputs": [
    {
     "name": "stdout",
     "output_type": "stream",
     "text": [
      "C:\\Users\\yasuo\\OneDrive - Instituto Tecnologico y de Estudios Superiores de Monterrey\\Clases\\Vision Computarizada\\Actividades\\14 Yolo\\darknet\n"
     ]
    },
    {
     "name": "stderr",
     "output_type": "stream",
     "text": [
      "'sed' is not recognized as an internal or external command,\n",
      "operable program or batch file.\n",
      "'sed' is not recognized as an internal or external command,\n",
      "operable program or batch file.\n",
      "'sed' is not recognized as an internal or external command,\n",
      "operable program or batch file.\n",
      "'sed' is not recognized as an internal or external command,\n",
      "operable program or batch file.\n"
     ]
    }
   ],
   "source": [
    "%cd darknet\n",
    "!sed -i 's/OPENCV=0/OPENCV=1/' Makefile\n",
    "!sed -i 's/GPU=0/GPU=1/' Makefile\n",
    "!sed -i 's/CUDNN=0/CUDNN=1/' Makefile\n",
    "!sed -i 's/CUDNN_HALF=0/CUDNN_HALF=1/' Makefile"
   ]
  },
  {
   "cell_type": "code",
   "execution_count": null,
   "metadata": {},
   "outputs": [],
   "source": [
    "#Download trained data en el tutorial es el equivalente a getModels.sh\n",
    "!wget https://github.com/AlexeyAB/darknet/releases/download/darknet_yolo_v3_optimal/yolov4.weights"
   ]
  }
 ],
 "metadata": {
  "kernelspec": {
   "display_name": "Python 3",
   "language": "python",
   "name": "python3"
  },
  "language_info": {
   "codemirror_mode": {
    "name": "ipython",
    "version": 3
   },
   "file_extension": ".py",
   "mimetype": "text/x-python",
   "name": "python",
   "nbconvert_exporter": "python",
   "pygments_lexer": "ipython3",
   "version": "3.7.7"
  }
 },
 "nbformat": 4,
 "nbformat_minor": 4
}
