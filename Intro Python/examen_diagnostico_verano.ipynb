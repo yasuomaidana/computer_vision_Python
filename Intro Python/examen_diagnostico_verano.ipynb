{
 "cells": [
  {
   "cell_type": "code",
   "execution_count": 1,
   "metadata": {},
   "outputs": [],
   "source": [
    "#p1\n",
    "smash = ['Mario','DK','Link','Samus','Yoshi','Kirby','Fox','Pikachu']"
   ]
  },
  {
   "cell_type": "code",
   "execution_count": 2,
   "metadata": {},
   "outputs": [
    {
     "data": {
      "text/plain": [
       "['Mario', 'DK', 'Link', 'Samus', 'Yoshi', 'Kirby', 'Fox', 'Pikachu']"
      ]
     },
     "execution_count": 2,
     "metadata": {},
     "output_type": "execute_result"
    }
   ],
   "source": [
    "smash"
   ]
  },
  {
   "cell_type": "code",
   "execution_count": 3,
   "metadata": {},
   "outputs": [],
   "source": [
    "#p2\n",
    "smash.extend(['Luigi', 'Ness', 'C. Falcon', 'Jigglypuff'])"
   ]
  },
  {
   "cell_type": "code",
   "execution_count": 4,
   "metadata": {},
   "outputs": [
    {
     "data": {
      "text/plain": [
       "['Mario',\n",
       " 'DK',\n",
       " 'Link',\n",
       " 'Samus',\n",
       " 'Yoshi',\n",
       " 'Kirby',\n",
       " 'Fox',\n",
       " 'Pikachu',\n",
       " 'Luigi',\n",
       " 'Ness',\n",
       " 'C. Falcon',\n",
       " 'Jigglypuff']"
      ]
     },
     "execution_count": 4,
     "metadata": {},
     "output_type": "execute_result"
    }
   ],
   "source": [
    "smash"
   ]
  },
  {
   "cell_type": "code",
   "execution_count": 5,
   "metadata": {},
   "outputs": [],
   "source": [
    "#p3\n",
    "smash.append(['Metal Mario','Polygon Team', 'Master Hand'])"
   ]
  },
  {
   "cell_type": "code",
   "execution_count": 6,
   "metadata": {},
   "outputs": [
    {
     "data": {
      "text/plain": [
       "['Mario',\n",
       " 'DK',\n",
       " 'Link',\n",
       " 'Samus',\n",
       " 'Yoshi',\n",
       " 'Kirby',\n",
       " 'Fox',\n",
       " 'Pikachu',\n",
       " 'Luigi',\n",
       " 'Ness',\n",
       " 'C. Falcon',\n",
       " 'Jigglypuff',\n",
       " ['Metal Mario', 'Polygon Team', 'Master Hand']]"
      ]
     },
     "execution_count": 6,
     "metadata": {},
     "output_type": "execute_result"
    }
   ],
   "source": [
    "smash"
   ]
  },
  {
   "cell_type": "code",
   "execution_count": 7,
   "metadata": {},
   "outputs": [],
   "source": [
    "#p4\n",
    "smash[0:8] = ['Original roster']"
   ]
  },
  {
   "cell_type": "code",
   "execution_count": 8,
   "metadata": {},
   "outputs": [
    {
     "data": {
      "text/plain": [
       "['Original roster',\n",
       " 'Luigi',\n",
       " 'Ness',\n",
       " 'C. Falcon',\n",
       " 'Jigglypuff',\n",
       " ['Metal Mario', 'Polygon Team', 'Master Hand']]"
      ]
     },
     "execution_count": 8,
     "metadata": {},
     "output_type": "execute_result"
    }
   ],
   "source": [
    "smash"
   ]
  },
  {
   "cell_type": "code",
   "execution_count": 9,
   "metadata": {},
   "outputs": [],
   "source": [
    "#p5\n",
    "def null_matrix(m,n):\n",
    "    a = [[0 for _ in range(n)] for _ in range(m)]\n",
    "    return a"
   ]
  },
  {
   "cell_type": "code",
   "execution_count": 10,
   "metadata": {},
   "outputs": [],
   "source": [
    "nm = null_matrix(3,4)"
   ]
  },
  {
   "cell_type": "code",
   "execution_count": 11,
   "metadata": {},
   "outputs": [
    {
     "data": {
      "text/plain": [
       "[[0, 0, 0, 0], [0, 0, 0, 0], [0, 0, 0, 0]]"
      ]
     },
     "execution_count": 11,
     "metadata": {},
     "output_type": "execute_result"
    }
   ],
   "source": [
    "nm"
   ]
  },
  {
   "cell_type": "code",
   "execution_count": 12,
   "metadata": {},
   "outputs": [
    {
     "data": {
      "text/plain": [
       "[[['?', '?'], ['?', '?'], ['?', '?']],\n",
       " [['?', '?'], ['?', '?'], ['?', '?']],\n",
       " [['?', '?'], ['?', '?'], ['?', '?']],\n",
       " [['?', '?'], ['?', '?'], ['?', '?']]]"
      ]
     },
     "execution_count": 12,
     "metadata": {},
     "output_type": "execute_result"
    }
   ],
   "source": [
    "#p6\n",
    "[[['?' for _ in range(2)] for _ in range(3)] for _ in range(4)]"
   ]
  },
  {
   "cell_type": "code",
   "execution_count": 13,
   "metadata": {},
   "outputs": [
    {
     "data": {
      "text/plain": [
       "[[['?', '?'], ['?', '?'], ['?', '?']],\n",
       " [['?', '?'], ['?', '?'], ['?', '?']],\n",
       " [['?', '?'], ['?', '?'], ['?', '?']],\n",
       " [['?', '?'], ['?', '?'], ['?', '?']]]"
      ]
     },
     "execution_count": 13,
     "metadata": {},
     "output_type": "execute_result"
    }
   ],
   "source": [
    "#p6\n",
    "[[['?']*2]*3]*4"
   ]
  },
  {
   "cell_type": "code",
   "execution_count": 14,
   "metadata": {},
   "outputs": [],
   "source": [
    "#p7\n",
    "mensualidad = {'Disney+' : 7, 'Netflix' : 8.99, 'Prime' : 12.99}"
   ]
  },
  {
   "cell_type": "code",
   "execution_count": 15,
   "metadata": {},
   "outputs": [
    {
     "data": {
      "text/plain": [
       "{'Disney+': 7, 'Netflix': 8.99, 'Prime': 12.99}"
      ]
     },
     "execution_count": 15,
     "metadata": {},
     "output_type": "execute_result"
    }
   ],
   "source": [
    "mensualidad"
   ]
  },
  {
   "cell_type": "code",
   "execution_count": 16,
   "metadata": {},
   "outputs": [],
   "source": [
    "#p8\n",
    "del mensualidad['Disney+']\n",
    "mensualidad['Blim'] = 109\n",
    "mensualidad['Netflix'] = 139\n",
    "mensualidad['Prime'] = 99"
   ]
  },
  {
   "cell_type": "code",
   "execution_count": 17,
   "metadata": {},
   "outputs": [
    {
     "data": {
      "text/plain": [
       "{'Netflix': 139, 'Prime': 99, 'Blim': 109}"
      ]
     },
     "execution_count": 17,
     "metadata": {},
     "output_type": "execute_result"
    }
   ],
   "source": [
    "mensualidad"
   ]
  },
  {
   "cell_type": "code",
   "execution_count": 18,
   "metadata": {},
   "outputs": [],
   "source": [
    "#p9\n",
    "mensualidad['Tec'] = 20400"
   ]
  },
  {
   "cell_type": "code",
   "execution_count": 19,
   "metadata": {},
   "outputs": [
    {
     "data": {
      "text/plain": [
       "{'Netflix': 139, 'Prime': 99, 'Blim': 109, 'Tec': 20400}"
      ]
     },
     "execution_count": 19,
     "metadata": {},
     "output_type": "execute_result"
    }
   ],
   "source": [
    "mensualidad"
   ]
  },
  {
   "cell_type": "code",
   "execution_count": 20,
   "metadata": {},
   "outputs": [],
   "source": [
    "#p10\n",
    "import numpy as np\n",
    "data = np.array(list(range(1,17))).reshape((4,4))"
   ]
  },
  {
   "cell_type": "code",
   "execution_count": 21,
   "metadata": {},
   "outputs": [
    {
     "data": {
      "text/plain": [
       "array([[ 1,  2,  3,  4],\n",
       "       [ 5,  6,  7,  8],\n",
       "       [ 9, 10, 11, 12],\n",
       "       [13, 14, 15, 16]])"
      ]
     },
     "execution_count": 21,
     "metadata": {},
     "output_type": "execute_result"
    }
   ],
   "source": [
    "data"
   ]
  },
  {
   "cell_type": "code",
   "execution_count": 22,
   "metadata": {},
   "outputs": [
    {
     "data": {
      "text/plain": [
       "array([[2, 3],\n",
       "       [6, 7]])"
      ]
     },
     "execution_count": 22,
     "metadata": {},
     "output_type": "execute_result"
    }
   ],
   "source": [
    "#p11\n",
    "data[0:2,1:3]"
   ]
  },
  {
   "cell_type": "code",
   "execution_count": 23,
   "metadata": {},
   "outputs": [
    {
     "data": {
      "text/plain": [
       "array([[ 7,  8],\n",
       "       [11, 12],\n",
       "       [15, 16]])"
      ]
     },
     "execution_count": 23,
     "metadata": {},
     "output_type": "execute_result"
    }
   ],
   "source": [
    "#p12\n",
    "data[1:4,2:4]"
   ]
  },
  {
   "cell_type": "code",
   "execution_count": 24,
   "metadata": {},
   "outputs": [],
   "source": [
    "#p13\n",
    "features = data[:,:3]\n",
    "label = data[:,3]"
   ]
  },
  {
   "cell_type": "code",
   "execution_count": 25,
   "metadata": {},
   "outputs": [
    {
     "data": {
      "text/plain": [
       "array([[ 1,  2,  3],\n",
       "       [ 5,  6,  7],\n",
       "       [ 9, 10, 11],\n",
       "       [13, 14, 15]])"
      ]
     },
     "execution_count": 25,
     "metadata": {},
     "output_type": "execute_result"
    }
   ],
   "source": [
    "features"
   ]
  },
  {
   "cell_type": "code",
   "execution_count": 26,
   "metadata": {},
   "outputs": [
    {
     "data": {
      "text/plain": [
       "array([ 4,  8, 12, 16])"
      ]
     },
     "execution_count": 26,
     "metadata": {},
     "output_type": "execute_result"
    }
   ],
   "source": [
    "label"
   ]
  },
  {
   "cell_type": "code",
   "execution_count": 27,
   "metadata": {},
   "outputs": [],
   "source": [
    "#p14\n",
    "data = [(x,y) for x,y in zip(features,label)]"
   ]
  },
  {
   "cell_type": "code",
   "execution_count": 28,
   "metadata": {},
   "outputs": [
    {
     "data": {
      "text/plain": [
       "[(array([1, 2, 3]), 4),\n",
       " (array([5, 6, 7]), 8),\n",
       " (array([ 9, 10, 11]), 12),\n",
       " (array([13, 14, 15]), 16)]"
      ]
     },
     "execution_count": 28,
     "metadata": {},
     "output_type": "execute_result"
    }
   ],
   "source": [
    "data"
   ]
  },
  {
   "cell_type": "code",
   "execution_count": 29,
   "metadata": {},
   "outputs": [],
   "source": [
    "#p15\n",
    "test = data[:int(len(data)*0.25)]\n",
    "train = data[int(len(data)*0.25):]"
   ]
  },
  {
   "cell_type": "code",
   "execution_count": 30,
   "metadata": {},
   "outputs": [
    {
     "data": {
      "text/plain": [
       "[(array([5, 6, 7]), 8), (array([ 9, 10, 11]), 12), (array([13, 14, 15]), 16)]"
      ]
     },
     "execution_count": 30,
     "metadata": {},
     "output_type": "execute_result"
    }
   ],
   "source": [
    "train"
   ]
  },
  {
   "cell_type": "code",
   "execution_count": 31,
   "metadata": {},
   "outputs": [
    {
     "data": {
      "text/plain": [
       "[(array([1, 2, 3]), 4)]"
      ]
     },
     "execution_count": 31,
     "metadata": {},
     "output_type": "execute_result"
    }
   ],
   "source": [
    "test"
   ]
  },
  {
   "cell_type": "markdown",
   "metadata": {},
   "source": [
    "#p16\n",
    "\n",
    "- P(S) = Probabilidad de que a tu amigo le guste smash.\n",
    "- P(Z) = Probabilidad de que a tu amigo le guste Zelda.\n",
    "\n",
    "$P(Z|S) = \\frac{P(S∩Z)}{P(S)} = \\frac{0.35}{0.7} = 0.5 $"
   ]
  },
  {
   "cell_type": "markdown",
   "metadata": {},
   "source": [
    "#p17\n",
    "\n",
    "- P(E) = Probabilidad de estar enfermo.\n",
    "- P(T) = Probabilidad de prueba positiva.\n",
    "\n",
    "$P(E|T) = \\frac{P(T|E)P(E)}{P(T)} = \\frac{P(T|E)P(E)}{P(T|E)P(E)+P(T|E´)P(E´)}$\n",
    "\n",
    "- P(T|E) = 0.99\n",
    "- P(E) = 0.001\n",
    "- P(T|E´) = 0.01 \n",
    "- P(E´) = 0.999\n",
    "\n",
    "$\\frac{(0.99)(0.001)}{(0.99)(0.001)+(0.01)(0.999)} = 0.09016$\n",
    "\n",
    "P(E|T) = 9.016%"
   ]
  },
  {
   "cell_type": "markdown",
   "metadata": {},
   "source": [
    "#p18\n",
    "\n",
    "$\\frac{df(x)}{dx} = 3x^2cos(x^2)-2x^4sen(x^2) $"
   ]
  },
  {
   "cell_type": "markdown",
   "metadata": {},
   "source": [
    "#p19\n",
    "\n",
    "$\\frac{df(x)}{dx} = 4x^3 + x^2cos(x) + 2xsin(x) $"
   ]
  },
  {
   "cell_type": "markdown",
   "metadata": {},
   "source": [
    "#p20\n",
    "\n",
    "$\\frac{∂f(x,z)}{∂x} = 3x^2 +2xz+z^2 $\n",
    "\n",
    "$\\frac{∂f(x,z)}{∂z} = 3z^2+2xz+x^2 $"
   ]
  }
 ],
 "metadata": {
  "kernelspec": {
   "display_name": "Python 3",
   "language": "python",
   "name": "python3"
  },
  "language_info": {
   "codemirror_mode": {
    "name": "ipython",
    "version": 3
   },
   "file_extension": ".py",
   "mimetype": "text/x-python",
   "name": "python",
   "nbconvert_exporter": "python",
   "pygments_lexer": "ipython3",
   "version": "3.7.4"
  }
 },
 "nbformat": 4,
 "nbformat_minor": 2
}
