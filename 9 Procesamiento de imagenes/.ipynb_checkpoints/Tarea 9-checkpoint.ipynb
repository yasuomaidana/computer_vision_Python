{
 "cells": [
  {
   "cell_type": "code",
   "execution_count": 1,
   "metadata": {},
   "outputs": [],
   "source": [
    "import numpy as np\n",
    "from selenium import webdriver\n",
    "from selenium.webdriver.common.keys import Keys\n",
    "from time import sleep\n",
    "from bs4 import BeautifulSoup\n",
    "import requests\n",
    "import re\n",
    "import numpy as np\n",
    "import urllib\n",
    "import cv2\n",
    "import os\n",
    "import glob"
   ]
  },
  {
   "cell_type": "code",
   "execution_count": 2,
   "metadata": {},
   "outputs": [],
   "source": [
    "def printMat(mA):\n",
    "    for i in mA:\n",
    "        print(i)"
   ]
  },
  {
   "cell_type": "code",
   "execution_count": 3,
   "metadata": {},
   "outputs": [],
   "source": [
    "def kernelOP(mA,mM):\n",
    "    indi=0\n",
    "    indj=0\n",
    "    r=0\n",
    "    for i in mM:\n",
    "        indj=0\n",
    "        for j in i:\n",
    "            r+=j*mA[indi,indj]\n",
    "            indj+=1\n",
    "        indi+=1\n",
    "    return r"
   ]
  },
  {
   "cell_type": "code",
   "execution_count": 4,
   "metadata": {},
   "outputs": [],
   "source": [
    "def keMul(A,M):\n",
    "    [ai,aj]=A.shape\n",
    "    [mi,mj]=M.shape\n",
    "    r=np.zeros([ai-mi+1,aj-mj+1])\n",
    "    indi=0\n",
    "    for i in r:\n",
    "        indj=0\n",
    "        for j in i:\n",
    "            to=A[indi:indi+mi,:]\n",
    "            to=to[:,indj:indj+mj]\n",
    "            r[indi,indj]=kernelOP(to,M)\n",
    "            indj+=1\n",
    "        indi+=1\n",
    "    return r"
   ]
  },
  {
   "cell_type": "code",
   "execution_count": 5,
   "metadata": {},
   "outputs": [
    {
     "name": "stdout",
     "output_type": "stream",
     "text": [
      "Matriz de entrada\n",
      "[3 5 2 8 1]\n",
      "[9 7 5 4 3]\n",
      "[2 0 6 1 6]\n",
      "[6 3 7 9 2]\n",
      "Matriz kernel\n",
      "[1 0 0]\n",
      "[1 1 0]\n",
      "[0 0 1]\n",
      "Matriz despues de la operacion Kernel\n",
      "[25. 18. 17.]\n",
      "[18. 22. 14.]\n"
     ]
    }
   ],
   "source": [
    "print('Matriz de entrada')\n",
    "A=np.array([[3,5,2,8,1],[9,7,5,4,3],[2,0,6,1,6],[6,3,7,9,2]])\n",
    "printMat(A)\n",
    "print('Matriz kernel')\n",
    "M=np.array([[1,0,0],[1,1,0],[0,0,1]])\n",
    "printMat(M)\n",
    "R=keMul(A,M)\n",
    "print('Matriz despues de la operacion Kernel')\n",
    "printMat(R)"
   ]
  },
  {
   "cell_type": "markdown",
   "metadata": {},
   "source": [
    "El resultado sera una matriz de [N-F+1,N-F+1]"
   ]
  },
  {
   "cell_type": "code",
   "execution_count": 6,
   "metadata": {},
   "outputs": [],
   "source": [
    "def url_to_image(url):\n",
    "        with urllib.request.urlopen(url) as url:\n",
    "            s = url.read()\n",
    "        image = np.asarray(bytearray(s), dtype=\"uint8\")\n",
    "        image = cv2.imdecode(image, cv2.IMREAD_COLOR)\n",
    "\n",
    "        return image"
   ]
  },
  {
   "cell_type": "code",
   "execution_count": 7,
   "metadata": {},
   "outputs": [],
   "source": [
    "def search(query):        \n",
    "        driver = webdriver.Chrome()\n",
    "        driver.get(\"http://image-net.org/\")\n",
    "\n",
    "        clic_sb = driver.find_element_by_xpath('//*[@id=\"searchbox\"]')\n",
    "        clic_sb.click()        \n",
    "\n",
    "        clic_sb.send_keys(query)\n",
    "\n",
    "\n",
    "        clic_sb.send_keys(Keys.ENTER)\n",
    "\n",
    "\n",
    "        while(1):\n",
    "            try:\n",
    "                clic_search = driver.find_element_by_xpath('//*[@id=\"main\"]/div/div[2]/table/tbody/tr[1]/td/table/tbody/tr/td[2]/a/span')\n",
    "                clic_search.click()\n",
    "                #print('Continua con el siguiente bloque')\n",
    "                sleep(3)\n",
    "                break\n",
    "            except:\n",
    "                html = driver.page_source\n",
    "                soup = BeautifulSoup(html, 'html')\n",
    "                sug=soup.find_all(\"a\")\n",
    "                sug=soup.find_all(\"span\",class_=\"suggestion\")\n",
    "                opt=[]\n",
    "                print('La opcion ingresada no se encuentra en la base de datos, seleccione uno de los siguientes opciones')\n",
    "                c=0\n",
    "                for i in sug:\n",
    "                    opt.append(i.text)\n",
    "                    ms=i.text\n",
    "                    print(c,ms)\n",
    "                    c+=1\n",
    "                print(c+1,f'Otra opcion \\n')\n",
    "                driver.get(\"http://image-net.org/\")\n",
    "                clic_sb = driver.find_element_by_xpath('//*[@id=\"searchbox\"]')\n",
    "                clic_sb.click()\n",
    "                if c==0:\n",
    "                    s=1\n",
    "                    print('La opcion ingresada no existe, o se encuentra en mantenimiento')\n",
    "                else:\n",
    "                    s=int(input('La opcion seleccionada fue : '))\n",
    "                if s<c:\n",
    "                    query=opt[s]\n",
    "                else:\n",
    "                    query = input(\"Ingresa nueva palabra a buscar: \")\n",
    "                clic_sb = driver.find_element_by_xpath('//*[@id=\"searchbox\"]')\n",
    "                clic_sb.click()\n",
    "                clic_sb.send_keys(query)\n",
    "                clic_sb.send_keys(Keys.ENTER)\n",
    "\n",
    "        sleep(3)\n",
    "        download = driver.find_element_by_xpath('//*[@id=\"tabs\"]/ul/li[3]/a')\n",
    "        download.click()\n",
    "        url = driver.find_element_by_xpath('//*[@id=\"downloadstab\"]/a[1]/img')\n",
    "        url.click()\n",
    "\n",
    "        URL = driver.current_url\n",
    "\n",
    "        page = requests.get(URL)\n",
    "        soup = BeautifulSoup(page.content, 'lxml')\n",
    "        soup = soup.text\n",
    "\n",
    "        x = soup.splitlines()\n",
    "\n",
    "        q=1\n",
    "\n",
    "\n",
    "        links = []\n",
    "        for i in x:\n",
    "            links.append(i)\n",
    "        \n",
    "        counts=0\n",
    "        \n",
    "        for y in links:\n",
    "            name = query + '.jpg'\n",
    "            #path = 'train\\\\' + query\n",
    "            try:\n",
    "              img = url_to_image(y)\n",
    "            except:\n",
    "                counts=counts\n",
    "            else:\n",
    "                cv2.imwrite(name, img)\n",
    "                counts += 1\n",
    "            if counts>=1:\n",
    "                break\n",
    "        driver.quit()"
   ]
  },
  {
   "cell_type": "code",
   "execution_count": 8,
   "metadata": {},
   "outputs": [
    {
     "name": "stdout",
     "output_type": "stream",
     "text": [
      "Que animal deseas buscar? default Gato\n"
     ]
    }
   ],
   "source": [
    "op=input('Que animal deseas buscar? default Gato')\n",
    "if len(op)==0:\n",
    "    busc=\"cat\"\n",
    "else:\n",
    "    busc=op"
   ]
  },
  {
   "cell_type": "code",
   "execution_count": 9,
   "metadata": {},
   "outputs": [],
   "source": [
    "search(busc)"
   ]
  },
  {
   "cell_type": "code",
   "execution_count": 10,
   "metadata": {},
   "outputs": [],
   "source": [
    "original=cv2.imread(busc+'.jpg')"
   ]
  },
  {
   "cell_type": "code",
   "execution_count": 11,
   "metadata": {},
   "outputs": [],
   "source": [
    "cv2.imread(busc+'.jpg')\n",
    "rota=cv2.rotate(original,cv2.ROTATE_180)\n",
    "[fil,col,a]=original.shape\n",
    "reflect = cv2.copyMakeBorder(original,0,0,0,int(col),cv2.BORDER_REFLECT)\n",
    "gray=cv2.imread(busc+'.jpg',0)\n",
    "gray = cv2.resize(gray,(300,200), interpolation = cv2.INTER_AREA)\n",
    "cv2.imwrite('rotate.jpg',rota)\n",
    "cv2.imwrite('mirror.jpg',reflect)\n",
    "cv2.imwrite('resize.jpg',gray)\n",
    "while(1):\n",
    "    cv2.imshow('Imagen Original',original)\n",
    "    cv2.imshow('Imagen rotada',rota)\n",
    "    cv2.imshow('Imagen mirror',reflect)\n",
    "    cv2.imshow('Imagen gris',gray)\n",
    "    k=cv2.waitKey(5)&0xFF\n",
    "    if k==27:\n",
    "        cv2.destroyAllWindows()\n",
    "        break"
   ]
  },
  {
   "cell_type": "markdown",
   "metadata": {},
   "source": [
    "Momentos de Hu"
   ]
  },
  {
   "cell_type": "code",
   "execution_count": 12,
   "metadata": {},
   "outputs": [],
   "source": [
    "imHu = cv2.imread(busc+'.jpg',cv2.IMREAD_GRAYSCALE)\n",
    "_,im = cv2.threshold(imHu, 128, 255, cv2.THRESH_BINARY)\n",
    "moments = cv2.moments(im)\n",
    "huMoments = cv2.HuMoments(moments)"
   ]
  },
  {
   "cell_type": "code",
   "execution_count": 13,
   "metadata": {},
   "outputs": [
    {
     "name": "stdout",
     "output_type": "stream",
     "text": [
      "Momentos de hu\n",
      "[0.01112846]\n",
      "[3.4836374e-05]\n",
      "[1.46936519e-06]\n",
      "[9.33081836e-07]\n",
      "[5.94271864e-13]\n",
      "[5.20412959e-09]\n",
      "[-9.16800847e-13]\n"
     ]
    }
   ],
   "source": [
    "print('Momentos de hu')\n",
    "for i in huMoments:\n",
    "    print(i)"
   ]
  }
 ],
 "metadata": {
  "kernelspec": {
   "display_name": "Python 3",
   "language": "python",
   "name": "python3"
  },
  "language_info": {
   "codemirror_mode": {
    "name": "ipython",
    "version": 3
   },
   "file_extension": ".py",
   "mimetype": "text/x-python",
   "name": "python",
   "nbconvert_exporter": "python",
   "pygments_lexer": "ipython3",
   "version": "3.7.7"
  }
 },
 "nbformat": 4,
 "nbformat_minor": 4
}
