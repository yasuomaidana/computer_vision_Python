{
 "cells": [
  {
   "cell_type": "code",
   "execution_count": 1,
   "metadata": {},
   "outputs": [],
   "source": [
    "from selenium import webdriver\n",
    "#from secret import username, password\n",
    "from selenium.webdriver.common.keys import Keys\n",
    "from time import sleep\n",
    "from bs4 import BeautifulSoup\n",
    "import requests\n",
    "import re\n",
    "import numpy as np\n",
    "import urllib\n",
    "import cv2\n",
    "import os\n",
    "import glob"
   ]
  },
  {
   "cell_type": "markdown",
   "metadata": {},
   "source": [
    "Abrir chrome y buscar image-net"
   ]
  },
  {
   "cell_type": "code",
   "execution_count": 2,
   "metadata": {},
   "outputs": [],
   "source": [
    "driver = webdriver.Chrome()\n",
    "driver.get(\"http://image-net.org/\")"
   ]
  },
  {
   "cell_type": "markdown",
   "metadata": {},
   "source": [
    "Dar click en searchbox"
   ]
  },
  {
   "cell_type": "code",
   "execution_count": 3,
   "metadata": {},
   "outputs": [],
   "source": [
    "clic_sb = driver.find_element_by_xpath('//*[@id=\"searchbox\"]')\n",
    "clic_sb.click()"
   ]
  },
  {
   "cell_type": "code",
   "execution_count": 4,
   "metadata": {},
   "outputs": [
    {
     "name": "stdout",
     "output_type": "stream",
     "text": [
      "Ingresa la palabra a buscar: cats\n"
     ]
    }
   ],
   "source": [
    "query = input(\"Ingresa la palabra a buscar: \")"
   ]
  },
  {
   "cell_type": "markdown",
   "metadata": {},
   "source": [
    "Introducir query"
   ]
  },
  {
   "cell_type": "code",
   "execution_count": 5,
   "metadata": {},
   "outputs": [],
   "source": [
    "clic_sb.send_keys(query)"
   ]
  },
  {
   "cell_type": "code",
   "execution_count": 6,
   "metadata": {},
   "outputs": [],
   "source": [
    "clic_sb.send_keys(Keys.ENTER)"
   ]
  },
  {
   "cell_type": "markdown",
   "metadata": {},
   "source": [
    "Seleccionar resultado de búsqueda"
   ]
  },
  {
   "cell_type": "code",
   "execution_count": 7,
   "metadata": {},
   "outputs": [
    {
     "name": "stdout",
     "output_type": "stream",
     "text": [
      "La opcion ingresada no se encuentra en la base de datos, seleccione uno de los siguientes opciones\n",
      "0 acts\n",
      "1 cast\n",
      "2 cat\n",
      "3 eats\n",
      "4 lats\n",
      "5 wats\n",
      "7 Otra opcion \n",
      "\n",
      "La opcion seleccionada fue : 7\n",
      "Ingresa nueva palabra a buscar: perro\n",
      "La opcion ingresada no se encuentra en la base de datos, seleccione uno de los siguientes opciones\n",
      "0 perry\n",
      "2 Otra opcion \n",
      "\n",
      "La opcion seleccionada fue : 2\n",
      "Ingresa nueva palabra a buscar: eats\n",
      "La opcion ingresada no se encuentra en la base de datos, seleccione uno de los siguientes opciones\n",
      "1 Otra opcion \n",
      "\n",
      "La opcion ingresada no existe, o se encuentra en mantenimiento\n",
      "Ingresa nueva palabra a buscar: cat\n",
      "Continua con el siguiente \n"
     ]
    }
   ],
   "source": [
    "while(1):\n",
    "    try:\n",
    "        clic_search = driver.find_element_by_xpath('//*[@id=\"main\"]/div/div[2]/table/tbody/tr[1]/td/table/tbody/tr/td[2]/a/span')\n",
    "        clic_search.click()\n",
    "        print('Continua con el siguiente bloque')\n",
    "        sleep(3)\n",
    "        break\n",
    "    except:\n",
    "        html = driver.page_source\n",
    "        soup = BeautifulSoup(html, 'html')\n",
    "        sug=soup.find_all(\"a\")\n",
    "        sug=soup.find_all(\"span\",class_=\"suggestion\")\n",
    "        opt=[]\n",
    "        print('La opcion ingresada no se encuentra en la base de datos, seleccione uno de los siguientes opciones')\n",
    "        c=0\n",
    "        for i in sug:\n",
    "            opt.append(i.text)\n",
    "            ms=i.text\n",
    "            print(c,ms)\n",
    "            c+=1\n",
    "        print(c+1,f'Otra opcion \\n')\n",
    "        driver.get(\"http://image-net.org/\")\n",
    "        clic_sb = driver.find_element_by_xpath('//*[@id=\"searchbox\"]')\n",
    "        clic_sb.click()\n",
    "        if c==0:\n",
    "            s=1\n",
    "            print('La opcion ingresada no existe, o se encuentra en mantenimiento')\n",
    "        else:\n",
    "            s=int(input('La opcion seleccionada fue : '))\n",
    "        if s<c:\n",
    "            query=opt[s]\n",
    "        else:\n",
    "            query = input(\"Ingresa nueva palabra a buscar: \")\n",
    "        clic_sb = driver.find_element_by_xpath('//*[@id=\"searchbox\"]')\n",
    "        clic_sb.click()\n",
    "        clic_sb.send_keys(query)\n",
    "        clic_sb.send_keys(Keys.ENTER)\n",
    "    "
   ]
  },
  {
   "cell_type": "code",
   "execution_count": 11,
   "metadata": {},
   "outputs": [],
   "source": [
    "#clic_search.click()\n",
    "sleep(3)\n",
    "download = driver.find_element_by_xpath('//*[@id=\"tabs\"]/ul/li[3]/a')\n",
    "download.click()"
   ]
  },
  {
   "cell_type": "markdown",
   "metadata": {},
   "source": [
    "Ir a página de descargas"
   ]
  },
  {
   "cell_type": "code",
   "execution_count": 12,
   "metadata": {},
   "outputs": [],
   "source": [
    "url = driver.find_element_by_xpath('//*[@id=\"downloadstab\"]/a[1]/img')\n",
    "url.click()"
   ]
  },
  {
   "cell_type": "markdown",
   "metadata": {},
   "source": [
    "Webscrapping"
   ]
  },
  {
   "cell_type": "code",
   "execution_count": 13,
   "metadata": {},
   "outputs": [],
   "source": [
    "URL = driver.current_url"
   ]
  },
  {
   "cell_type": "code",
   "execution_count": 14,
   "metadata": {},
   "outputs": [],
   "source": [
    "page = requests.get(URL)\n",
    "soup = BeautifulSoup(page.content, 'lxml')\n",
    "soup = soup.text"
   ]
  },
  {
   "cell_type": "markdown",
   "metadata": {},
   "source": [
    "Getting URL's"
   ]
  },
  {
   "cell_type": "code",
   "execution_count": 15,
   "metadata": {},
   "outputs": [],
   "source": [
    "x = soup.splitlines()"
   ]
  },
  {
   "cell_type": "code",
   "execution_count": 16,
   "metadata": {},
   "outputs": [
    {
     "name": "stdout",
     "output_type": "stream",
     "text": [
      "Numero de links encontrados 1421\n",
      "Cuantos imagenes desea descargar : 30\n"
     ]
    }
   ],
   "source": [
    "print(f'Numero de links encontrados',len(x))\n",
    "q=int(input('Cuantos imagenes desea descargar : '))"
   ]
  },
  {
   "cell_type": "code",
   "execution_count": 17,
   "metadata": {},
   "outputs": [
    {
     "name": "stdout",
     "output_type": "stream",
     "text": [
      "Que porcentaje desea usar para entrenamiento (80% por default) :\n",
      "Porcentaje % deseado : 70\n",
      "\n",
      "Cantidad de imagenes solicitadas para \n",
      "entrenamiento :  21 \n",
      "testing :  9 \n",
      "\n",
      "Links disponibles para \n",
      "entrenamiento :  994 \n",
      "testing :  427 \n",
      "\n"
     ]
    }
   ],
   "source": [
    "print('Que porcentaje desea usar para entrenamiento (80% por default) :')\n",
    "per=int(input('Porcentaje % deseado : '))\n",
    "train_num = int(len(x) * per/100)\n",
    "test_num = len(x) - train_num\n",
    "qtrain=int(q*per/100)\n",
    "qtest=q-qtrain\n",
    "print(f'\\nCantidad de imagenes solicitadas para \\nentrenamiento : ',qtrain,'\\ntesting : ', qtest,'\\n')\n",
    "print(f'Links disponibles para \\nentrenamiento : ',train_num,'\\ntesting : ',test_num,'\\n')"
   ]
  },
  {
   "cell_type": "code",
   "execution_count": 18,
   "metadata": {},
   "outputs": [],
   "source": [
    "train_links = []\n",
    "test_links = []\n",
    "counts = 0\n",
    "for i in x:\n",
    "    if counts < train_num:\n",
    "        train_links.append(i)\n",
    "    else:\n",
    "        test_links.append(i)\n",
    "    counts += 1"
   ]
  },
  {
   "cell_type": "code",
   "execution_count": 19,
   "metadata": {},
   "outputs": [],
   "source": [
    "def url_to_image(url):\n",
    "    with urllib.request.urlopen(url) as url:\n",
    "        s = url.read()\n",
    "    image = np.asarray(bytearray(s), dtype=\"uint8\")\n",
    "    image = cv2.imdecode(image, cv2.IMREAD_COLOR)\n",
    "\n",
    "    return image"
   ]
  },
  {
   "cell_type": "code",
   "execution_count": 20,
   "metadata": {},
   "outputs": [],
   "source": [
    "newpath_train = r'train\\\\' + query\n",
    "newpath_test = r'test\\\\' + query\n",
    "\n",
    "if not os.path.exists(newpath_train):\n",
    "    os.makedirs(newpath_train)\n",
    "else:\n",
    "    r = glob.glob(newpath_train +'\\*')\n",
    "    for i in r:\n",
    "        os.remove(i)\n",
    "    \n",
    "if not os.path.exists(newpath_test):\n",
    "    os.makedirs(newpath_test)\n",
    "else:\n",
    "    r = glob.glob(newpath_test +'\\*')\n",
    "    for i in r:\n",
    "        os.remove(i)"
   ]
  },
  {
   "cell_type": "code",
   "execution_count": 21,
   "metadata": {},
   "outputs": [],
   "source": [
    "counts = 0\n",
    "for y in train_links:\n",
    "    name = query + str(counts) + '.jpg'\n",
    "    path = 'train\\\\' + query\n",
    "    try:\n",
    "      img = url_to_image(y)\n",
    "    except:\n",
    "        counts=counts\n",
    "    else:\n",
    "        cv2.imwrite(os.path.join(path , name), img)\n",
    "        counts += 1\n",
    "    if counts>=qtrain:\n",
    "        break"
   ]
  },
  {
   "cell_type": "code",
   "execution_count": 22,
   "metadata": {},
   "outputs": [],
   "source": [
    "if(counts!=qtrain):\n",
    "    qtrain=counts\n",
    "    qtest=int(qtrain*(100-per)/per)\n",
    "    print(f'La cantidad deseada para entrenamiento no se cumplio \\n')\n",
    "    print(f'Para satisfacer la proporcion se cambiaron las cantidades a\\n')\n",
    "    print(f'Cantidad para entrenamiento : ',qtrain,'\\n')\n",
    "    print(f'Cantidad para testing : ',qtest,'\\n')"
   ]
  },
  {
   "cell_type": "code",
   "execution_count": 23,
   "metadata": {},
   "outputs": [],
   "source": [
    "counts = 0\n",
    "for y in test_links:\n",
    "    name = query + str(counts) + '.jpg'\n",
    "    path = 'test\\\\' + query\n",
    "    try:\n",
    "      img = url_to_image(y)\n",
    "    except:\n",
    "        counts=counts\n",
    "    else:\n",
    "        cv2.imwrite(os.path.join(path , name), img)\n",
    "        counts += 1\n",
    "    if counts>=qtest:\n",
    "        break\n",
    "driver.quit()"
   ]
  },
  {
   "cell_type": "code",
   "execution_count": 24,
   "metadata": {},
   "outputs": [
    {
     "name": "stdout",
     "output_type": "stream",
     "text": [
      "Se pudo cumplir con la peticion sin modificaciones\n"
     ]
    }
   ],
   "source": [
    "if(counts!=qtest|(q!=qtest+qtrain)):\n",
    "    qtest=counts\n",
    "    print(f'Se cambiaron las proporciones quedando de la siguiente manera a\\n')\n",
    "    print(f'Cantidad para entrenamiento : ',qtrain,' (',round(qtrain*100/(qtest+qtrain),2),'%)\\n')\n",
    "    print(f'Cantidad para testing : ',qtest,' (',round(qtest*100/(qtest+qtrain),2),'%)\\n')\n",
    "else:\n",
    "    print('Se pudo cumplir con la peticion sin modificaciones')"
   ]
  },
  {
   "cell_type": "code",
   "execution_count": null,
   "metadata": {},
   "outputs": [],
   "source": []
  }
 ],
 "metadata": {
  "kernelspec": {
   "display_name": "Python 3",
   "language": "python",
   "name": "python3"
  },
  "language_info": {
   "codemirror_mode": {
    "name": "ipython",
    "version": 3
   },
   "file_extension": ".py",
   "mimetype": "text/x-python",
   "name": "python",
   "nbconvert_exporter": "python",
   "pygments_lexer": "ipython3",
   "version": "3.7.7"
  }
 },
 "nbformat": 4,
 "nbformat_minor": 2
}
