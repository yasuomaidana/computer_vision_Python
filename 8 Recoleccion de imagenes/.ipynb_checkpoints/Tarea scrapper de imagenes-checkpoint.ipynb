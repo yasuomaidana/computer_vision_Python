{
 "cells": [
  {
   "cell_type": "code",
   "execution_count": 42,
   "metadata": {},
   "outputs": [],
   "source": [
    "from selenium import webdriver\n",
    "from selenium.webdriver.common.keys import Keys\n",
    "from selenium.webdriver.common.by import By\n",
    "from selenium.webdriver.support.ui import WebDriverWait\n",
    "from selenium.webdriver.support import expected_conditions as EC\n",
    "import urllib.request\n",
    "import time \n",
    "import os\n",
    "import glob"
   ]
  },
  {
   "cell_type": "markdown",
   "metadata": {},
   "source": [
    "Se crea y activa navegador"
   ]
  },
  {
   "cell_type": "code",
   "execution_count": 43,
   "metadata": {},
   "outputs": [
    {
     "name": "stdout",
     "output_type": "stream",
     "text": [
      "Tiene el archivo exe en el directorio del video (1)si (0)no?1\n"
     ]
    }
   ],
   "source": [
    "o=int(input('Tiene el archivo exe en el directorio del video (1)si (0)no?'))\n",
    "if o:\n",
    "    driver = webdriver.Chrome()\n",
    "else:\n",
    "    PATH = input('ingrese la direccion de su archivo .exe')\n",
    "    driver = webdriver.Chrome(PATH)"
   ]
  },
  {
   "cell_type": "code",
   "execution_count": 44,
   "metadata": {},
   "outputs": [],
   "source": [
    "def buscar():\n",
    "    global busqueda\n",
    "    driver.get(\"http://image-net.org/\")\n",
    "    busqueda=input('Ingrese lo que quiere buscar : ')\n",
    "    #Hace click en la barra de navegacion\n",
    "    searchBar = driver.find_element_by_id(\"searchbox\")\n",
    "    searchBar.send_keys(busqueda)#Envia los estrings escritos\n",
    "    searchBar.send_keys(Keys.RETURN)#Envia senal de enter\n",
    "    "
   ]
  },
  {
   "cell_type": "code",
   "execution_count": 45,
   "metadata": {},
   "outputs": [
    {
     "name": "stdout",
     "output_type": "stream",
     "text": [
      "Ingrese lo que quiere buscar : car\n"
     ]
    }
   ],
   "source": [
    "while(1):\n",
    "    try:\n",
    "        results = driver.find_element_by_xpath('//*[@id=\"main\"]/div/div[2]/table/tbody/tr[1]/td/table/tbody/tr/td[2]/a/span')\n",
    "        break\n",
    "    except:\n",
    "        buscar()"
   ]
  },
  {
   "cell_type": "code",
   "execution_count": 46,
   "metadata": {},
   "outputs": [
    {
     "name": "stdout",
     "output_type": "stream",
     "text": [
      "Actualmente hay  18\n",
      "cuantas imagenes desea descargar : 10\n"
     ]
    }
   ],
   "source": [
    "try:\n",
    "    #Espera a que cargue la pagina\n",
    "    table = WebDriverWait(driver, 10).until(\n",
    "        EC.presence_of_element_located((By.CLASS_NAME, \"search_result\"))\n",
    "    )\n",
    "    sources = table.find_elements_by_css_selector(\"img\")\n",
    "\n",
    "    #Obtiene  los links\n",
    "    links = []\n",
    "    for source in sources:\n",
    "        links.append(source.get_attribute(\"src\"))\n",
    "\n",
    "    numImgs = len(links)\n",
    "    print('Actualmente hay ',numImgs)\n",
    "\n",
    "    numImgs = int(input('cuantas imagenes desea descargar : '))\n",
    "    #Crea la ruta del folder donde se guardaran las fotos\n",
    "    newpath_train = r'train\\\\' + busqueda\n",
    "    newpath_test = r'test\\\\' + busqueda\n",
    "\n",
    "    if not os.path.exists(newpath_train):\n",
    "        os.makedirs(newpath_train)\n",
    "    else:\n",
    "        r = glob.glob(newpath_train +'\\*')\n",
    "        for i in r:\n",
    "           os.remove(i)\n",
    "\n",
    "    if not os.path.exists(newpath_test):\n",
    "        os.makedirs(newpath_test)\n",
    "    else:\n",
    "        r = glob.glob(newpath_test +'\\*')\n",
    "        for i in r:\n",
    "           os.remove(i)\n",
    "\n",
    "    name_train = newpath_train + \"\\image\"\n",
    "    name_test = newpath_test + \"\\image\"\n",
    "    number = 1\n",
    "\n",
    "    #Grea las imagenes\n",
    "    for link in range(numImgs):\n",
    "        if (link < int(numImgs * 0.8)):\n",
    "            file_name = name_train + str(number) + \".jpg\"\n",
    "        else:\n",
    "            file_name = name_test + str(number) + \".jpg\"\n",
    "\n",
    "        if (link == int(numImgs * 0.8) - 1):\n",
    "           number = 0 \n",
    "\n",
    "        urllib.request.urlretrieve(links[link], file_name)\n",
    "        number += 1\n",
    "except:\n",
    "    print('Ha ocurrido un error')\n",
    "finally:\n",
    "  driver.quit()"
   ]
  },
  {
   "cell_type": "code",
   "execution_count": null,
   "metadata": {},
   "outputs": [],
   "source": []
  }
 ],
 "metadata": {
  "kernelspec": {
   "display_name": "Python 3",
   "language": "python",
   "name": "python3"
  },
  "language_info": {
   "codemirror_mode": {
    "name": "ipython",
    "version": 3
   },
   "file_extension": ".py",
   "mimetype": "text/x-python",
   "name": "python",
   "nbconvert_exporter": "python",
   "pygments_lexer": "ipython3",
   "version": "3.7.7"
  }
 },
 "nbformat": 4,
 "nbformat_minor": 4
}
