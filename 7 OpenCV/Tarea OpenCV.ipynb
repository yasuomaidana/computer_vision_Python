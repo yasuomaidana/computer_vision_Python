{
 "cells": [
  {
   "cell_type": "code",
   "execution_count": 1,
   "metadata": {},
   "outputs": [],
   "source": [
    "import cv2\n",
    "import numpy as np"
   ]
  },
  {
   "cell_type": "code",
   "execution_count": 2,
   "metadata": {},
   "outputs": [],
   "source": [
    "fil=cv2.imread('Imagen filtrada.png')\n",
    "meme1=cv2.imread('mostrarH.jpg')\n",
    "meme2=cv2.imread('mostrarV.jpg')\n",
    "cv2.imshow('Imagen filtrada',fil)\n",
    "while(1):\n",
    "    k=cv2.waitKey(5)&0xFF\n",
    "    if k==27:\n",
    "        cv2.destroyAllWindows()\n",
    "        break\n",
    "cv2.imshow('Imagen concatenada horizontalmente',meme1)\n",
    "while(1):\n",
    "    k=cv2.waitKey(5)&0xFF\n",
    "    if k==27:\n",
    "        cv2.destroyAllWindows()\n",
    "        break\n",
    "cv2.imshow('Imagen concatenada verticalemente',meme2)\n",
    "while(1):\n",
    "    k=cv2.waitKey(5)&0xFF\n",
    "    if k==27:\n",
    "        cv2.destroyAllWindows()\n",
    "        break"
   ]
  },
  {
   "cell_type": "code",
   "execution_count": 3,
   "metadata": {},
   "outputs": [],
   "source": [
    "import ejercicio"
   ]
  },
  {
   "cell_type": "code",
   "execution_count": 4,
   "metadata": {},
   "outputs": [],
   "source": [
    "import ejercicio2"
   ]
  },
  {
   "cell_type": "code",
   "execution_count": 6,
   "metadata": {},
   "outputs": [],
   "source": [
    "cv2.VideoCapture(0).release()"
   ]
  },
  {
   "cell_type": "code",
   "execution_count": null,
   "metadata": {},
   "outputs": [],
   "source": []
  }
 ],
 "metadata": {
  "kernelspec": {
   "display_name": "Python 3",
   "language": "python",
   "name": "python3"
  },
  "language_info": {
   "codemirror_mode": {
    "name": "ipython",
    "version": 3
   },
   "file_extension": ".py",
   "mimetype": "text/x-python",
   "name": "python",
   "nbconvert_exporter": "python",
   "pygments_lexer": "ipython3",
   "version": "3.7.7"
  }
 },
 "nbformat": 4,
 "nbformat_minor": 4
}
